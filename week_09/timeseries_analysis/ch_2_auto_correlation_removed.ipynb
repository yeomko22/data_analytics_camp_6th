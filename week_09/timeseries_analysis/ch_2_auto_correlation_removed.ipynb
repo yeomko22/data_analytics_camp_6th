{
 "cells": [
  {
   "cell_type": "markdown",
   "id": "33693a78-3c2b-4a23-9a45-6f101cbec4ef",
   "metadata": {},
   "source": [
    "# ch 2. autocorrelation\n",
    "\n",
    "이번 챕터에서는 시계열 예측 모델에서 중요한 개념 중에 하나인 자기 상관(auto correlation)에 대해서 알아보겠습니다. 자기 상관이란 현재 시점의 값이 이전 시점의 값과 얼만큼 상관관계가 있는 지를 측정한 지표입니다. 이는 ACF, PACF 두 가지 형태의 지표로 측정할 수 있으며, 각각의 개념을 데이터와 함께 알아보겠습니다."
   ]
  },
  {
   "cell_type": "markdown",
   "id": "fbd951ee-64a0-428d-bae6-d916e36586ae",
   "metadata": {},
   "source": [
    "## 데이터 준비"
   ]
  },
  {
   "cell_type": "code",
   "execution_count": null,
   "id": "3dafe5bf-7fd5-4d91-a236-a3ada6dc6532",
   "metadata": {},
   "outputs": [],
   "source": []
  },
  {
   "cell_type": "markdown",
   "id": "b6d0bc82-90b9-42b5-bb62-3fe89a6d67ce",
   "metadata": {},
   "source": [
    "## Autocorrelation과 ACF\n",
    "\n",
    "### Autocorrelation\n",
    "\n",
    "자기 상관이란 현재 시점의 값과 특정한 시차(lag)를 가진 값 간의 상관관계입니다. 이 때 유의미한 자기 상관을 갖는다는 것은 이전 시점의 값이 현재 시점의 값을 예측하는데 도움이 된다는 의미입니다.\n",
    "\n",
    "auto correlation의 측정은 현재 시점의 값과 특정 시차 이전 값 간의 pearson correlation을 측정하면 됩니다."
   ]
  },
  {
   "cell_type": "code",
   "execution_count": null,
   "id": "ebd842b1-3510-4166-9674-fa386fd205f0",
   "metadata": {},
   "outputs": [],
   "source": []
  },
  {
   "cell_type": "markdown",
   "id": "e3314e01-c8fa-478c-b0f6-edb8462d3815",
   "metadata": {},
   "source": [
    "### Auto Correlation Function\n",
    "\n",
    "시차를 늘려가며 자기 상관을 계산하는 함수를 Auto Correlation Function이라고 부릅니다. \n",
    "\n",
    "파란색 영역은 주로 자기상관 함수 값이 통계적으로 유의미하게 0과 다른지를 나타내기 위해 사용됩니다. 통계적으로 유의미한 영역을 초과하는 ACF 값들은 해당 시차(lag)에서 자기상관이 존재한다는 것을 의미합니다. 반대로 파란색 영역 안에 포함되는 경우에는 해당 시차에서 자기상관이 없다고 볼 수 있습니다."
   ]
  },
  {
   "cell_type": "markdown",
   "id": "8e583a48-fa4f-4d5e-beb6-a4b0463014f9",
   "metadata": {},
   "source": [
    "추가로 ACF에서 주기적인 spike가 관찰되면 데이터가 계절성을 띈다고 볼 수 있습니다."
   ]
  },
  {
   "cell_type": "code",
   "execution_count": null,
   "id": "195a7c56-fc61-42d3-8b31-1ecddfe32bed",
   "metadata": {},
   "outputs": [],
   "source": []
  },
  {
   "cell_type": "markdown",
   "id": "5017cd88-18f3-4972-88c8-fb3d4fa4f30a",
   "metadata": {},
   "source": [
    "## Partial Autocorrelation과 PACF\n",
    "\n",
    "### Partial Autocorrelation\n",
    "Partial Autocorrelation은 Auto Correlation과 비슷한 정보를 전달하지만, 중간에 끼어있는 lag들의 영향을 제외한 순수한 현재 시점의 값과 특정 시차 이전 값간의 상관관계를 계산합니다. \n",
    "\n",
    "먼저 lag 1일 때는 중간에 끼인 lag들이 없기 때문에 auto correlation과 동일한 값을 갖습니다.\n",
    "\n",
    "$$\\phi_{1,1}=corr(z_{t+1},z_{t}),\\text{for k=1}$$"
   ]
  },
  {
   "cell_type": "markdown",
   "id": "fc235775-495d-4cd1-a5c6-94e05049bf0c",
   "metadata": {},
   "source": [
    "그 이후부터는 중간에 끼어있는 lag들의 영향을 제외한 다음, correlation을 계산합니다. 예를들어 lag5의 partial auto correlation을 측정하고 싶다면 중간에 끼어있는 lag1, lag2, lag3, lag4의 영향을 제거해준 다음 correlation을 계산하는 것입니다.\n",
    "\n",
    "$$\\phi_{k,k}=corr(z_{t+k}-\\hat{z}_{t+k},z_{t}-\\hat{z}_{t}),\\text{for k ≥ 2}$$\n",
    "\n",
    "수식을 보면 중간에 끼어있는 lag들의 영향을 제거하기 위해서 z_t+k와 z_t를 각각 z^_t+k와 z^t를 빼주었습니다. 이는 각각 중간에 끼어있는 lag 값들로 다중 선형 회귀식을 만들어서 예측한 값들입니다.\n",
    "\n",
    "$$\\hat{z}_{t+k}=\\beta_{1}z_{t+k-1}+...+\\beta_{k-1}z_{t+1}$$\n",
    "\n",
    "$$\\hat{z}_{t}=\\beta_{1}z_{t+1}+...+\\beta_{k-1}z_{t+k-1}$$\n",
    "\n",
    "Partial Auto Correlation에 대해서 더 궁금하신 분들은 아래 아티클을 참고해주세요.  \n",
    "https://hongl.tistory.com/67"
   ]
  },
  {
   "cell_type": "markdown",
   "id": "56509048-62d2-454c-824e-02555c7836ee",
   "metadata": {},
   "source": [
    "### PACF\n",
    "\n",
    "시차를 늘려가며 PAC를 계산하는 함수를 Partial Auto Correlation Function이라고 부릅니다. 마찬가지로 파란색 영역 밖에 PAC 값이 위치하면 PAC가 존재하는 것이고, 영역 안에 위치하면 PAC가 존재하지 않는 것으로 해석할 수 있습니다."
   ]
  },
  {
   "cell_type": "code",
   "execution_count": null,
   "id": "e0005f2b-4506-4f29-a9c9-859b9a2d84ba",
   "metadata": {},
   "outputs": [],
   "source": []
  },
  {
   "cell_type": "markdown",
   "id": "9c1a0e0b-d818-432d-9087-d75d352689c6",
   "metadata": {},
   "source": [
    "## 정리\n",
    "\n",
    "이번 챕터에서는 ACF와 PACF의 개념에 대해서 배우고, 직접 플랏을 그려보았습니다. 이는 뒤에 이어지는 ARIMA 모델을 이해하기 위해서 반드시 필요한 개념이므로 핵심 개념을 잘 기억해두시고 넘어가면 좋겠습니다."
   ]
  },
  {
   "cell_type": "code",
   "execution_count": null,
   "id": "b4e1d946-3de6-43cb-98c3-8ae4c577aeea",
   "metadata": {},
   "outputs": [],
   "source": []
  }
 ],
 "metadata": {
  "kernelspec": {
   "display_name": "Python 3 (ipykernel)",
   "language": "python",
   "name": "python3"
  },
  "language_info": {
   "codemirror_mode": {
    "name": "ipython",
    "version": 3
   },
   "file_extension": ".py",
   "mimetype": "text/x-python",
   "name": "python",
   "nbconvert_exporter": "python",
   "pygments_lexer": "ipython3",
   "version": "3.10.8"
  }
 },
 "nbformat": 4,
 "nbformat_minor": 5
}
