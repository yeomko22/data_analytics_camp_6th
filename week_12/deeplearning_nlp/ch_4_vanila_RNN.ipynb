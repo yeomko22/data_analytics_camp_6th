{
 "cells": [
  {
   "cell_type": "markdown",
   "metadata": {
    "colab_type": "text",
    "id": "view-in-github"
   },
   "source": [
    "<a href=\"https://colab.research.google.com/github/yeomko22/data_analytics_camp_2023_share/blob/main/week19_deeplearning_nlp/ch19_4_vanila_RNN_removed.ipynb\" target=\"_parent\"><img src=\"https://colab.research.google.com/assets/colab-badge.svg\" alt=\"Open In Colab\"/></a>"
   ]
  },
  {
   "cell_type": "markdown",
   "metadata": {
    "id": "uOXnOpGpbShY"
   },
   "source": [
    "# ch 4. vanila RNN\n",
    "\n",
    "컴퓨터 비전 분야에서 CNN을 많이 사용했던 것 처럼, 자연어 처리 분야에서는 RNN이라는 신경망 구조를 많이 사용합니다. 근래에는 transformer로 많이 대체되긴 하였습니다만, 여전히 널리 사용되는 기법입니다. 이번 챕터에서는 RNN을 이용해서 텍스트 분류 모델을 만들어보면서, 개념을 익혀보도록 하겠습니다."
   ]
  },
  {
   "cell_type": "markdown",
   "metadata": {
    "id": "SWXrSVE8f6VJ"
   },
   "source": [
    "## RNN"
   ]
  },
  {
   "cell_type": "markdown",
   "metadata": {
    "id": "DhBiBKxGbVC2"
   },
   "source": [
    "### RNN 기본 구조\n",
    "\n",
    "이전 챕터에서는 각 토큰 별 임베딩 벡터를 평균 낸 뒤, 이를 리니어 레이어에 통과시켜서 예측 결과를 냈습니다. 이 경우, 토큰이 등장하는 순서를 모델에 반영할 수 없습니다. 하지만 자연어는 토큰들이 등장하는 순서, 그리고 앞 뒤에 어느 토큰이 오는지가 중요한 의미를 갖습니다. 이를 반영할 수 있는 모델이 recurrent neural network입니다. 먼저 구조를 살펴보겠습니다."
   ]
  },
  {
   "cell_type": "markdown",
   "metadata": {
    "id": "JzPUJr0wbW3J"
   },
   "source": [
    "![1.png](https://storage.googleapis.com/data-analytics-camp/week12_deeplearning_nlp/2.png)"
   ]
  },
  {
   "cell_type": "markdown",
   "metadata": {
    "id": "zAzBza81basf"
   },
   "source": [
    "먼저 RNN은 자연어 데이터를 시계열 데이터로 봅니다. 그리고 t번째 토큰은 Xt로 표현합니다. ht는 t 시점의 입력 값에 대한 모델의 예측값이 됩니다. 그리고 중간에 자기 자신으로 되돌아가는 화살표가 보이는데 이 부분이 RNN의 핵심입니다. t 시점에 예측값을 계산하기 위해 계산한 상태 값을 다음 시점의 예측값을 내는데 다시 사용한다는 의미입니다. 이를 모든 시점에 대해서 전개하면 아래와 같은 모습이 됩니다."
   ]
  },
  {
   "cell_type": "markdown",
   "metadata": {
    "id": "PoiFo_eFdwCY"
   },
   "source": [
    "![1.png](https://storage.googleapis.com/data-analytics-camp/week12_deeplearning_nlp/3.png)"
   ]
  },
  {
   "cell_type": "markdown",
   "metadata": {
    "id": "vJVfjax8d-eG"
   },
   "source": [
    " 문장 하나는 t개의 토큰이 순서대로 등장하는 시퀀스입니다. 0번째 토큰부터 순서대로 모델에 넣어주면, 해당 시점에 예측 값과 hidden state가 구해집니다. 이제 1번째 토큰을 입력으로 넣으면 0번째 토큰으로 계산한 hidden state를 전달받아서 이를 반영하여 새로운 hidden state와 예측 값을 계산하게 됩니다. 이를 마지막 입력 토큰까지 반복하여 최종 예측 결과값을 내려주는 것이 기본적인 RNN의 구조입니다."
   ]
  },
  {
   "cell_type": "markdown",
   "metadata": {
    "id": "T_J-CZmYf9SG"
   },
   "source": [
    "### RNN 수식 표현"
   ]
  },
  {
   "cell_type": "markdown",
   "metadata": {
    "id": "6ra1hwTigZBb"
   },
   "source": [
    "![1.png](https://storage.googleapis.com/data-analytics-camp/week12_deeplearning_nlp/3.png)"
   ]
  },
  {
   "cell_type": "markdown",
   "metadata": {
    "id": "xmVnf1Yrgz1y"
   },
   "source": [
    "RNN 레이어는 크게 3 종류의 weight를 학습하게 됩니다. 현재 시점 토큰의 임베딩에 곱해주는 Wx, 이전 hidden state에 곱해주는 Wh, 예측 값을 내기위해 현재 hidden state에 곱해주는 Wy입니다. 수식으로 표현하면 아래와 같습니다.\n",
    "\n",
    "$$h_{t}=tanh(W_{x}x_{t}+W_{h}h_{t-1}+b)$$\n",
    "\n",
    "$$y_{t}=f(W_{y}h_{t}+b)$$"
   ]
  },
  {
   "cell_type": "markdown",
   "metadata": {
    "id": "DIwdEI0Mhbsr"
   },
   "source": [
    "### tanh\n",
    "tanh라고 표기된 함수는 hypterbolic tangent라고 부르며, RNN 계열에서 많이 사용합니다. 이를 시각화해보면 sigmoid 함수와 상당히 유사합니다만, 출력 값의 범위가 -1과 1 사이가 됩니다.\n",
    "\n",
    "$$tanh(x)=\\frac{e^{x}-e^{-x}}{e^{x}+e^{-x}}$$"
   ]
  },
  {
   "cell_type": "code",
   "execution_count": 2,
   "metadata": {
    "colab": {
     "base_uri": "https://localhost:8080/",
     "height": 333
    },
    "id": "y-LeBs1ohq5Y",
    "outputId": "00047b8b-f90b-43c5-bcca-4753547b4104"
   },
   "outputs": [
    {
     "data": {
      "image/png": "[encoded data removed]",
      "text/plain": [
       "<Figure size 500x300 with 1 Axes>"
      ]
     },
     "metadata": {},
     "output_type": "display_data"
    }
   ],
   "source": [
    "import numpy as np\n",
    "import matplotlib.pyplot as plt\n",
    "\n",
    "x = np.linspace(-6, 6, 121)\n",
    "y = (np.exp(x)- np.exp(-x)) / (np.exp(x) + np.exp(-x))\n",
    "plt.figure(figsize=(5, 3))\n",
    "plt.plot(x, y)\n",
    "plt.grid()\n",
    "plt.xlim(-6, 6)\n",
    "plt.xlabel('x')\n",
    "plt.title('tanh function')\n",
    "plt.show()"
   ]
  },
  {
   "cell_type": "markdown",
   "metadata": {
    "id": "w487TaiNfrSX"
   },
   "source": [
    "## 사전 작업\n",
    "\n",
    "문장 분류 모델을 학습시키기 위한 사전 작업을 진행해보겠습니다. 데이터 셋을 불러오고, 토크나이저와 데이터 셋, 데이터 로더를 작성하겠습니다."
   ]
  },
  {
   "cell_type": "markdown",
   "metadata": {
    "id": "uJje6_c8if8O"
   },
   "source": [
    "### 데이터 셋 준비"
   ]
  },
  {
   "cell_type": "code",
   "execution_count": 5,
   "metadata": {
    "id": "5IrzsP0vifYa"
   },
   "outputs": [],
   "source": [
    "import pandas as pd\n",
    "\n",
    "train_df = pd.read_csv(\"./data/naver_reviews_train.csv\")\n",
    "val_df = pd.read_csv(\"./data/naver_reviews_test.csv\")"
   ]
  },
  {
   "cell_type": "code",
   "execution_count": 6,
   "metadata": {
    "id": "NxjPjkFyj5nn"
   },
   "outputs": [],
   "source": [
    "train_df = train_df.dropna()\n",
    "val_df = val_df.dropna()"
   ]
  },
  {
   "cell_type": "markdown",
   "metadata": {
    "id": "L_LrsZApkHuv"
   },
   "source": [
    "### tokenizer 준비"
   ]
  },
  {
   "cell_type": "code",
   "execution_count": 7,
   "metadata": {
    "colab": {
     "base_uri": "https://localhost:8080/"
    },
    "id": "HnAHgVhbkLct",
    "outputId": "ff10b805-9581-4e87-ed01-dde4f27692b6"
   },
   "outputs": [
    {
     "name": "stdout",
     "output_type": "stream",
     "text": [
      "Requirement already satisfied: tokenizers in /Users/user/miniconda3/lib/python3.10/site-packages (0.15.0)\n",
      "Requirement already satisfied: huggingface_hub<1.0,>=0.16.4 in /Users/user/miniconda3/lib/python3.10/site-packages (from tokenizers) (0.20.2)\n",
      "Requirement already satisfied: filelock in /Users/user/miniconda3/lib/python3.10/site-packages (from huggingface_hub<1.0,>=0.16.4->tokenizers) (3.9.0)\n",
      "Requirement already satisfied: fsspec>=2023.5.0 in /Users/user/miniconda3/lib/python3.10/site-packages (from huggingface_hub<1.0,>=0.16.4->tokenizers) (2023.9.2)\n",
      "Requirement already satisfied: requests in /Users/user/miniconda3/lib/python3.10/site-packages (from huggingface_hub<1.0,>=0.16.4->tokenizers) (2.31.0)\n",
      "Requirement already satisfied: tqdm>=4.42.1 in /Users/user/miniconda3/lib/python3.10/site-packages (from huggingface_hub<1.0,>=0.16.4->tokenizers) (4.64.1)\n",
      "Requirement already satisfied: pyyaml>=5.1 in /Users/user/miniconda3/lib/python3.10/site-packages (from huggingface_hub<1.0,>=0.16.4->tokenizers) (6.0)\n",
      "Requirement already satisfied: typing-extensions>=3.7.4.3 in /Users/user/miniconda3/lib/python3.10/site-packages (from huggingface_hub<1.0,>=0.16.4->tokenizers) (4.7.1)\n",
      "Requirement already satisfied: packaging>=20.9 in /Users/user/miniconda3/lib/python3.10/site-packages (from huggingface_hub<1.0,>=0.16.4->tokenizers) (23.0)\n",
      "Requirement already satisfied: charset-normalizer<4,>=2 in /Users/user/miniconda3/lib/python3.10/site-packages (from requests->huggingface_hub<1.0,>=0.16.4->tokenizers) (3.2.0)\n",
      "Requirement already satisfied: idna<4,>=2.5 in /Users/user/miniconda3/lib/python3.10/site-packages (from requests->huggingface_hub<1.0,>=0.16.4->tokenizers) (2.10)\n",
      "Requirement already satisfied: urllib3<3,>=1.21.1 in /Users/user/miniconda3/lib/python3.10/site-packages (from requests->huggingface_hub<1.0,>=0.16.4->tokenizers) (1.26.13)\n",
      "Requirement already satisfied: certifi>=2017.4.17 in /Users/user/miniconda3/lib/python3.10/site-packages (from requests->huggingface_hub<1.0,>=0.16.4->tokenizers) (2022.12.7)\n",
      "\u001b[33mDEPRECATION: pytorch-lightning 1.8.3.post1 has a non-standard dependency specifier torch>=1.9.*. pip 24.0 will enforce this behaviour change. A possible replacement is to upgrade to a newer version of pytorch-lightning or contact the author to suggest that they release a version with a conforming dependency specifiers. Discussion can be found at https://github.com/pypa/pip/issues/12063\u001b[0m\u001b[33m\n",
      "\u001b[0m\u001b[33mDEPRECATION: mecab-python 0.996-ko-0.9.2 has a non-standard version number. pip 24.0 will enforce this behaviour change. A possible replacement is to upgrade to a newer version of mecab-python or contact the author to suggest that they release a version with a conforming version number. Discussion can be found at https://github.com/pypa/pip/issues/12063\u001b[0m\u001b[33m\n",
      "\u001b[0m"
     ]
    }
   ],
   "source": [
    "!pip install tokenizers"
   ]
  },
  {
   "cell_type": "code",
   "execution_count": 9,
   "metadata": {
    "id": "pv8qVUCokAQg"
   },
   "outputs": [],
   "source": [
    "from tokenizers import Tokenizer\n",
    "\n",
    "tokenizer = Tokenizer.from_file(\"./data/tokenizer.json\")"
   ]
  },
  {
   "cell_type": "markdown",
   "metadata": {
    "id": "RHhDkqzNkTC7"
   },
   "source": [
    "### Dataset"
   ]
  },
  {
   "cell_type": "code",
   "execution_count": 10,
   "metadata": {
    "id": "BWN_gHkUkGQ1"
   },
   "outputs": [],
   "source": [
    "from torch.utils.data import Dataset\n",
    "\n",
    "class CustomTextDataset(Dataset):\n",
    "    def __init__(self, corpus_df, transform=None):\n",
    "        self.corpus_df = corpus_df\n",
    "        self.transform = transform\n",
    "\n",
    "    def __len__(self):\n",
    "        return len(self.corpus_df)\n",
    "\n",
    "    def __getitem__(self, idx):\n",
    "        text, label = self.corpus_df.iloc[idx]\n",
    "        return text, label"
   ]
  },
  {
   "cell_type": "code",
   "execution_count": 11,
   "metadata": {
    "id": "D7R6WihKkaij"
   },
   "outputs": [],
   "source": [
    "train_dataset = CustomTextDataset(train_df)\n",
    "val_dataset = CustomTextDataset(val_df)"
   ]
  },
  {
   "cell_type": "markdown",
   "metadata": {
    "id": "Y7C2En_zs8i-"
   },
   "source": [
    "### DataLoader\n",
    "\n",
    "dataloader 구현 시에 배치 내 각 문장별 토큰 개수를 집계한 batch_lengths를 추가로 리턴해주도록 합니다. 이는 RNN 학습 시에 pack_padded_sequence를 사용하기 위함이입니다."
   ]
  },
  {
   "cell_type": "code",
   "execution_count": 12,
   "metadata": {
    "id": "Lp_y6g3JkcCd"
   },
   "outputs": [],
   "source": [
    "MAX_TOKENS = 256\n",
    "BATCH_SIZE = 128"
   ]
  },
  {
   "cell_type": "code",
   "execution_count": 13,
   "metadata": {
    "id": "ppR8whfbkpRL"
   },
   "outputs": [],
   "source": [
    "vocabs = tokenizer.get_vocab()\n",
    "pad_token = vocabs[\"[PAD]\"]"
   ]
  },
  {
   "cell_type": "code",
   "execution_count": 127,
   "metadata": {
    "id": "uyDIXfBLkfy1"
   },
   "outputs": [],
   "source": [
    "import torch\n",
    "from torch.nn.utils.rnn import pad_sequence\n",
    "\n",
    "def _tokenize(text):\n",
    "    tokens = tokenizer.encode(text).ids\n",
    "    tokens = tokens[:MAX_TOKENS]\n",
    "    token_tensor = torch.tensor(tokens, dtype=torch.long)\n",
    "    return token_tensor\n",
    "\n",
    "def collate_fn(batch):\n",
    "    batch_text = [x[0] for x in batch]\n",
    "    batch_label = torch.tensor([x[1] for x in batch], dtype=torch.long)\n",
    "    batch_tokens = [_tokenize(x) for x in batch_text]\n",
    "    batch_padded = pad_sequence(batch_tokens, padding_value=pad_token)\n",
    "    return batch_padded, batch_label"
   ]
  },
  {
   "cell_type": "code",
   "execution_count": 128,
   "metadata": {
    "id": "jwJufBpckhCz"
   },
   "outputs": [],
   "source": [
    "from torch.utils.data import DataLoader\n",
    "\n",
    "train_dataloader = DataLoader(\n",
    "    train_dataset,\n",
    "    batch_size=BATCH_SIZE,\n",
    "    shuffle=True,\n",
    "    collate_fn=collate_fn\n",
    ")"
   ]
  },
  {
   "cell_type": "code",
   "execution_count": 129,
   "metadata": {
    "id": "TkBbOftaky9M"
   },
   "outputs": [],
   "source": [
    "val_dataloader = DataLoader(\n",
    "    val_dataset,\n",
    "    batch_size=BATCH_SIZE,\n",
    "    collate_fn=collate_fn\n",
    ")"
   ]
  },
  {
   "cell_type": "code",
   "execution_count": 130,
   "metadata": {
    "colab": {
     "base_uri": "https://localhost:8080/"
    },
    "id": "j4Ffu7l0kuKQ",
    "outputId": "9f0b8c89-c77e-44fd-df18-b5f434495ab9"
   },
   "outputs": [
    {
     "data": {
      "text/plain": [
       "(tensor([[ 381, 1843, 6079,  ..., 1669, 8491, 6716],\n",
       "         [9497, 2650, 1104,  ..., 8004, 8457, 4875],\n",
       "         [5195, 5598, 2650,  ..., 5360, 8412,  597],\n",
       "         ...,\n",
       "         [   0,    0,    0,  ...,    0,    0,    0],\n",
       "         [   0,    0,    0,  ...,    0,    0,    0],\n",
       "         [   0,    0,    0,  ...,    0,    0,    0]]),\n",
       " tensor([1, 0, 0, 1, 0, 0, 1, 1, 1, 1, 0, 1, 1, 1, 1, 1, 0, 1, 0, 1, 0, 0, 1, 1,\n",
       "         1, 0, 1, 0, 1, 1, 1, 0, 0, 1, 1, 0, 0, 1, 0, 1, 0, 1, 1, 0, 1, 0, 0, 0,\n",
       "         1, 0, 1, 0, 0, 0, 1, 0, 0, 0, 1, 0, 0, 1, 1, 1, 1, 0, 1, 1, 1, 1, 1, 1,\n",
       "         0, 0, 1, 1, 0, 0, 0, 0, 0, 0, 1, 0, 1, 1, 0, 0, 0, 1, 1, 0, 0, 1, 0, 1,\n",
       "         1, 0, 1, 1, 1, 1, 1, 1, 0, 1, 1, 0, 0, 0, 0, 1, 0, 1, 1, 0, 0, 1, 1, 1,\n",
       "         0, 1, 1, 0, 0, 1, 0, 0]))"
      ]
     },
     "execution_count": 130,
     "metadata": {},
     "output_type": "execute_result"
    }
   ],
   "source": [
    "next(iter(train_dataloader))"
   ]
  },
  {
   "cell_type": "markdown",
   "metadata": {
    "id": "9cBk-c9Otgyu"
   },
   "source": [
    "### pack_padded_sequence\n",
    "\n",
    "padding을 추가하게 되면 시퀀스 뒤에 0이 붙게 됩니다. 이는 길이를 맞추기 위함으로 실제 의미는 없습니다. 그런데 이를 그대로 RNN에 전달하면, 추가된 0만큼 불필요한 계산을 하게 됩니다.\n",
    "\n",
    "이를 방지하기 위해서 torch가 제공하는 기능이 pack_padded_sequence입니다. 먼저 예시 문장들을 토큰화 한 뒤, 패딩을 채워보겠습니다."
   ]
  },
  {
   "cell_type": "code",
   "execution_count": 131,
   "metadata": {
    "id": "X7M_2fr8kSSw"
   },
   "outputs": [],
   "source": [
    "samples = [\"꿀잼\", \"노잼 비추\", \"감동적인 대작!! 울면서 봤습니다.\"]\n",
    "tokens = [_tokenize(x) for x in samples]"
   ]
  },
  {
   "cell_type": "code",
   "execution_count": 132,
   "metadata": {},
   "outputs": [
    {
     "data": {
      "text/plain": [
       "([tensor([6020]),\n",
       "  tensor([5682, 6208]),\n",
       "  tensor([5787, 6291, 4893, 9687, 5467,    7])],\n",
       " [1, 2, 6])"
      ]
     },
     "execution_count": 132,
     "metadata": {},
     "output_type": "execute_result"
    }
   ],
   "source": [
    "tokens, lengths"
   ]
  },
  {
   "cell_type": "code",
   "execution_count": 133,
   "metadata": {},
   "outputs": [
    {
     "data": {
      "text/plain": [
       "tensor([[6020, 5682, 5787],\n",
       "        [   0, 6208, 6291],\n",
       "        [   0,    0, 4893],\n",
       "        [   0,    0, 9687],\n",
       "        [   0,    0, 5467],\n",
       "        [   0,    0,    7]])"
      ]
     },
     "execution_count": 133,
     "metadata": {},
     "output_type": "execute_result"
    }
   ],
   "source": [
    "padded = pad_sequence(tokens)\n",
    "padded"
   ]
  },
  {
   "cell_type": "code",
   "execution_count": 134,
   "metadata": {},
   "outputs": [
    {
     "data": {
      "text/plain": [
       "tensor([1, 2, 6])"
      ]
     },
     "execution_count": 134,
     "metadata": {},
     "output_type": "execute_result"
    }
   ],
   "source": [
    "text_lengths = (padded != 0).long().sum(dim=0) \n",
    "text_lengths"
   ]
  },
  {
   "cell_type": "markdown",
   "metadata": {
    "id": "PgFY7xJIuMEH"
   },
   "source": [
    "이를 pack_padded_sequence를 이용해서 압축해보겠습니다."
   ]
  },
  {
   "cell_type": "code",
   "execution_count": 135,
   "metadata": {
    "id": "XSPt5ikekTHH"
   },
   "outputs": [
    {
     "data": {
      "text/plain": [
       "PackedSequence(data=tensor([5787, 5682, 6020, 6291, 6208, 4893, 9687, 5467,    7]), batch_sizes=tensor([3, 2, 1, 1, 1, 1]), sorted_indices=tensor([2, 1, 0]), unsorted_indices=tensor([2, 1, 0]))"
      ]
     },
     "execution_count": 135,
     "metadata": {},
     "output_type": "execute_result"
    }
   ],
   "source": [
    "from torch.nn.utils.rnn import pack_padded_sequence\n",
    "\n",
    "packed_sequence = pack_padded_sequence(padded, text_lengths, enforce_sorted=False)\n",
    "packed_sequence"
   ]
  },
  {
   "cell_type": "markdown",
   "metadata": {
    "id": "DZZl_2PCxfnQ"
   },
   "source": [
    "pack_padded_sequence 결과를 보면 기존에 0으로 채워졌던 부분들이 제거되고 데이터들이 일렬로 펼쳐진 것을 확인할 수 있습니다. batch_sizes는 각 행마다 0이 아닌 값들의 개수를 집계한 숫자입니다. sorted_index는 0이 아닌 토큰 값들이 많은 열을 정렬한 결과입니다."
   ]
  },
  {
   "cell_type": "code",
   "execution_count": 136,
   "metadata": {
    "id": "7z4gsp0lkUEa"
   },
   "outputs": [
    {
     "name": "stdout",
     "output_type": "stream",
     "text": [
      "data tensor([5787, 5682, 6020, 6291, 6208, 4893, 9687, 5467,    7])\n",
      "batch_size tensor([3, 2, 1, 1, 1, 1])\n",
      "sorted_index tensor([2, 1, 0])\n"
     ]
    }
   ],
   "source": [
    "print(\"data\", packed_sequence.data)\n",
    "print(\"batch_size\", packed_sequence.batch_sizes)\n",
    "print(\"sorted_index\", packed_sequence.sorted_indices)"
   ]
  },
  {
   "cell_type": "markdown",
   "metadata": {
    "id": "Am2k65xSxqfM"
   },
   "source": [
    "![1.png](https://storage.googleapis.com/data-analytics-camp/week12_deeplearning_nlp/5.png)"
   ]
  },
  {
   "cell_type": "markdown",
   "metadata": {
    "id": "zU7_307G1-p5"
   },
   "source": [
    "data는 결국 각 행마다 0이 아닌 값들을 일렬로 펼쳐서 이어붙인 결과로 볼 수 있습니다. batch_size와 sorted_index를 이용하면 원래의 형태로 복원이 가능합니다."
   ]
  },
  {
   "cell_type": "markdown",
   "metadata": {
    "id": "QfXcEhT01no0"
   },
   "source": [
    "![1.png](https://storage.googleapis.com/data-analytics-camp/week12_deeplearning_nlp/6.png)"
   ]
  },
  {
   "cell_type": "markdown",
   "metadata": {
    "id": "HxVpH0xy-7IW"
   },
   "source": [
    "### pad_packed_sequence\n",
    "torch에서 제공하는 pad_packed_sequence 함수를 사용하면 다시 원래의 상태로 복원할 수 있습니다."
   ]
  },
  {
   "cell_type": "code",
   "execution_count": 137,
   "metadata": {
    "id": "r4p6pmaskVSU"
   },
   "outputs": [
    {
     "data": {
      "text/plain": [
       "(tensor([[6020, 5682, 5787],\n",
       "         [   0, 6208, 6291],\n",
       "         [   0,    0, 4893],\n",
       "         [   0,    0, 9687],\n",
       "         [   0,    0, 5467],\n",
       "         [   0,    0,    7]]),\n",
       " tensor([1, 2, 6]))"
      ]
     },
     "execution_count": 137,
     "metadata": {},
     "output_type": "execute_result"
    }
   ],
   "source": [
    "from torch.nn.utils.rnn import pad_packed_sequence\n",
    "\n",
    "pad_packed_sequence(packed_sequence)"
   ]
  },
  {
   "cell_type": "markdown",
   "metadata": {
    "id": "_YdFtrVW_THZ"
   },
   "source": [
    "torch를 이용해서 RNN 모델을 학습시킬 때, 학습을 빠르게 진행시키기 위해서는 RNN 통과 전에 pack_padded_sequence를 해주고, RNN을 통과시킨 이후에 pad_padded_sequence를 해주어 보원시켜주면 됩니다."
   ]
  },
  {
   "cell_type": "markdown",
   "metadata": {
    "id": "Jh_eoD_ik-0b"
   },
   "source": [
    "## RNN 문장 분류 모델 학습\n",
    "\n",
    "이제 RNN을 이용해서 문장을 분류하는 모델을 만들고, 이를 학습시켜보겠습니다. 전반적인 구조는 아래와 같습니다."
   ]
  },
  {
   "cell_type": "markdown",
   "metadata": {
    "id": "fK6LncCRDm_N"
   },
   "source": [
    "![1.png](https://storage.googleapis.com/data-analytics-camp/week12_deeplearning_nlp/7.png)"
   ]
  },
  {
   "cell_type": "markdown",
   "metadata": {
    "id": "47LowjsglaoH"
   },
   "source": [
    "### RNN 문장 분류 모델 작성"
   ]
  },
  {
   "cell_type": "code",
   "execution_count": 139,
   "metadata": {
    "id": "xAOyEQQhkWmh"
   },
   "outputs": [],
   "source": [
    "from torch import nn\n",
    "from torch.nn.utils.rnn import pack_padded_sequence, pad_packed_sequence\n",
    "\n",
    "class RNNModel(nn.Module):\n",
    "    def __init__(self, vocab_size, embedding_dim, hidden_dim, num_layers, bidirectional, output_dim):\n",
    "        super().__init__()\n",
    "        self.embedding = nn.Embedding(\n",
    "            num_embeddings=vocab_size,\n",
    "            embedding_dim=embedding_dim\n",
    "        )\n",
    "        self.rnn = nn.RNN(\n",
    "            input_size=embedding_dim,\n",
    "            hidden_size=hidden_dim,\n",
    "            num_layers=num_layers,\n",
    "            bidirectional=bidirectional,\n",
    "            dropout=0.5\n",
    "        )\n",
    "        if bidirectional:\n",
    "            self.fc = nn.Linear(2 * hidden_dim, output_dim)\n",
    "        else:\n",
    "            self.fc = nn.Linear(hidden_dim, output_dim)\n",
    "        self.dropout = nn.Dropout(0.5)\n",
    "\n",
    "    def forward(self, x):\n",
    "        text_lengths = (x != 0).long().sum(dim=0)\n",
    "        embedded = self.dropout(self.embedding(x))\n",
    "        packed_embedded = pack_padded_sequence(embedded, text_lengths, enforce_sorted=False)\n",
    "        packed_output, hidden = self.rnn(packed_embedded)\n",
    "        output, output_lengths = pad_packed_sequence(packed_output)\n",
    "        if self.rnn.bidirectional:\n",
    "            hidden = self.dropout(torch.cat((hidden[-2, :, :], hidden[-1, :, :]), dim=1))\n",
    "        else:\n",
    "            hidden = self.dropout(hidden[-1, :, :])\n",
    "        return self.fc(hidden)"
   ]
  },
  {
   "cell_type": "code",
   "execution_count": 140,
   "metadata": {},
   "outputs": [],
   "source": [
    "VOCAB_SIZE = len(tokenizer.get_vocab())\n",
    "EMBEDDING_DIM = 128\n",
    "HIDDEN_DIM = 64\n",
    "OUTPUT_DIM = 2"
   ]
  },
  {
   "cell_type": "code",
   "execution_count": 141,
   "metadata": {},
   "outputs": [],
   "source": [
    "model = RNNModel(\n",
    "    vocab_size=VOCAB_SIZE,\n",
    "    embedding_dim=EMBEDDING_DIM,\n",
    "    hidden_dim=HIDDEN_DIM,\n",
    "    num_layers=1,\n",
    "    output_dim=OUTPUT_DIM,\n",
    "    bidirectional=False\n",
    ")"
   ]
  },
  {
   "cell_type": "markdown",
   "metadata": {
    "id": "7hxL5LPUpaHm"
   },
   "source": [
    "### 학습 코드 준비"
   ]
  },
  {
   "cell_type": "code",
   "execution_count": 142,
   "metadata": {
    "id": "5F2vNYfrpXHx"
   },
   "outputs": [],
   "source": [
    "def get_mean(metrics):\n",
    "    return round(sum(metrics) / len(metrics), 4)"
   ]
  },
  {
   "cell_type": "code",
   "execution_count": 143,
   "metadata": {
    "id": "i_r0I1Hepda7"
   },
   "outputs": [],
   "source": [
    "from collections import defaultdict\n",
    "import numpy as np\n",
    "from tqdm import tqdm\n",
    "from sklearn.metrics import accuracy_score\n",
    "\n",
    "\n",
    "def train_model(model):\n",
    "    model.train()\n",
    "    loss_list = []\n",
    "    acc_list = []\n",
    "    for x_train, y_train in tqdm(train_dataloader):\n",
    "        x_train = x_train.to(device)\n",
    "        y_train = y_train.to(device)\n",
    "\n",
    "        outputs = model(x_train)\n",
    "        loss = criterion(outputs, y_train)\n",
    "        loss_list.append(loss.item())\n",
    "\n",
    "        optimizer.zero_grad()\n",
    "        loss.backward()\n",
    "        optimizer.step()\n",
    "\n",
    "        pred = torch.argmax(outputs, dim=1)\n",
    "        acc = ((y_train == pred).sum() / len(y_train)).item()\n",
    "        acc_list.append(acc)\n",
    "    return get_mean(loss_list), get_mean(acc_list)"
   ]
  },
  {
   "cell_type": "code",
   "execution_count": 144,
   "metadata": {
    "id": "xSvqySNbpesx"
   },
   "outputs": [],
   "source": [
    "def validate_model(model):\n",
    "    model.eval()\n",
    "    loss_list = []\n",
    "    acc_list = []\n",
    "    for x_val, y_val in tqdm(val_dataloader):\n",
    "        x_val = x_val.to(device)\n",
    "        y_val = y_val.to(device)\n",
    "        with torch.no_grad():\n",
    "            outputs = model(x_val)\n",
    "            loss = criterion(outputs, y_val)\n",
    "            loss_list.append(loss.item())\n",
    "\n",
    "            pred = torch.argmax(outputs, dim=1)\n",
    "            acc = ((y_val == pred).sum() / len(y_val)).item()\n",
    "            acc_list.append(acc)\n",
    "    return get_mean(loss_list), get_mean(acc_list)"
   ]
  },
  {
   "cell_type": "code",
   "execution_count": 145,
   "metadata": {
    "id": "zOnvI5N-pgJA"
   },
   "outputs": [],
   "source": [
    "from collections import defaultdict\n",
    "\n",
    "\n",
    "def train_validate_model(model):\n",
    "    logs = defaultdict(list)\n",
    "    for epoch in range(epochs):\n",
    "        train_loss, train_acc = train_model(model)\n",
    "        val_loss, val_acc = validate_model(model)\n",
    "        logs[\"train_loss\"].append(train_loss)\n",
    "        logs[\"train_acc\"].append(train_acc)\n",
    "        logs[\"val_loss\"].append(val_loss)\n",
    "        logs[\"val_acc\"].append(val_acc)\n",
    "        print(f\"epoch {epoch + 1} train - loss: {train_loss} acc: {train_acc} val - loss: {val_loss} acc: {val_acc}\")\n",
    "    return logs"
   ]
  },
  {
   "cell_type": "code",
   "execution_count": 146,
   "metadata": {
    "id": "2IwLAPPCpire"
   },
   "outputs": [],
   "source": [
    "from matplotlib import pyplot as plt\n",
    "\n",
    "def plot_logs(logs):\n",
    "    fig = plt.figure(figsize=(10, 4))\n",
    "\n",
    "    ax0 = fig.add_subplot(1, 2, 1)\n",
    "    ax1 = fig.add_subplot(1, 2, 2)\n",
    "    ax0.plot(logs[\"train_loss\"], label=\"train\")\n",
    "    ax0.plot(logs[\"val_loss\"], label=\"val\")\n",
    "    ax0.legend()\n",
    "    ax0.set_title(\"loss\")\n",
    "\n",
    "    ax1.plot(logs[\"train_acc\"], label=\"train\")\n",
    "    ax1.plot(logs[\"val_acc\"], label=\"val\")\n",
    "    ax1.legend()\n",
    "    ax1.set_title(\"accuracy\")\n",
    "    plt.legend()"
   ]
  },
  {
   "cell_type": "markdown",
   "metadata": {
    "id": "Zno3lRi3pmBz"
   },
   "source": [
    "### 하이퍼 파라미터 셋팅"
   ]
  },
  {
   "cell_type": "code",
   "execution_count": 149,
   "metadata": {
    "id": "O9yAliizkbtI"
   },
   "outputs": [],
   "source": [
    "device = torch.device(\"cuda\" if torch.cuda.is_available() else \"cpu\")\n",
    "learning_rate = 0.001\n",
    "criterion = torch.nn.CrossEntropyLoss()\n",
    "optimizer = torch.optim.Adam(model.parameters(), lr=learning_rate)\n",
    "epochs = 10"
   ]
  },
  {
   "cell_type": "markdown",
   "metadata": {
    "id": "XGkXmg0Fpp3C"
   },
   "source": [
    "### 학습"
   ]
  },
  {
   "cell_type": "code",
   "execution_count": 150,
   "metadata": {
    "id": "DoUMzd9mkctZ"
   },
   "outputs": [
    {
     "name": "stderr",
     "output_type": "stream",
     "text": [
      "100%|█████████████████████████████████████████████████████████████████| 1172/1172 [00:37<00:00, 30.92it/s]\n",
      "100%|███████████████████████████████████████████████████████████████████| 391/391 [00:04<00:00, 87.24it/s]\n"
     ]
    },
    {
     "name": "stdout",
     "output_type": "stream",
     "text": [
      "epoch 1 train - loss: 0.623 acc: 0.6463 val - loss: 0.5388 acc: 0.7447\n"
     ]
    },
    {
     "name": "stderr",
     "output_type": "stream",
     "text": [
      "100%|█████████████████████████████████████████████████████████████████| 1172/1172 [00:38<00:00, 30.76it/s]\n",
      "100%|███████████████████████████████████████████████████████████████████| 391/391 [00:04<00:00, 90.05it/s]\n"
     ]
    },
    {
     "name": "stdout",
     "output_type": "stream",
     "text": [
      "epoch 2 train - loss: 0.5021 acc: 0.7641 val - loss: 0.5221 acc: 0.7778\n"
     ]
    },
    {
     "name": "stderr",
     "output_type": "stream",
     "text": [
      "100%|█████████████████████████████████████████████████████████████████| 1172/1172 [00:37<00:00, 31.07it/s]\n",
      "100%|███████████████████████████████████████████████████████████████████| 391/391 [00:04<00:00, 90.31it/s]\n"
     ]
    },
    {
     "name": "stdout",
     "output_type": "stream",
     "text": [
      "epoch 3 train - loss: 0.4543 acc: 0.7969 val - loss: 0.4717 acc: 0.7973\n"
     ]
    },
    {
     "name": "stderr",
     "output_type": "stream",
     "text": [
      "100%|█████████████████████████████████████████████████████████████████| 1172/1172 [00:37<00:00, 31.04it/s]\n",
      "100%|███████████████████████████████████████████████████████████████████| 391/391 [00:04<00:00, 90.53it/s]\n"
     ]
    },
    {
     "name": "stdout",
     "output_type": "stream",
     "text": [
      "epoch 4 train - loss: 0.4294 acc: 0.8106 val - loss: 0.4677 acc: 0.8125\n"
     ]
    },
    {
     "name": "stderr",
     "output_type": "stream",
     "text": [
      "100%|█████████████████████████████████████████████████████████████████| 1172/1172 [00:37<00:00, 30.94it/s]\n",
      "100%|███████████████████████████████████████████████████████████████████| 391/391 [00:04<00:00, 90.11it/s]\n"
     ]
    },
    {
     "name": "stdout",
     "output_type": "stream",
     "text": [
      "epoch 5 train - loss: 0.4121 acc: 0.8203 val - loss: 0.4173 acc: 0.8275\n"
     ]
    },
    {
     "name": "stderr",
     "output_type": "stream",
     "text": [
      "100%|█████████████████████████████████████████████████████████████████| 1172/1172 [00:37<00:00, 30.93it/s]\n",
      "100%|███████████████████████████████████████████████████████████████████| 391/391 [00:04<00:00, 89.94it/s]\n"
     ]
    },
    {
     "name": "stdout",
     "output_type": "stream",
     "text": [
      "epoch 6 train - loss: 0.3964 acc: 0.8262 val - loss: 0.4543 acc: 0.8199\n"
     ]
    },
    {
     "name": "stderr",
     "output_type": "stream",
     "text": [
      "100%|█████████████████████████████████████████████████████████████████| 1172/1172 [00:37<00:00, 31.01it/s]\n",
      "100%|███████████████████████████████████████████████████████████████████| 391/391 [00:04<00:00, 90.27it/s]\n"
     ]
    },
    {
     "name": "stdout",
     "output_type": "stream",
     "text": [
      "epoch 7 train - loss: 0.3866 acc: 0.8309 val - loss: 0.4411 acc: 0.8269\n"
     ]
    },
    {
     "name": "stderr",
     "output_type": "stream",
     "text": [
      "100%|█████████████████████████████████████████████████████████████████| 1172/1172 [00:37<00:00, 30.95it/s]\n",
      "100%|███████████████████████████████████████████████████████████████████| 391/391 [00:04<00:00, 90.54it/s]\n"
     ]
    },
    {
     "name": "stdout",
     "output_type": "stream",
     "text": [
      "epoch 8 train - loss: 0.3785 acc: 0.8337 val - loss: 0.4266 acc: 0.8297\n"
     ]
    },
    {
     "name": "stderr",
     "output_type": "stream",
     "text": [
      "100%|█████████████████████████████████████████████████████████████████| 1172/1172 [00:37<00:00, 30.99it/s]\n",
      "100%|███████████████████████████████████████████████████████████████████| 391/391 [00:04<00:00, 90.60it/s]\n"
     ]
    },
    {
     "name": "stdout",
     "output_type": "stream",
     "text": [
      "epoch 9 train - loss: 0.3764 acc: 0.8362 val - loss: 0.4101 acc: 0.8326\n"
     ]
    },
    {
     "name": "stderr",
     "output_type": "stream",
     "text": [
      "100%|█████████████████████████████████████████████████████████████████| 1172/1172 [00:37<00:00, 31.07it/s]\n",
      "100%|███████████████████████████████████████████████████████████████████| 391/391 [00:04<00:00, 89.36it/s]\n"
     ]
    },
    {
     "name": "stdout",
     "output_type": "stream",
     "text": [
      "epoch 10 train - loss: 0.3679 acc: 0.8402 val - loss: 0.4185 acc: 0.8301\n"
     ]
    },
    {
     "data": {
      "image/png": "[encoded data removed]",
      "text/plain": [
       "<Figure size 1000x400 with 2 Axes>"
      ]
     },
     "metadata": {},
     "output_type": "display_data"
    }
   ],
   "source": [
    "logs = train_validate_model(model)\n",
    "plot_logs(logs)"
   ]
  },
  {
   "cell_type": "markdown",
   "metadata": {
    "id": "3ey8n9siGt4r"
   },
   "source": [
    "## RNN 변형하기\n",
    "\n",
    "방금 전에는 RNN을 1개 층만 쌓아서 학습을 시켜보았습니다. 이번에는 RNN 기본 구조를 약간 변형하여 학습시키는 기법들에 대해서 알아보겠습니다."
   ]
  },
  {
   "cell_type": "markdown",
   "metadata": {
    "id": "IcL5y2HYHFHD"
   },
   "source": [
    "### bi-directional RNN\n",
    "\n",
    "hidden state를 등장한 순서대로 흘려보내는 방식과, 역순으로 흘려보내는 방식을 모두 학습시키는 방법입니다. 여기서 얻은 마지막 시점의 hidden state를 Fully Connected Layer에 통과시킨 후, 예측 결과를 얻습니다."
   ]
  },
  {
   "cell_type": "markdown",
   "metadata": {
    "id": "SaHhu73dHb2O"
   },
   "source": [
    "![1.png](https://storage.googleapis.com/data-analytics-camp/week12_deeplearning_nlp/8.png)"
   ]
  },
  {
   "cell_type": "code",
   "execution_count": 151,
   "metadata": {
    "id": "Op7kKjJfkdsv"
   },
   "outputs": [],
   "source": [
    "model = RNNModel(\n",
    "    vocab_size=VOCAB_SIZE,\n",
    "    embedding_dim=EMBEDDING_DIM,\n",
    "    hidden_dim=HIDDEN_DIM,\n",
    "    num_layers=1,\n",
    "    output_dim=OUTPUT_DIM,\n",
    "    bidirectional=True\n",
    ")"
   ]
  },
  {
   "cell_type": "code",
   "execution_count": 152,
   "metadata": {},
   "outputs": [],
   "source": [
    "model = model.to(device)\n",
    "optimizer = torch.optim.Adam(model.parameters(), lr=learning_rate)"
   ]
  },
  {
   "cell_type": "code",
   "execution_count": 153,
   "metadata": {},
   "outputs": [
    {
     "name": "stderr",
     "output_type": "stream",
     "text": [
      "100%|█████████████████████████████████████████████████████████████████| 1172/1172 [00:52<00:00, 22.46it/s]\n",
      "100%|███████████████████████████████████████████████████████████████████| 391/391 [00:05<00:00, 69.51it/s]\n"
     ]
    },
    {
     "name": "stdout",
     "output_type": "stream",
     "text": [
      "epoch 1 train - loss: 0.622 acc: 0.644 val - loss: 0.4913 acc: 0.771\n"
     ]
    },
    {
     "name": "stderr",
     "output_type": "stream",
     "text": [
      "100%|█████████████████████████████████████████████████████████████████| 1172/1172 [00:52<00:00, 22.47it/s]\n",
      "100%|███████████████████████████████████████████████████████████████████| 391/391 [00:05<00:00, 71.32it/s]\n"
     ]
    },
    {
     "name": "stdout",
     "output_type": "stream",
     "text": [
      "epoch 2 train - loss: 0.487 acc: 0.7696 val - loss: 0.4463 acc: 0.813\n"
     ]
    },
    {
     "name": "stderr",
     "output_type": "stream",
     "text": [
      "100%|█████████████████████████████████████████████████████████████████| 1172/1172 [00:51<00:00, 22.81it/s]\n",
      "100%|███████████████████████████████████████████████████████████████████| 391/391 [00:05<00:00, 72.26it/s]\n"
     ]
    },
    {
     "name": "stdout",
     "output_type": "stream",
     "text": [
      "epoch 3 train - loss: 0.4361 acc: 0.8036 val - loss: 0.4248 acc: 0.8226\n"
     ]
    },
    {
     "name": "stderr",
     "output_type": "stream",
     "text": [
      "100%|█████████████████████████████████████████████████████████████████| 1172/1172 [00:50<00:00, 23.11it/s]\n",
      "100%|███████████████████████████████████████████████████████████████████| 391/391 [00:05<00:00, 72.38it/s]\n"
     ]
    },
    {
     "name": "stdout",
     "output_type": "stream",
     "text": [
      "epoch 4 train - loss: 0.4105 acc: 0.8166 val - loss: 0.4123 acc: 0.8332\n"
     ]
    },
    {
     "name": "stderr",
     "output_type": "stream",
     "text": [
      "100%|█████████████████████████████████████████████████████████████████| 1172/1172 [00:51<00:00, 22.66it/s]\n",
      "100%|███████████████████████████████████████████████████████████████████| 391/391 [00:05<00:00, 72.75it/s]\n"
     ]
    },
    {
     "name": "stdout",
     "output_type": "stream",
     "text": [
      "epoch 5 train - loss: 0.3941 acc: 0.8268 val - loss: 0.4158 acc: 0.8317\n"
     ]
    },
    {
     "name": "stderr",
     "output_type": "stream",
     "text": [
      "100%|█████████████████████████████████████████████████████████████████| 1172/1172 [00:50<00:00, 23.02it/s]\n",
      "100%|███████████████████████████████████████████████████████████████████| 391/391 [00:05<00:00, 72.04it/s]\n"
     ]
    },
    {
     "name": "stdout",
     "output_type": "stream",
     "text": [
      "epoch 6 train - loss: 0.3816 acc: 0.8326 val - loss: 0.4018 acc: 0.8335\n"
     ]
    },
    {
     "name": "stderr",
     "output_type": "stream",
     "text": [
      "100%|█████████████████████████████████████████████████████████████████| 1172/1172 [00:50<00:00, 22.99it/s]\n",
      "100%|███████████████████████████████████████████████████████████████████| 391/391 [00:05<00:00, 72.82it/s]\n"
     ]
    },
    {
     "name": "stdout",
     "output_type": "stream",
     "text": [
      "epoch 7 train - loss: 0.3729 acc: 0.8365 val - loss: 0.4287 acc: 0.836\n"
     ]
    },
    {
     "name": "stderr",
     "output_type": "stream",
     "text": [
      "100%|█████████████████████████████████████████████████████████████████| 1172/1172 [00:50<00:00, 23.23it/s]\n",
      "100%|███████████████████████████████████████████████████████████████████| 391/391 [00:05<00:00, 69.98it/s]\n"
     ]
    },
    {
     "name": "stdout",
     "output_type": "stream",
     "text": [
      "epoch 8 train - loss: 0.3663 acc: 0.8414 val - loss: 0.4106 acc: 0.8385\n"
     ]
    },
    {
     "name": "stderr",
     "output_type": "stream",
     "text": [
      "100%|█████████████████████████████████████████████████████████████████| 1172/1172 [00:51<00:00, 22.71it/s]\n",
      "100%|███████████████████████████████████████████████████████████████████| 391/391 [00:05<00:00, 71.57it/s]\n"
     ]
    },
    {
     "name": "stdout",
     "output_type": "stream",
     "text": [
      "epoch 9 train - loss: 0.3581 acc: 0.8438 val - loss: 0.4136 acc: 0.841\n"
     ]
    },
    {
     "name": "stderr",
     "output_type": "stream",
     "text": [
      "100%|█████████████████████████████████████████████████████████████████| 1172/1172 [00:51<00:00, 22.88it/s]\n",
      "100%|███████████████████████████████████████████████████████████████████| 391/391 [00:05<00:00, 72.38it/s]\n"
     ]
    },
    {
     "name": "stdout",
     "output_type": "stream",
     "text": [
      "epoch 10 train - loss: 0.3541 acc: 0.846 val - loss: 0.4024 acc: 0.8394\n"
     ]
    },
    {
     "data": {
      "image/png": "[encoded data removed]",
      "text/plain": [
       "<Figure size 1000x400 with 2 Axes>"
      ]
     },
     "metadata": {},
     "output_type": "display_data"
    }
   ],
   "source": [
    "logs = train_validate_model(model)\n",
    "plot_logs(logs)"
   ]
  },
  {
   "cell_type": "markdown",
   "metadata": {
    "id": "IUZrAzSwEF0D"
   },
   "source": [
    "### RNN을 여러층 쌓기\n",
    "\n",
    "방금 학습시킨 모델은 RNN을 1층만 쌓았습니다. RNN 레이어를 여러층 쌓고 싶다면, 모델을 만들 때, RNN layer에 num_layers 옵션을 변경해주면 됩니다. 한번 층을 추가하여 모델을 학습시켜보고 성능이 개선되는지 보겠습니다."
   ]
  },
  {
   "cell_type": "markdown",
   "metadata": {
    "id": "12Il6tJ6NWs4"
   },
   "source": [
    "![1.png](https://storage.googleapis.com/data-analytics-camp/week12_deeplearning_nlp/9.png)"
   ]
  },
  {
   "cell_type": "code",
   "execution_count": 154,
   "metadata": {
    "id": "XQzEnuOPkfRf"
   },
   "outputs": [],
   "source": [
    "model = RNNModel(\n",
    "    vocab_size=VOCAB_SIZE,\n",
    "    embedding_dim=EMBEDDING_DIM,\n",
    "    hidden_dim=HIDDEN_DIM,\n",
    "    num_layers=2,\n",
    "    output_dim=OUTPUT_DIM,\n",
    "    bidirectional=True\n",
    ")"
   ]
  },
  {
   "cell_type": "code",
   "execution_count": 155,
   "metadata": {},
   "outputs": [],
   "source": [
    "model = model.to(device)\n",
    "optimizer = torch.optim.Adam(model.parameters(), lr=learning_rate)"
   ]
  },
  {
   "cell_type": "code",
   "execution_count": 156,
   "metadata": {},
   "outputs": [
    {
     "name": "stderr",
     "output_type": "stream",
     "text": [
      "100%|█████████████████████████████████████████████████████████████████| 1172/1172 [01:18<00:00, 14.93it/s]\n",
      "100%|███████████████████████████████████████████████████████████████████| 391/391 [00:06<00:00, 56.03it/s]\n"
     ]
    },
    {
     "name": "stdout",
     "output_type": "stream",
     "text": [
      "epoch 1 train - loss: 0.6287 acc: 0.6367 val - loss: 0.4966 acc: 0.7731\n"
     ]
    },
    {
     "name": "stderr",
     "output_type": "stream",
     "text": [
      "100%|█████████████████████████████████████████████████████████████████| 1172/1172 [01:18<00:00, 14.98it/s]\n",
      "100%|███████████████████████████████████████████████████████████████████| 391/391 [00:06<00:00, 57.41it/s]\n"
     ]
    },
    {
     "name": "stdout",
     "output_type": "stream",
     "text": [
      "epoch 2 train - loss: 0.4979 acc: 0.764 val - loss: 0.4549 acc: 0.8036\n"
     ]
    },
    {
     "name": "stderr",
     "output_type": "stream",
     "text": [
      "100%|█████████████████████████████████████████████████████████████████| 1172/1172 [01:17<00:00, 15.08it/s]\n",
      "100%|███████████████████████████████████████████████████████████████████| 391/391 [00:06<00:00, 57.58it/s]\n"
     ]
    },
    {
     "name": "stdout",
     "output_type": "stream",
     "text": [
      "epoch 3 train - loss: 0.4507 acc: 0.7932 val - loss: 0.4108 acc: 0.8229\n"
     ]
    },
    {
     "name": "stderr",
     "output_type": "stream",
     "text": [
      "100%|█████████████████████████████████████████████████████████████████| 1172/1172 [01:17<00:00, 15.16it/s]\n",
      "100%|███████████████████████████████████████████████████████████████████| 391/391 [00:06<00:00, 57.59it/s]\n"
     ]
    },
    {
     "name": "stdout",
     "output_type": "stream",
     "text": [
      "epoch 4 train - loss: 0.4306 acc: 0.8063 val - loss: 0.4224 acc: 0.8218\n"
     ]
    },
    {
     "name": "stderr",
     "output_type": "stream",
     "text": [
      "100%|█████████████████████████████████████████████████████████████████| 1172/1172 [01:16<00:00, 15.31it/s]\n",
      "100%|███████████████████████████████████████████████████████████████████| 391/391 [00:06<00:00, 59.53it/s]\n"
     ]
    },
    {
     "name": "stdout",
     "output_type": "stream",
     "text": [
      "epoch 5 train - loss: 0.4147 acc: 0.8163 val - loss: 0.405 acc: 0.8292\n"
     ]
    },
    {
     "name": "stderr",
     "output_type": "stream",
     "text": [
      "100%|█████████████████████████████████████████████████████████████████| 1172/1172 [01:16<00:00, 15.32it/s]\n",
      "100%|███████████████████████████████████████████████████████████████████| 391/391 [00:06<00:00, 59.06it/s]\n"
     ]
    },
    {
     "name": "stdout",
     "output_type": "stream",
     "text": [
      "epoch 6 train - loss: 0.402 acc: 0.8227 val - loss: 0.3969 acc: 0.8296\n"
     ]
    },
    {
     "name": "stderr",
     "output_type": "stream",
     "text": [
      "100%|█████████████████████████████████████████████████████████████████| 1172/1172 [01:16<00:00, 15.40it/s]\n",
      "100%|███████████████████████████████████████████████████████████████████| 391/391 [00:06<00:00, 59.00it/s]\n"
     ]
    },
    {
     "name": "stdout",
     "output_type": "stream",
     "text": [
      "epoch 7 train - loss: 0.404 acc: 0.8205 val - loss: 0.396 acc: 0.8278\n"
     ]
    },
    {
     "name": "stderr",
     "output_type": "stream",
     "text": [
      "100%|█████████████████████████████████████████████████████████████████| 1172/1172 [01:16<00:00, 15.33it/s]\n",
      "100%|███████████████████████████████████████████████████████████████████| 391/391 [00:06<00:00, 58.48it/s]\n"
     ]
    },
    {
     "name": "stdout",
     "output_type": "stream",
     "text": [
      "epoch 8 train - loss: 0.3909 acc: 0.8303 val - loss: 0.4157 acc: 0.8268\n"
     ]
    },
    {
     "name": "stderr",
     "output_type": "stream",
     "text": [
      "100%|█████████████████████████████████████████████████████████████████| 1172/1172 [01:16<00:00, 15.32it/s]\n",
      "100%|███████████████████████████████████████████████████████████████████| 391/391 [00:06<00:00, 59.28it/s]\n"
     ]
    },
    {
     "name": "stdout",
     "output_type": "stream",
     "text": [
      "epoch 9 train - loss: 0.3904 acc: 0.8288 val - loss: 0.3919 acc: 0.8339\n"
     ]
    },
    {
     "name": "stderr",
     "output_type": "stream",
     "text": [
      "100%|█████████████████████████████████████████████████████████████████| 1172/1172 [01:16<00:00, 15.31it/s]\n",
      "100%|███████████████████████████████████████████████████████████████████| 391/391 [00:06<00:00, 58.78it/s]\n"
     ]
    },
    {
     "name": "stdout",
     "output_type": "stream",
     "text": [
      "epoch 10 train - loss: 0.3806 acc: 0.834 val - loss: 0.3791 acc: 0.8393\n"
     ]
    },
    {
     "data": {
      "image/png": "[encoded data removed]",
      "text/plain": [
       "<Figure size 1000x400 with 2 Axes>"
      ]
     },
     "metadata": {},
     "output_type": "display_data"
    }
   ],
   "source": [
    "logs = train_validate_model(model)\n",
    "plot_logs(logs)"
   ]
  },
  {
   "cell_type": "markdown",
   "metadata": {
    "id": "p5Sj193aODBJ"
   },
   "source": [
    "## 정리\n",
    "\n",
    "이번 챕터에서는 RNN의 기본 개념과 torch를 이용해서 RNN을 학습시킬 수 있는 방법에 대해서 알아보았습니다. 그리도 bi-directional RNN과 multilayer RNN에 대해서 알아보았습니다. 구조가 다소 복잡하지만, 코드 구현은 간단했습니다.\n",
    "\n",
    "디테일한 내용들에 너무 구애받지 말고, 이전 혹은 다음 입력값의 hidden state를 현재 값을 예측할 때 사용한다는 기본 개념만 확실히 기억하고 넘어가면 충분합니다."
   ]
  },
  {
   "cell_type": "code",
   "execution_count": null,
   "metadata": {},
   "outputs": [],
   "source": []
  }
 ],
 "metadata": {
  "accelerator": "GPU",
  "colab": {
   "authorship_tag": "ABX9TyNsLbHOEvhE5EC+FqqL97vp",
   "gpuType": "V100",
   "include_colab_link": true,
   "machine_shape": "hm",
   "mount_file_id": "1lPpl1UA8vr8FDEIB9Q9FpMha2TtCKnal",
   "provenance": [],
   "toc_visible": true
  },
  "kernelspec": {
   "display_name": "Python 3 (ipykernel)",
   "language": "python",
   "name": "python3"
  },
  "language_info": {
   "codemirror_mode": {
    "name": "ipython",
    "version": 3
   },
   "file_extension": ".py",
   "mimetype": "text/x-python",
   "name": "python",
   "nbconvert_exporter": "python",
   "pygments_lexer": "ipython3",
   "version": "3.10.8"
  }
 },
 "nbformat": 4,
 "nbformat_minor": 4
}
