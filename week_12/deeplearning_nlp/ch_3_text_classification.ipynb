{
 "cells": [
  {
   "cell_type": "markdown",
   "id": "9bb695b4-243d-4c55-aafe-87c18037534b",
   "metadata": {},
   "source": [
    "# ch 3. text classification\n",
    "\n",
    "이미지와 마찬가지로 텍스트 데이터도 분류가 가장 기본적인 테스크입니다. 긍정적인 리뷰와 부정적인 리뷰로 분류하는 모델을 만들어보겠습니다."
   ]
  },
  {
   "cell_type": "markdown",
   "id": "4a4aa6f1-d55c-4184-89fe-5c8a6adc1809",
   "metadata": {},
   "source": [
    "## 사전 작업"
   ]
  },
  {
   "cell_type": "markdown",
   "id": "0d3479f5-45c2-4da2-b650-13e7a1d956aa",
   "metadata": {},
   "source": [
    "### 데이터 셋 준비"
   ]
  },
  {
   "cell_type": "code",
   "execution_count": 1,
   "id": "0eacb11d-de11-4222-a5d3-b26fb2bc9f0a",
   "metadata": {},
   "outputs": [],
   "source": [
    "import pandas as pd\n",
    "\n",
    "train_df = pd.read_csv(\"./data/naver_reviews_train.csv\")\n",
    "val_df = pd.read_csv(\"./data/naver_reviews_test.csv\")\n",
    "\n",
    "train_df = train_df.dropna()\n",
    "val_df = val_df.dropna()"
   ]
  },
  {
   "cell_type": "markdown",
   "id": "bc6bfaff-d68a-4ba5-889b-23c3a68a8042",
   "metadata": {},
   "source": [
    "### tokenizer 준비"
   ]
  },
  {
   "cell_type": "code",
   "execution_count": 2,
   "id": "4b9fb924-ff0e-433f-9c3e-858d82aee830",
   "metadata": {},
   "outputs": [],
   "source": [
    "from tokenizers import Tokenizer\n",
    "\n",
    "tokenizer = Tokenizer.from_file(\"./data/tokenizer.json\")"
   ]
  },
  {
   "cell_type": "code",
   "execution_count": 3,
   "id": "6f18c3fd-4b3b-43f3-87b2-92d1353f4368",
   "metadata": {},
   "outputs": [
    {
     "data": {
      "text/plain": [
       "['최고의', '영화', '!']"
      ]
     },
     "execution_count": 3,
     "metadata": {},
     "output_type": "execute_result"
    }
   ],
   "source": [
    "tokenizer.encode(\"최고의 영화!\").tokens"
   ]
  },
  {
   "cell_type": "markdown",
   "id": "2ed7e558-d862-4fb3-9cd5-dd09f4e43211",
   "metadata": {},
   "source": [
    "## 데이터 전처리\n",
    "\n",
    "텍스트 데이터 셋도 이미지 데이터 셋과 마찬가지로 dataset과 dataloader가 필요합니다. 그리고 텍스트를 텐서로 변환하는 전처리 로직도 필요합니다. 우선 간단하게 dataset과 dataloader를 만들어주겠습니다."
   ]
  },
  {
   "cell_type": "markdown",
   "id": "22231f8f-ee71-414c-ab01-af50353270fb",
   "metadata": {},
   "source": [
    "### Dataset, DataLoader"
   ]
  },
  {
   "cell_type": "code",
   "execution_count": 4,
   "id": "b9c1e6d1-fa26-4d6e-9783-20d05c8195c3",
   "metadata": {},
   "outputs": [],
   "source": [
    "from torch.utils.data import Dataset\n",
    "\n",
    "class CustomTextDataset(Dataset):\n",
    "    def __init__(self, corpus_df, transform=None):\n",
    "        self.corpus_df = corpus_df\n",
    "        self.transform = transform\n",
    "\n",
    "    def __len__(self):\n",
    "        return len(self.corpus_df)\n",
    "\n",
    "    def __getitem__(self, idx):\n",
    "        text, label = self.corpus_df.iloc[idx]\n",
    "        return text, label "
   ]
  },
  {
   "cell_type": "code",
   "execution_count": 5,
   "id": "f402cbce-b97a-4509-b9b4-594880152952",
   "metadata": {},
   "outputs": [],
   "source": [
    "train_dataset = CustomTextDataset(train_df)\n",
    "val_dataset = CustomTextDataset(val_df)"
   ]
  },
  {
   "cell_type": "code",
   "execution_count": 6,
   "id": "90de7463-6d11-4880-92bb-a7401e4313fd",
   "metadata": {},
   "outputs": [
    {
     "data": {
      "text/plain": [
       "('아 더빙.. 진짜 짜증나네요 목소리', 0)"
      ]
     },
     "execution_count": 6,
     "metadata": {},
     "output_type": "execute_result"
    }
   ],
   "source": [
    "train_dataset[0]"
   ]
  },
  {
   "cell_type": "code",
   "execution_count": 7,
   "id": "e6dac0ed-7cf2-466b-9a2f-2854ab5f6e37",
   "metadata": {},
   "outputs": [],
   "source": [
    "from torch.utils.data import DataLoader\n",
    "\n",
    "train_dataloader = DataLoader(train_dataset, batch_size=4, shuffle=True)"
   ]
  },
  {
   "cell_type": "code",
   "execution_count": 8,
   "id": "60ae03af-3cc8-4d42-9438-3cf4715ff34c",
   "metadata": {},
   "outputs": [],
   "source": [
    "train_iterator = iter(train_dataloader)\n",
    "batch = next(train_iterator)"
   ]
  },
  {
   "cell_type": "code",
   "execution_count": 9,
   "id": "f2a25b27-c82c-4c4f-8124-a2146c4980e3",
   "metadata": {},
   "outputs": [
    {
     "data": {
      "text/plain": [
       "[('불만제로 별점 테러 노답이다 진짜ㅋㅋ 그 동안 대기업을 상대로도 부당함을 소비자에게 알려준 멋진 프로그램...폐지안했으면ㅜㅜ',\n",
       "  '재밌어요귀엽고볼만해요',\n",
       "  \"마지막 소년의 돌은 '티오노리코' 사랑을 전하기 위함이었다.\",\n",
       "  '정말 감동적이예요! 부모님 모시고 다시 꼭 보고 싶네요 ㅠㅠ'),\n",
       " tensor([1, 1, 1, 1])]"
      ]
     },
     "execution_count": 9,
     "metadata": {},
     "output_type": "execute_result"
    }
   ],
   "source": [
    "batch"
   ]
  },
  {
   "cell_type": "markdown",
   "id": "aea81e12-322a-4854-ae28-3427801c3b67",
   "metadata": {},
   "source": [
    "텍스트 데이터의 특징은 문장들 간에 길이가 다르다는 것입니다. 즉, 문장을 토큰화화면 길이가 달라집니다. 배치에 들어있는 텍스트 데이터를 토큰화 해보겠습니다."
   ]
  },
  {
   "cell_type": "code",
   "execution_count": 10,
   "id": "851faabb-d00b-4c75-91c0-98c967d5a101",
   "metadata": {},
   "outputs": [],
   "source": [
    "import torch\n",
    "\n",
    "def tokenize(text):\n",
    "    tokens = tokenizer.encode(text).ids\n",
    "    token_tensor = torch.tensor(tokens, dtype=torch.long)\n",
    "    return token_tensor"
   ]
  },
  {
   "cell_type": "code",
   "execution_count": 11,
   "id": "414ac955-6ab4-4808-9931-aa4f01f75b80",
   "metadata": {},
   "outputs": [],
   "source": [
    "batch_text = batch[0]\n",
    "batch_tensor = [tokenize(x) for x in batch_text]"
   ]
  },
  {
   "cell_type": "code",
   "execution_count": 12,
   "id": "13b1b22b-d4f6-4d39-a006-a624c8636b1e",
   "metadata": {},
   "outputs": [
    {
     "data": {
      "text/plain": [
       "[tensor([1144, 2589, 8788, 5576, 8017, 7464, 4902, 4892, 4878,  219, 7667,  544,\n",
       "         2659, 2628, 2588, 1276, 5000, 2639, 1138, 2970, 5648, 1345, 2991, 2598,\n",
       "         4997, 6257, 2945, 5429, 6693, 4877, 8725, 2723, 6669, 5362]),\n",
       " tensor([5396, 3170, 3187, 2602, 2831, 2589, 5283]),\n",
       " tensor([4951, 8674, 2578,  599, 2608,    5, 2318, 2661, 2821, 2599, 2919,    5,\n",
       "         6172, 1805, 5071, 1717, 5714, 4918,    7]),\n",
       " tensor([4888, 5604, 5966,    4, 8614,  974, 6280, 4943,  301, 4911, 7488, 5035])]"
      ]
     },
     "execution_count": 12,
     "metadata": {},
     "output_type": "execute_result"
    }
   ],
   "source": [
    "batch_tensor"
   ]
  },
  {
   "cell_type": "markdown",
   "id": "93a40905-9b1d-4420-a9af-0bbeacc664c2",
   "metadata": {},
   "source": [
    "### Padding"
   ]
  },
  {
   "cell_type": "markdown",
   "id": "8147dc4b-6155-4d8c-864a-0f94278cb26f",
   "metadata": {},
   "source": [
    "위 예시에서 data loader가 batch size만큼 문장을 읽어왔습니다. 그리고 이를 토큰화 하였는데, 문장마다 길이가 다르기 때문에 토큰 개수도 다릅니다. 이를 하나의 텐서로 묶어주기 위해서는 가장 긴 문장의 길이를 기준으로 나머지 문장들에 패딩을 추가해주어야 합니다. \n",
    "\n",
    "먼저 패딩에 해당하는 토큰을 확인해보겠습니다."
   ]
  },
  {
   "cell_type": "code",
   "execution_count": 13,
   "id": "a77c261f-0ff6-479e-a51c-c080af783c49",
   "metadata": {},
   "outputs": [
    {
     "name": "stdout",
     "output_type": "stream",
     "text": [
      "Pad token:  0\n"
     ]
    }
   ],
   "source": [
    "vocabs = tokenizer.get_vocab()\n",
    "pad_token = vocabs[\"[PAD]\"]\n",
    "print(\"Pad token: \", pad_token)"
   ]
  },
  {
   "cell_type": "markdown",
   "id": "76f0f6e7-44c3-428a-bf3f-a42c78c4b309",
   "metadata": {},
   "source": [
    "torch에 내장되어 있는 pad_sequence 기능을 이용해서 패딩을 채워보겠습니다."
   ]
  },
  {
   "cell_type": "code",
   "execution_count": 16,
   "id": "dcf1bd17-82ea-4834-8da0-95d45e3255ed",
   "metadata": {},
   "outputs": [],
   "source": [
    "from torch.nn.utils.rnn import pad_sequence\n",
    "\n",
    "batch_padded = pad_sequence(batch_tensor, padding_value=pad_token)"
   ]
  },
  {
   "cell_type": "code",
   "execution_count": 17,
   "id": "3e67a528-37d5-4c11-9883-d196cfb55e6d",
   "metadata": {},
   "outputs": [
    {
     "data": {
      "text/plain": [
       "tensor([[1144, 5396, 4951, 4888],\n",
       "        [2589, 3170, 8674, 5604],\n",
       "        [8788, 3187, 2578, 5966],\n",
       "        [5576, 2602,  599,    4],\n",
       "        [8017, 2831, 2608, 8614],\n",
       "        [7464, 2589,    5,  974],\n",
       "        [4902, 5283, 2318, 6280],\n",
       "        [4892,    0, 2661, 4943],\n",
       "        [4878,    0, 2821,  301],\n",
       "        [ 219,    0, 2599, 4911],\n",
       "        [7667,    0, 2919, 7488],\n",
       "        [ 544,    0,    5, 5035],\n",
       "        [2659,    0, 6172,    0],\n",
       "        [2628,    0, 1805,    0],\n",
       "        [2588,    0, 5071,    0],\n",
       "        [1276,    0, 1717,    0],\n",
       "        [5000,    0, 5714,    0],\n",
       "        [2639,    0, 4918,    0],\n",
       "        [1138,    0,    7,    0],\n",
       "        [2970,    0,    0,    0],\n",
       "        [5648,    0,    0,    0],\n",
       "        [1345,    0,    0,    0],\n",
       "        [2991,    0,    0,    0],\n",
       "        [2598,    0,    0,    0],\n",
       "        [4997,    0,    0,    0],\n",
       "        [6257,    0,    0,    0],\n",
       "        [2945,    0,    0,    0],\n",
       "        [5429,    0,    0,    0],\n",
       "        [6693,    0,    0,    0],\n",
       "        [4877,    0,    0,    0],\n",
       "        [8725,    0,    0,    0],\n",
       "        [2723,    0,    0,    0],\n",
       "        [6669,    0,    0,    0],\n",
       "        [5362,    0,    0,    0]])"
      ]
     },
     "execution_count": 17,
     "metadata": {},
     "output_type": "execute_result"
    }
   ],
   "source": [
    "batch_padded"
   ]
  },
  {
   "cell_type": "markdown",
   "id": "bf92a9bb-4451-43f7-a36b-4c12dbd16548",
   "metadata": {},
   "source": [
    "패딩을 채워보면 하나의 열에 문장 하나의 토큰 값들이 담기게 됩니다. 가장 긴 문장의 길이만큼 나머지 문장들에는 패딩이 채워진 모습을 확인할 수 있습니다."
   ]
  },
  {
   "cell_type": "markdown",
   "id": "cb9f5d89-ea7f-4d51-ad53-12e7e761a961",
   "metadata": {},
   "source": [
    "### collate_fn\n",
    "\n",
    "이렇게 텍스트를 토큰화 하고, 배치 단위로 패딩을 채워넣었습니다. 그런데 패딩을 채우기 위해서는 배치 내에서 가장 길이가 긴 문장의 토큰 수를 알아야 합니다. 즉, 데이터 셋에서 데이터 로더가 배치 사이즈만큼 데이터를 가져오는 시점에 텍스트를 토큰화하고, 패딩을 채우는 작업을 수행해주어야 합니다. 이러한 작업을 수행해주는 역할을 묶어주는 함수, collate_fn이라고 부릅니다.\n",
    "\n",
    "collate 함수 안에서는 데이터를 토큰화 해주고, 패딩을 채워주는 작업을 진행합니다. 이 때, 특정 문장의 길이가 지나치게 긴 경우를 예방하기 위해 최대 토큰 길이 값을 지정해줍니다."
   ]
  },
  {
   "cell_type": "code",
   "execution_count": 18,
   "id": "bdc72bde-48fe-439f-9c61-fc451731c237",
   "metadata": {},
   "outputs": [],
   "source": [
    "MAX_TOKENS = 256 \n",
    "BATCH_SIZE = 128 "
   ]
  },
  {
   "cell_type": "code",
   "execution_count": 19,
   "id": "264dc2fe-d40e-4e21-b762-8406b5335e43",
   "metadata": {},
   "outputs": [],
   "source": [
    "def collate_fn(batch):\n",
    "    def _tokenize(text):\n",
    "        tokens = tokenizer.encode(text).ids\n",
    "        tokens = tokens[:MAX_TOKENS]\n",
    "        token_tensor = torch.tensor(tokens, dtype=torch.long)\n",
    "        return token_tensor\n",
    "    \n",
    "    batch_text = [x[0] for x in batch] \n",
    "    batch_label = torch.tensor([x[1] for x in batch], dtype=torch.long)\n",
    "    batch_tokens = [_tokenize(x) for x in batch_text]\n",
    "    batch_padded = pad_sequence(batch_tokens, padding_value=pad_token)\n",
    "    return batch_padded, batch_label"
   ]
  },
  {
   "cell_type": "code",
   "execution_count": 20,
   "id": "a5af4dcd-3897-4d1d-9e91-8d10167bed82",
   "metadata": {},
   "outputs": [],
   "source": [
    "train_dataloader = DataLoader(\n",
    "    train_dataset, \n",
    "    batch_size=BATCH_SIZE, \n",
    "    shuffle=True,\n",
    "    collate_fn=collate_fn\n",
    ")"
   ]
  },
  {
   "cell_type": "code",
   "execution_count": 21,
   "id": "730a0359-2986-4f1a-a7c8-c55251bd2200",
   "metadata": {},
   "outputs": [],
   "source": [
    "val_dataloader = DataLoader(\n",
    "    val_dataset, \n",
    "    batch_size=BATCH_SIZE, \n",
    "    collate_fn=collate_fn\n",
    ")"
   ]
  },
  {
   "cell_type": "code",
   "execution_count": 22,
   "id": "d3c0ac50-f8eb-48ea-9ab0-6110e258089b",
   "metadata": {},
   "outputs": [],
   "source": [
    "train_iterator = iter(train_dataloader)\n",
    "batch = next(train_iterator)"
   ]
  },
  {
   "cell_type": "code",
   "execution_count": 23,
   "id": "ae17d5ee-c340-40a5-9553-8c0c6833e596",
   "metadata": {},
   "outputs": [
    {
     "name": "stdout",
     "output_type": "stream",
     "text": [
      "(tensor([[6432, 1501, 9111,  ..., 6218, 6219, 5520],\n",
      "        [7026, 2593, 5972,  ...,    1, 5098, 8993],\n",
      "        [1122, 4877, 8005,  ..., 4876, 3297, 2864],\n",
      "        ...,\n",
      "        [   0,    0,    0,  ...,    0,    0,    0],\n",
      "        [   0,    0,    0,  ...,    0,    0,    0],\n",
      "        [   0,    0,    0,  ...,    0,    0,    0]]), tensor([1, 0, 1, 1, 1, 1, 1, 1, 0, 1, 1, 0, 0, 0, 1, 1, 1, 0, 1, 1, 0, 0, 0, 1,\n",
      "        0, 0, 0, 1, 0, 0, 1, 0, 0, 1, 0, 1, 1, 1, 0, 0, 1, 1, 1, 0, 1, 1, 0, 0,\n",
      "        1, 1, 0, 1, 1, 0, 0, 0, 1, 1, 0, 0, 1, 0, 1, 1, 0, 0, 0, 1, 0, 1, 1, 0,\n",
      "        1, 0, 0, 1, 0, 1, 1, 0, 0, 1, 1, 1, 1, 0, 1, 1, 0, 0, 0, 1, 1, 0, 1, 1,\n",
      "        0, 1, 1, 0, 0, 1, 1, 1, 0, 1, 1, 1, 0, 1, 0, 1, 1, 0, 1, 1, 1, 1, 1, 0,\n",
      "        1, 1, 1, 0, 1, 0, 0, 0]))\n"
     ]
    }
   ],
   "source": [
    "print(batch)"
   ]
  },
  {
   "cell_type": "markdown",
   "id": "5573c9fd-d6be-4c83-94a8-a67931768b6d",
   "metadata": {},
   "source": [
    "## 모델 학습"
   ]
  },
  {
   "cell_type": "markdown",
   "id": "4d0b95c5-d611-45d8-a3ba-986f31e2470b",
   "metadata": {},
   "source": [
    "### 모델 작성\n",
    "\n",
    "이제 텍스트를 분류하는 딥러닝 모델을 만들어보겠습니다. 모델의 구조는 아래와 같습니다.\n",
    "\n",
    "![Untitled Diagram-Page-4.drawio.png](https://storage.googleapis.com/data-analytics-camp/week12_deeplearning_nlp/1.png)"
   ]
  },
  {
   "cell_type": "markdown",
   "id": "fb833bc2-3ebb-427f-a3be-78f0d220dd0e",
   "metadata": {},
   "source": [
    "먼저 토큰화 한 문장을 embedding layer를 통과시켜 각 토큰별 임베딩 벡터를 가져옵니다. 각 토큰별로 128 차원의 임베딩을 갖도록 하고, 현재 tokenizer는 총 8000개의 토큰을 가지고 있으므로 임베딩 레이어는 8000 X 128이 됩니다. 이제 문장에 포함된 토큰만 가져온 뒤, 평균을 냅니다. 그리고 이를 리니어 레이어를 하나 통과시킨 뒤, 학습을 시켜보겠습니다. "
   ]
  },
  {
   "cell_type": "code",
   "execution_count": 24,
   "id": "cb9e0a4d-3674-4a58-8e76-82ee2b015ee2",
   "metadata": {},
   "outputs": [],
   "source": [
    "from torch import nn\n",
    "\n",
    "class TextClassification(nn.Module):\n",
    "    def __init__(self, vocab_size, embedding_dim, output_dim):\n",
    "        super().__init__()\n",
    "        self.embedding = nn.Embedding(\n",
    "            num_embeddings=vocab_size,\n",
    "            embedding_dim=embedding_dim\n",
    "        )\n",
    "        self.fc = nn.Linear(embedding_dim, output_dim)\n",
    "    \n",
    "    def forward(self, x):\n",
    "        x = self.embedding(x)\n",
    "        x = x.mean(dim=0)\n",
    "        x = self.fc(x)\n",
    "        return x"
   ]
  },
  {
   "cell_type": "code",
   "execution_count": 25,
   "id": "6dc16375-7645-46d2-b8da-59961bb9cc5d",
   "metadata": {},
   "outputs": [],
   "source": [
    "VOCAB_SIZE = len(tokenizer.get_vocab())\n",
    "EMBEDDING_DIM = 128\n",
    "OUTPUT_DIM = 2"
   ]
  },
  {
   "cell_type": "code",
   "execution_count": 26,
   "id": "de0b0096-03c5-48c6-bcf2-1d1de96ed30d",
   "metadata": {},
   "outputs": [],
   "source": [
    "model = TextClassification(\n",
    "    vocab_size=VOCAB_SIZE, \n",
    "    embedding_dim=EMBEDDING_DIM,\n",
    "    output_dim=OUTPUT_DIM\n",
    ")"
   ]
  },
  {
   "cell_type": "code",
   "execution_count": 27,
   "id": "fbb016b4-a3e7-4591-b778-e1d650d3daae",
   "metadata": {},
   "outputs": [
    {
     "data": {
      "text/plain": [
       "TextClassification(\n",
       "  (embedding): Embedding(10000, 128)\n",
       "  (fc): Linear(in_features=128, out_features=2, bias=True)\n",
       ")"
      ]
     },
     "execution_count": 27,
     "metadata": {},
     "output_type": "execute_result"
    }
   ],
   "source": [
    "model"
   ]
  },
  {
   "cell_type": "markdown",
   "id": "c1720f90-c657-42b5-b7db-17bead2da615",
   "metadata": {},
   "source": [
    "### 학습 코드 준비\n",
    "\n",
    "기존 모델 학습에 사용했던 코드를 재사용하여 학습을 진행해보겠습니다."
   ]
  },
  {
   "cell_type": "code",
   "execution_count": 28,
   "id": "b24033a2-a949-4a15-b08d-b6411336253e",
   "metadata": {},
   "outputs": [],
   "source": [
    "def get_mean(metrics):\n",
    "    return round(sum(metrics) / len(metrics), 4)"
   ]
  },
  {
   "cell_type": "code",
   "execution_count": 29,
   "id": "2df9dc3b-a0bd-4538-9b71-5c4e4f33449b",
   "metadata": {},
   "outputs": [],
   "source": [
    "from collections import defaultdict\n",
    "import numpy as np\n",
    "from tqdm import tqdm\n",
    "from sklearn.metrics import accuracy_score\n",
    "\n",
    "\n",
    "def train_model(model):\n",
    "    model.train()\n",
    "    loss_list = []\n",
    "    acc_list = []\n",
    "    for x_train, y_train in tqdm(train_dataloader):\n",
    "        x_train = x_train.to(device)\n",
    "        y_train = y_train.to(device)\n",
    "\n",
    "        outputs = model(x_train)\n",
    "        loss = criterion(outputs, y_train)\n",
    "        loss_list.append(loss.item())\n",
    "\n",
    "        optimizer.zero_grad()\n",
    "        loss.backward()\n",
    "        optimizer.step()\n",
    "\n",
    "        pred = torch.argmax(outputs, dim=1)\n",
    "        acc = ((y_train == pred).sum() / len(y_train)).item()\n",
    "        acc_list.append(acc)\n",
    "    return get_mean(loss_list), get_mean(acc_list)"
   ]
  },
  {
   "cell_type": "code",
   "execution_count": 30,
   "id": "4cb67439-1a6b-4db3-859d-f325d4ba2ce7",
   "metadata": {},
   "outputs": [],
   "source": [
    "def validate_model(model):\n",
    "    model.eval()\n",
    "    loss_list = []\n",
    "    acc_list = []\n",
    "    for x_val, y_val in tqdm(val_dataloader):\n",
    "        x_val = x_val.to(device)\n",
    "        y_val = y_val.to(device)\n",
    "        with torch.no_grad():\n",
    "            outputs = model(x_val)\n",
    "            loss = criterion(outputs, y_val)\n",
    "            loss_list.append(loss.item())\n",
    "\n",
    "            pred = torch.argmax(outputs, dim=1)\n",
    "            acc = ((y_val == pred).sum() / len(y_val)).item()\n",
    "            acc_list.append(acc)\n",
    "    return get_mean(loss_list), get_mean(acc_list)"
   ]
  },
  {
   "cell_type": "code",
   "execution_count": 31,
   "id": "d9b9800d-48c9-46a0-aff3-2cc19a537ad7",
   "metadata": {},
   "outputs": [],
   "source": [
    "from collections import defaultdict\n",
    "\n",
    "\n",
    "def train_validate_model(model):\n",
    "    logs = defaultdict(list)\n",
    "    for epoch in range(epochs):\n",
    "        train_loss, train_acc = train_model(model)\n",
    "        val_loss, val_acc = validate_model(model)\n",
    "        logs[\"train_loss\"].append(train_loss)\n",
    "        logs[\"train_acc\"].append(train_acc)\n",
    "        logs[\"val_loss\"].append(val_loss)\n",
    "        logs[\"val_acc\"].append(val_acc)\n",
    "        print(f\"epoch {epoch + 1} train - loss: {train_loss} acc: {train_acc} val - loss: {val_loss} acc: {val_acc}\")\n",
    "    return logs"
   ]
  },
  {
   "cell_type": "code",
   "execution_count": 32,
   "id": "d95cc1a1-15dc-4fdc-b3eb-fcb8743c183e",
   "metadata": {},
   "outputs": [],
   "source": [
    "from matplotlib import pyplot as plt\n",
    "def plot_logs(logs):\n",
    "    fig = plt.figure(figsize=(10, 4))\n",
    "\n",
    "    ax0 = fig.add_subplot(1, 2, 1)\n",
    "    ax1 = fig.add_subplot(1, 2, 2)\n",
    "    ax0.plot(logs[\"train_loss\"], label=\"train\")\n",
    "    ax0.plot(logs[\"val_loss\"], label=\"val\")\n",
    "    ax0.legend()\n",
    "    ax0.set_title(\"loss\")\n",
    "\n",
    "    ax1.plot(logs[\"train_acc\"], label=\"train\")\n",
    "    ax1.plot(logs[\"val_acc\"], label=\"val\")\n",
    "    ax1.legend()\n",
    "    ax1.set_title(\"accuracy\")\n",
    "    plt.legend()"
   ]
  },
  {
   "cell_type": "markdown",
   "id": "f8db04c2-370f-4afb-9299-11e513e5ddab",
   "metadata": {},
   "source": [
    "### 하이퍼 파라미터 셋팅 "
   ]
  },
  {
   "cell_type": "code",
   "execution_count": 33,
   "id": "515f081c-86b8-41b9-bbe2-74cce9e767df",
   "metadata": {},
   "outputs": [],
   "source": [
    "device = torch.device(\"cuda\" if torch.cuda.is_available() else \"cpu\")\n",
    "learning_rate = 0.001\n",
    "criterion = torch.nn.CrossEntropyLoss()\n",
    "epochs = 10\n",
    "optimizer = torch.optim.Adam(model.parameters(), lr=learning_rate)"
   ]
  },
  {
   "cell_type": "markdown",
   "id": "bcb56424-69fb-4a30-b290-e04138270281",
   "metadata": {},
   "source": [
    "### 학습"
   ]
  },
  {
   "cell_type": "code",
   "execution_count": 34,
   "id": "581950b7-a09b-42c4-9af3-8303c1b951a3",
   "metadata": {},
   "outputs": [
    {
     "name": "stderr",
     "output_type": "stream",
     "text": [
      "100%|████████████████████████████████████████████████| 1172/1172 [00:13<00:00, 88.55it/s]\n",
      "100%|█████████████████████████████████████████████████| 391/391 [00:03<00:00, 130.01it/s]\n"
     ]
    },
    {
     "name": "stdout",
     "output_type": "stream",
     "text": [
      "epoch 1 train - loss: 0.6049 acc: 0.6986 val - loss: 0.4943 acc: 0.7965\n"
     ]
    },
    {
     "name": "stderr",
     "output_type": "stream",
     "text": [
      "100%|████████████████████████████████████████████████| 1172/1172 [00:13<00:00, 88.62it/s]\n",
      "100%|█████████████████████████████████████████████████| 391/391 [00:02<00:00, 131.01it/s]\n"
     ]
    },
    {
     "name": "stdout",
     "output_type": "stream",
     "text": [
      "epoch 2 train - loss: 0.4286 acc: 0.8236 val - loss: 0.4076 acc: 0.8289\n"
     ]
    },
    {
     "name": "stderr",
     "output_type": "stream",
     "text": [
      "100%|████████████████████████████████████████████████| 1172/1172 [00:13<00:00, 88.80it/s]\n",
      "100%|█████████████████████████████████████████████████| 391/391 [00:02<00:00, 131.58it/s]\n"
     ]
    },
    {
     "name": "stdout",
     "output_type": "stream",
     "text": [
      "epoch 3 train - loss: 0.3732 acc: 0.8433 val - loss: 0.3841 acc: 0.8341\n"
     ]
    },
    {
     "name": "stderr",
     "output_type": "stream",
     "text": [
      "100%|████████████████████████████████████████████████| 1172/1172 [00:13<00:00, 89.00it/s]\n",
      "100%|█████████████████████████████████████████████████| 391/391 [00:02<00:00, 131.83it/s]\n"
     ]
    },
    {
     "name": "stdout",
     "output_type": "stream",
     "text": [
      "epoch 4 train - loss: 0.3514 acc: 0.8519 val - loss: 0.3764 acc: 0.8363\n"
     ]
    },
    {
     "name": "stderr",
     "output_type": "stream",
     "text": [
      "100%|████████████████████████████████████████████████| 1172/1172 [00:13<00:00, 88.92it/s]\n",
      "100%|█████████████████████████████████████████████████| 391/391 [00:02<00:00, 131.42it/s]\n"
     ]
    },
    {
     "name": "stdout",
     "output_type": "stream",
     "text": [
      "epoch 5 train - loss: 0.3401 acc: 0.8567 val - loss: 0.3758 acc: 0.839\n"
     ]
    },
    {
     "name": "stderr",
     "output_type": "stream",
     "text": [
      "100%|████████████████████████████████████████████████| 1172/1172 [00:13<00:00, 86.40it/s]\n",
      "100%|█████████████████████████████████████████████████| 391/391 [00:03<00:00, 129.75it/s]\n"
     ]
    },
    {
     "name": "stdout",
     "output_type": "stream",
     "text": [
      "epoch 6 train - loss: 0.3327 acc: 0.8593 val - loss: 0.3696 acc: 0.8412\n"
     ]
    },
    {
     "name": "stderr",
     "output_type": "stream",
     "text": [
      "100%|████████████████████████████████████████████████| 1172/1172 [00:13<00:00, 85.01it/s]\n",
      "100%|█████████████████████████████████████████████████████████████████| 391/391 [00:03<00:00, 128.53it/s]\n"
     ]
    },
    {
     "name": "stdout",
     "output_type": "stream",
     "text": [
      "epoch 7 train - loss: 0.3286 acc: 0.861 val - loss: 0.3697 acc: 0.8409\n"
     ]
    },
    {
     "name": "stderr",
     "output_type": "stream",
     "text": [
      "100%|████████████████████████████████████████████████████████████████| 1172/1172 [00:13<00:00, 87.20it/s]\n",
      "100%|█████████████████████████████████████████████████████████████████| 391/391 [00:03<00:00, 129.95it/s]\n"
     ]
    },
    {
     "name": "stdout",
     "output_type": "stream",
     "text": [
      "epoch 8 train - loss: 0.3251 acc: 0.8625 val - loss: 0.3756 acc: 0.8402\n"
     ]
    },
    {
     "name": "stderr",
     "output_type": "stream",
     "text": [
      "100%|████████████████████████████████████████████████████████████████| 1172/1172 [00:13<00:00, 85.67it/s]\n",
      "100%|█████████████████████████████████████████████████████████████████| 391/391 [00:03<00:00, 130.22it/s]\n"
     ]
    },
    {
     "name": "stdout",
     "output_type": "stream",
     "text": [
      "epoch 9 train - loss: 0.3232 acc: 0.8629 val - loss: 0.3692 acc: 0.8435\n"
     ]
    },
    {
     "name": "stderr",
     "output_type": "stream",
     "text": [
      "100%|████████████████████████████████████████████████████████████████| 1172/1172 [00:13<00:00, 83.94it/s]\n",
      "100%|█████████████████████████████████████████████████████████████████| 391/391 [00:03<00:00, 127.38it/s]"
     ]
    },
    {
     "name": "stdout",
     "output_type": "stream",
     "text": [
      "epoch 10 train - loss: 0.3209 acc: 0.8644 val - loss: 0.3707 acc: 0.8421\n"
     ]
    },
    {
     "name": "stderr",
     "output_type": "stream",
     "text": [
      "\n"
     ]
    }
   ],
   "source": [
    "logs = train_validate_model(model)"
   ]
  },
  {
   "cell_type": "code",
   "execution_count": 377,
   "id": "5e1e6271-6b71-4c9e-9545-26abf6ae0224",
   "metadata": {},
   "outputs": [
    {
     "data": {
      "image/png": "[encoded data removed]",
      "text/plain": [
       "<Figure size 1000x400 with 2 Axes>"
      ]
     },
     "metadata": {},
     "output_type": "display_data"
    }
   ],
   "source": [
    "plot_logs(logs)"
   ]
  },
  {
   "cell_type": "markdown",
   "id": "ea19fdd9-6fa7-4a81-88df-d0106041f511",
   "metadata": {},
   "source": [
    "## 정리\n",
    "\n",
    "이번 챕터에서는 텍스트 데이터를 DataLoader를 이용해서 텐서로 변환하고, Embedding Layer와 Fully Connected Layer를 이용해서 분류 모델을 학습시키는 작업을 수행해보았습니다. 그 결과 84% 정도의 성능을 얻을 수 있었습니다."
   ]
  },
  {
   "cell_type": "code",
   "execution_count": null,
   "id": "aadd3af7-15f8-436c-bd1c-d70bfc76845a",
   "metadata": {},
   "outputs": [],
   "source": []
  }
 ],
 "metadata": {
  "kernelspec": {
   "display_name": "Python 3 (ipykernel)",
   "language": "python",
   "name": "python3"
  },
  "language_info": {
   "codemirror_mode": {
    "name": "ipython",
    "version": 3
   },
   "file_extension": ".py",
   "mimetype": "text/x-python",
   "name": "python",
   "nbconvert_exporter": "python",
   "pygments_lexer": "ipython3",
   "version": "3.10.8"
  }
 },
 "nbformat": 4,
 "nbformat_minor": 5
}
