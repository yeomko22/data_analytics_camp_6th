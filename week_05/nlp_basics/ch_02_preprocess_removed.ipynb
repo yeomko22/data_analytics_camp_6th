{
 "cells": [
  {
   "cell_type": "markdown",
   "id": "93215f88-ad81-4429-b35b-dc0b78265b16",
   "metadata": {},
   "source": [
    "## ch 2. 데이터 전처리하기\n",
    "\n",
    "크롤링을 통해 수집한 뉴스 기사 데이터에서 필요없는 부분을 먼저 제거하겠습니다. 텍스트 데이터를 전처리할 때는 정규 표현식을 활용하면 좋습니다.\n",
    "\n",
    "## 불필요한 텍스트 제거\n",
    "- 기사 시작 부분에 언론사나 기자 이름을 언급하는 부분\n",
    "- 기사 마지막 부분에 사진 출처를 언급하는 부분"
   ]
  },
  {
   "cell_type": "code",
   "execution_count": 191,
   "id": "45728611-06d5-4937-958d-53830fa410cc",
   "metadata": {},
   "outputs": [
    {
     "name": "stdout",
     "output_type": "stream",
     "text": [
      "Requirement already satisfied: tqdm in /Users/user/miniconda3/lib/python3.10/site-packages (4.64.1)\n"
     ]
    }
   ],
   "source": [
    "!pip install tqdm"
   ]
  },
  {
   "cell_type": "markdown",
   "id": "64abac64-1028-4944-899b-ea89cb662bdf",
   "metadata": {},
   "source": [
    "### 전처리 하기 전 텍스트 확인"
   ]
  },
  {
   "cell_type": "code",
   "execution_count": null,
   "id": "720569be-e4d6-4b0f-ac9b-08eacdf9eee8",
   "metadata": {},
   "outputs": [],
   "source": []
  },
  {
   "cell_type": "markdown",
   "id": "ea9c7f57-a35c-4662-876b-163b4eab47e9",
   "metadata": {},
   "source": [
    "## 필터링에 사용할 정규 표현식 작성 요령\n",
    "\n",
    "1. 예시 데이터를 가지고 정규표현식을 작성한 뒤, 결과를 확인한다.\n",
    "2. 여러 데이터 샘플들에 대해서도 정규표현식이 의도한 대로 동작하는지 확인한다."
   ]
  },
  {
   "cell_type": "code",
   "execution_count": null,
   "id": "77267396-adc7-4490-b879-0cf43a5c63c0",
   "metadata": {},
   "outputs": [],
   "source": []
  },
  {
   "cell_type": "markdown",
   "id": "150d6f3f-061e-4987-8e6f-d5c152157a5d",
   "metadata": {
    "tags": []
   },
   "source": [
    "### 전체 데이터 셋에서 일부를 샘플링해서 정규표현식 패턴에 일치하는 텍스트만 출력"
   ]
  },
  {
   "cell_type": "code",
   "execution_count": null,
   "id": "4f550f10-092e-4bb0-bb95-4e49dbe84b71",
   "metadata": {},
   "outputs": [],
   "source": []
  },
  {
   "cell_type": "markdown",
   "id": "f08ef112-4b40-4ead-98c3-0ef85d3765f2",
   "metadata": {},
   "source": [
    "### re.sub 함수를 이용해서 불필요한 텍스트 제거\n",
    "앞서서 검증한 패턴을 가지고 데이터 셋에서 불필요한 부분을 제거"
   ]
  },
  {
   "cell_type": "code",
   "execution_count": null,
   "id": "440798d2-6100-45c0-9e2b-1fc307e4f47f",
   "metadata": {},
   "outputs": [],
   "source": []
  },
  {
   "cell_type": "markdown",
   "id": "34492bac-6458-4fb5-9d06-1b5e7624f858",
   "metadata": {},
   "source": [
    "### 날짜 순으로 정렬"
   ]
  },
  {
   "cell_type": "code",
   "execution_count": null,
   "id": "65412037-c07c-4b9b-b483-a4f9cf37fd9d",
   "metadata": {},
   "outputs": [],
   "source": []
  },
  {
   "cell_type": "markdown",
   "id": "9503f057-0981-4929-af5c-d2fe236a35ef",
   "metadata": {},
   "source": [
    "### 결과 출력"
   ]
  },
  {
   "cell_type": "code",
   "execution_count": null,
   "id": "f0bc189c-37ff-4728-9b1a-eb15b838610a",
   "metadata": {},
   "outputs": [],
   "source": []
  }
 ],
 "metadata": {
  "kernelspec": {
   "display_name": "Python 3 (ipykernel)",
   "language": "python",
   "name": "python3"
  },
  "language_info": {
   "codemirror_mode": {
    "name": "ipython",
    "version": 3
   },
   "file_extension": ".py",
   "mimetype": "text/x-python",
   "name": "python",
   "nbconvert_exporter": "python",
   "pygments_lexer": "ipython3",
   "version": "3.10.8"
  }
 },
 "nbformat": 4,
 "nbformat_minor": 5
}
