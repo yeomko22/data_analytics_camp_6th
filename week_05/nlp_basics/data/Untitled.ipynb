{
 "cells": [
  {
   "cell_type": "code",
   "execution_count": 1,
   "id": "1d502cd9-316a-48a9-914d-fef18daa4f2c",
   "metadata": {},
   "outputs": [],
   "source": [
    "import csv"
   ]
  },
  {
   "cell_type": "code",
   "execution_count": 4,
   "id": "d31ab2c6-b8dd-4ee0-b943-2b483e8f796b",
   "metadata": {},
   "outputs": [
    {
     "name": "stderr",
     "output_type": "stream",
     "text": [
      "102920it [00:03, 30868.08it/s]\n"
     ]
    }
   ],
   "source": [
    "from tqdm import tqdm\n",
    "\n",
    "with open(\"./baseball.csv\", \"w\", encoding=\"utf-8\") as fw:\n",
    "    writer = csv.writer(fw)\n",
    "    with open(\"/Users/user/Downloads/baseball.csv\") as fr:\n",
    "        reader = csv.reader(fr)\n",
    "        for row in tqdm(reader):\n",
    "            writer.writerow(row)"
   ]
  },
  {
   "cell_type": "code",
   "execution_count": null,
   "id": "3de48dcb-5d8d-4761-b403-1ead51e06a00",
   "metadata": {},
   "outputs": [],
   "source": []
  }
 ],
 "metadata": {
  "kernelspec": {
   "display_name": "Python 3 (ipykernel)",
   "language": "python",
   "name": "python3"
  },
  "language_info": {
   "codemirror_mode": {
    "name": "ipython",
    "version": 3
   },
   "file_extension": ".py",
   "mimetype": "text/x-python",
   "name": "python",
   "nbconvert_exporter": "python",
   "pygments_lexer": "ipython3",
   "version": "3.10.8"
  }
 },
 "nbformat": 4,
 "nbformat_minor": 5
}
