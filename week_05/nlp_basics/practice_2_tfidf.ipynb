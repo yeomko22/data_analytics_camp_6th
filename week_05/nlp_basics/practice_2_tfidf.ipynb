{
 "cells": [
  {
   "cell_type": "markdown",
   "id": "816b6255-672c-4ad5-880c-98c70728e5a4",
   "metadata": {},
   "source": [
    "## 연습 문제 2. 영화 추천하기\n",
    "\n",
    "데이터 셋 출처: https://www.kaggle.com/datasets/hijest/genre-classification-dataset-imdb\n",
    "\n",
    "IMDB는 영화 리뷰를 제공하는 웹 서비스입니다. 이 사이트에서 크롤링한 영화 제목, 장르, 줄거리 데이터 셋을 가지고 간단한 추천을 구현해보고자 합니다. 사용자는 자연어 형태로 본인이 원하는 영화의 장르, 특징, 줄거리 등을 입력하면 tf-idf를 이용하여 적절한 영화를 추천해주는 시스템을 개발해보세요."
   ]
  },
  {
   "cell_type": "code",
   "execution_count": 5,
   "id": "f07e0ecd-d237-4fbd-ad68-5a5e93aace92",
   "metadata": {},
   "outputs": [
    {
     "name": "stderr",
     "output_type": "stream",
     "text": [
      "100%|██████████████████████████████████████████████████████████████████████| 54214/54214 [00:04<00:00, 12813.41it/s]\n"
     ]
    }
   ],
   "source": [
    "import pandas as pd\n",
    "from tqdm import tqdm\n",
    "\n",
    "tqdm.pandas()\n",
    "df = pd.read_csv(\"./data/movies_preprocessed.csv\")\n",
    "df[\"content_tokens\"] = df[\"content_tokens\"].progress_apply(lambda x: eval(x))"
   ]
  },
  {
   "cell_type": "code",
   "execution_count": 11,
   "id": "66eaa8b9-99f7-4167-8053-ec592a0f2cb9",
   "metadata": {},
   "outputs": [
    {
     "data": {
      "text/plain": [
       "array(['Listening in to a conversation between his doctor and parents, 10-year-old Oscar learns what nobody has the courage to tell him. He only has a few weeks to live. Furious, he refuses to speak to anyone except straight-talking Rose, the lady in pink he meets on the hospital stairs. As Christmas approaches, Rose uses her fantastical experiences as a professional wrestler, her imagination, wit and charm to allow Oscar to live life and love to the full, in the company of his friends Pop Corn, Einstein, Bacon and childhood sweetheart Peggy Blue.\\n'],\n",
       "      dtype=object)"
      ]
     },
     "execution_count": 11,
     "metadata": {},
     "output_type": "execute_result"
    }
   ],
   "source": [
    "df[df[\"title\"]==\"Oscar et la dame rose (2009)\"][\"content\"].values"
   ]
  },
  {
   "cell_type": "code",
   "execution_count": 4,
   "id": "e135fdd5-09b2-4905-8cea-fd6ad263258f",
   "metadata": {},
   "outputs": [
    {
     "data": {
      "text/plain": [
       "['listen', 'music']"
      ]
     },
     "execution_count": 4,
     "metadata": {},
     "output_type": "execute_result"
    }
   ],
   "source": [
    "from util import preprocess\n",
    "\n",
    "preprocess(\"Listening to the music\")"
   ]
  },
  {
   "cell_type": "code",
   "execution_count": null,
   "id": "afaee655-e49c-4a6c-b818-ccd0d033a335",
   "metadata": {},
   "outputs": [],
   "source": []
  }
 ],
 "metadata": {
  "kernelspec": {
   "display_name": "Python 3 (ipykernel)",
   "language": "python",
   "name": "python3"
  },
  "language_info": {
   "codemirror_mode": {
    "name": "ipython",
    "version": 3
   },
   "file_extension": ".py",
   "mimetype": "text/x-python",
   "name": "python",
   "nbconvert_exporter": "python",
   "pygments_lexer": "ipython3",
   "version": "3.10.8"
  }
 },
 "nbformat": 4,
 "nbformat_minor": 5
}
