{
 "cells": [
  {
   "cell_type": "markdown",
   "id": "e2fb242f-2439-4026-9d76-b0cd9810863c",
   "metadata": {},
   "source": [
    "## ch3. 2022년 선수별 언급 횟수 추이 시각화하기\n",
    "\n",
    "이제 선수별로 시간 흐름에 따라서 뉴스 기사에서 언급된 횟수를 카운팅하겠습니다.  \n",
    "\n",
    "### 선수 이름 데이터 가져오기\n",
    "선수들의 이름은 KBO 공식 홈페이지에서 가져왔습니다.  \n",
    "\n",
    "- KBO 전체 등록 현황: https://www.koreabaseball.com/Player/RegisterAll.aspx"
   ]
  },
  {
   "cell_type": "code",
   "execution_count": null,
   "id": "73672505-4711-47de-82b5-847a33156c5f",
   "metadata": {},
   "outputs": [],
   "source": []
  },
  {
   "cell_type": "markdown",
   "id": "9b6f1192-d32b-4eab-a636-55f5d97f1add",
   "metadata": {},
   "source": [
    "### 기사에서 선수 이름 카운팅하기\n",
    "- 선수 이름 리스트를 정규표현식으로 만들어 카운팅을 할 예정\n",
    "- \"양현\", \"양현종\" 선수처럼 이름외 외자인 선수가 존재할 경우, 이름이 세글자인 선수가 먼저 검색에 걸리도록 players 리스트의 순서를 한번 뒤집어준다."
   ]
  },
  {
   "cell_type": "code",
   "execution_count": null,
   "id": "e7765366-2d49-4f39-89a1-ebb2d96d837b",
   "metadata": {},
   "outputs": [],
   "source": []
  },
  {
   "cell_type": "markdown",
   "id": "5f5e6fbf-4b4b-48d9-9361-b10f77192f6f",
   "metadata": {},
   "source": [
    "- 정규표현식의 findall 함수를 이용해서 기사에 등장한 선수 이름을 찾습니다.\n",
    "- 길이가 긴 기사와 짧은 기사 간의 형평성을 위해서 중복을 제거해줍니다."
   ]
  },
  {
   "cell_type": "code",
   "execution_count": null,
   "id": "c0d96e14-1120-4282-b259-14bd44393b3f",
   "metadata": {},
   "outputs": [],
   "source": []
  },
  {
   "cell_type": "markdown",
   "id": "1f784b42-b2e4-4ac5-b237-3238658db023",
   "metadata": {},
   "source": [
    "## 선수별 2022년 시계열 뉴스 기사 언급 횟수 데이터 셋 만들기\n",
    "이제 각 선수별로 2022년 누적 언급 횟수를 카운팅하는 데이터 셋을 만들어줍니다.\n",
    "\n",
    "### 1. 각 일자별 기사들을 가져와서 선수 언급 횟수를 카운팅하여 딕셔너리 형태로 만듭니다. \n",
    "- key: 날짜 value: 선수 언급 횟수 Counter\n",
    "- Counter의 key: 선수 이름, value: 언급 횟수\n",
    "\n",
    "```python\n",
    "date_counter = {\n",
    "    \"20230302\": {\n",
    "        \"이정후\": 5,\n",
    "        \"김광현\": 10,\n",
    "        ...\n",
    "    },\n",
    "    \"20230731\": {\n",
    "        \"이정후\": 12,\n",
    "        \"김광현\": 8\n",
    "    },\n",
    "    ...\n",
    "}\n",
    "```\n",
    "\n"
   ]
  },
  {
   "cell_type": "code",
   "execution_count": null,
   "id": "835207f5-e08f-4ebf-83be-e99f2257690f",
   "metadata": {},
   "outputs": [],
   "source": []
  },
  {
   "cell_type": "markdown",
   "id": "4f71120f-cf94-46f1-acb8-6f0cceda8938",
   "metadata": {},
   "source": [
    "### 2. 2022년 각 일자를 나타내는 리스트를 만들어 줌"
   ]
  },
  {
   "cell_type": "code",
   "execution_count": null,
   "id": "7255a7d6-bf20-4b91-94bd-4d00c7734b2a",
   "metadata": {},
   "outputs": [],
   "source": []
  },
  {
   "cell_type": "markdown",
   "id": "e2d16da3-0702-43c1-b115-6746ea398868",
   "metadata": {},
   "source": [
    "### 3. 선수별로 2022년 시간 흐름에 따른 누적 언급 횟수 집계하기\n",
    "각 선수들의 이름을 key, 2022년도 일자 흐름에 따라서 누적 언급 횟수 list를 value로 갖도록 딕셔너리를 만듬.\n",
    "- key: 선수 이름, value: 각 일자별 누적 언급 횟수\n",
    "```python\n",
    "player_count_dict = {\n",
    "    \"이정후\": [5, 7, 16, 29, 33, ...],\n",
    "    \"김광현\": [1, 1, 5, 8, 10, ...]\n",
    "}\n",
    "```"
   ]
  },
  {
   "cell_type": "code",
   "execution_count": null,
   "id": "137ac540-9621-4883-831e-fd91dcb3996d",
   "metadata": {},
   "outputs": [],
   "source": []
  },
  {
   "cell_type": "markdown",
   "id": "b7cb27a7-f884-461e-93f1-da981c8d7b78",
   "metadata": {},
   "source": [
    "## 결과 출력하기"
   ]
  },
  {
   "cell_type": "code",
   "execution_count": null,
   "id": "4df32c07-b109-4add-9265-4280966957ca",
   "metadata": {},
   "outputs": [],
   "source": []
  }
 ],
 "metadata": {
  "kernelspec": {
   "display_name": "Python 3 (ipykernel)",
   "language": "python",
   "name": "python3"
  },
  "language_info": {
   "codemirror_mode": {
    "name": "ipython",
    "version": 3
   },
   "file_extension": ".py",
   "mimetype": "text/x-python",
   "name": "python",
   "nbconvert_exporter": "python",
   "pygments_lexer": "ipython3",
   "version": "3.10.8"
  }
 },
 "nbformat": 4,
 "nbformat_minor": 5
}
