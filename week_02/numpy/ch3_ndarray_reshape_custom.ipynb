{
 "cells": [
  {
   "cell_type": "markdown",
   "id": "ec64d2bf-c598-496f-a93d-336ffbd61671",
   "metadata": {
    "tags": []
   },
   "source": [
    "# ch3. ndarray 형태 변경하기\n",
    "np.reshape, np.transpose 등의 함수를 이용하면 다차원 배열의 형태를 원하는 대로 변경할 수 있습니다."
   ]
  },
  {
   "cell_type": "markdown",
   "id": "dd50e001-eafc-4656-a7cf-f93fa2b7eb38",
   "metadata": {},
   "source": [
    "### np.reshape\n",
    "ndarray를 원하는 형태로 지정하여 변경할 수 있습니다. 단, 이 때 변경 전과 변경 후의 다차원 배열의 원소 개수가 동일하게 유지되어야 합니다.  \n",
    "ex) 3 x4 -> 2 x 6"
   ]
  },
  {
   "cell_type": "code",
   "execution_count": 1,
   "id": "ee872976-6f2f-476d-88f0-5d7bbf3f0678",
   "metadata": {},
   "outputs": [],
   "source": [
    "import numpy as np"
   ]
  },
  {
   "cell_type": "code",
   "execution_count": 3,
   "id": "b6e29550-7db0-4d0a-a01f-a760908e2d05",
   "metadata": {},
   "outputs": [],
   "source": [
    "a = np.arange(1, 13, 1)"
   ]
  },
  {
   "cell_type": "code",
   "execution_count": 5,
   "id": "1c60738e-73b2-4e31-bdd9-6fe0e530eca6",
   "metadata": {},
   "outputs": [
    {
     "data": {
      "text/plain": [
       "(12,)"
      ]
     },
     "execution_count": 5,
     "metadata": {},
     "output_type": "execute_result"
    }
   ],
   "source": [
    "a.shape"
   ]
  },
  {
   "cell_type": "code",
   "execution_count": 20,
   "id": "93be7546-9416-493b-bdd1-b4f944f80d31",
   "metadata": {},
   "outputs": [
    {
     "data": {
      "text/plain": [
       "array([[ 1,  2,  3,  4,  5,  6],\n",
       "       [ 7,  8,  9, 10, 11, 12]])"
      ]
     },
     "execution_count": 20,
     "metadata": {},
     "output_type": "execute_result"
    }
   ],
   "source": [
    "a.reshape([2, 6])"
   ]
  },
  {
   "cell_type": "code",
   "execution_count": 7,
   "id": "1a364062-f6f1-4cbb-b447-853b20562d4e",
   "metadata": {},
   "outputs": [
    {
     "data": {
      "text/plain": [
       "array([[ 1,  2,  3,  4],\n",
       "       [ 5,  6,  7,  8],\n",
       "       [ 9, 10, 11, 12]])"
      ]
     },
     "execution_count": 7,
     "metadata": {},
     "output_type": "execute_result"
    }
   ],
   "source": [
    "a.reshape([3, 4])"
   ]
  },
  {
   "cell_type": "markdown",
   "id": "fdd7e27f-5e8d-4024-8fc4-6b9dbd5a81e5",
   "metadata": {},
   "source": [
    "### np.transpose\n",
    "np.transpose는 2차원 배열의 x축과 y축을 변경해줄 때 사용합니다. np.transpose 함수에 직접 바꾸고자 하는 축을 입력해주면 해당 축을 바꿔줍니다."
   ]
  },
  {
   "cell_type": "code",
   "execution_count": 8,
   "id": "a3720ee9-3731-4941-91df-38838ed43087",
   "metadata": {},
   "outputs": [],
   "source": [
    "a = np.arange(1, 7, 1).reshape([2, 3])"
   ]
  },
  {
   "cell_type": "code",
   "execution_count": 9,
   "id": "ecf8ecd9-ce79-477e-b0cd-7b7743a5817a",
   "metadata": {},
   "outputs": [
    {
     "data": {
      "text/plain": [
       "array([[1, 2, 3],\n",
       "       [4, 5, 6]])"
      ]
     },
     "execution_count": 9,
     "metadata": {},
     "output_type": "execute_result"
    }
   ],
   "source": [
    "a"
   ]
  },
  {
   "cell_type": "code",
   "execution_count": 11,
   "id": "cc36eeae-8ee1-4d28-88d4-346409e3254a",
   "metadata": {},
   "outputs": [
    {
     "data": {
      "text/plain": [
       "2"
      ]
     },
     "execution_count": 11,
     "metadata": {},
     "output_type": "execute_result"
    }
   ],
   "source": [
    "a[0][1]"
   ]
  },
  {
   "cell_type": "code",
   "execution_count": 13,
   "id": "c3d03da4-c742-4bdb-844a-7077fe7060e5",
   "metadata": {},
   "outputs": [],
   "source": [
    "a_transpose = a.transpose()"
   ]
  },
  {
   "cell_type": "code",
   "execution_count": 14,
   "id": "3ba470c5-31fc-4595-97e9-44516122e1d2",
   "metadata": {},
   "outputs": [
    {
     "data": {
      "text/plain": [
       "array([[1, 4],\n",
       "       [2, 5],\n",
       "       [3, 6]])"
      ]
     },
     "execution_count": 14,
     "metadata": {},
     "output_type": "execute_result"
    }
   ],
   "source": [
    "a_transpose"
   ]
  },
  {
   "cell_type": "code",
   "execution_count": 16,
   "id": "4fc1681e-12c6-46ca-adc9-7aedfdec6dfb",
   "metadata": {},
   "outputs": [
    {
     "data": {
      "text/plain": [
       "2"
      ]
     },
     "execution_count": 16,
     "metadata": {},
     "output_type": "execute_result"
    }
   ],
   "source": [
    "a_transpose[1][0]"
   ]
  },
  {
   "cell_type": "markdown",
   "id": "d7b06101-2a9e-498f-b22b-3b4855812906",
   "metadata": {},
   "source": [
    "### ndarray 펼치기\n",
    "np.flatten을 사용하면 다차원 배열을 1차원으로 펼칠 수 있다."
   ]
  },
  {
   "cell_type": "code",
   "execution_count": 17,
   "id": "cb31779a-2f6a-4b53-b11d-7e89c85888d0",
   "metadata": {},
   "outputs": [
    {
     "data": {
      "text/plain": [
       "array([[[ 1,  2],\n",
       "        [ 3,  4],\n",
       "        [ 5,  6]],\n",
       "\n",
       "       [[ 7,  8],\n",
       "        [ 9, 10],\n",
       "        [11, 12]]])"
      ]
     },
     "execution_count": 17,
     "metadata": {},
     "output_type": "execute_result"
    }
   ],
   "source": [
    "a = np.arange(1, 13, 1).reshape([2, 3, 2])\n",
    "a"
   ]
  },
  {
   "cell_type": "code",
   "execution_count": 18,
   "id": "7e52ce33-18bb-4e06-8a85-249956a2c7af",
   "metadata": {},
   "outputs": [
    {
     "data": {
      "text/plain": [
       "array([ 1,  2,  3,  4,  5,  6,  7,  8,  9, 10, 11, 12])"
      ]
     },
     "execution_count": 18,
     "metadata": {},
     "output_type": "execute_result"
    }
   ],
   "source": [
    "a.flatten()"
   ]
  },
  {
   "cell_type": "markdown",
   "id": "c98856d1-eb49-4da3-962a-e762e954e133",
   "metadata": {},
   "source": [
    "### 연습문제\n",
    "np.reshape를 사용하여 b를 아래 형태들로 만들어 보세요"
   ]
  },
  {
   "cell_type": "code",
   "execution_count": 37,
   "id": "f00b7064-96c9-4c2d-9253-299aade17f99",
   "metadata": {},
   "outputs": [],
   "source": [
    "import numpy as np\n",
    "\n",
    "reshape_example = np.arange(1, 13, 1)"
   ]
  },
  {
   "cell_type": "code",
   "execution_count": 38,
   "id": "b862c5fd-b631-409a-92e8-70f7e639486d",
   "metadata": {},
   "outputs": [
    {
     "data": {
      "text/plain": [
       "array([ 1,  2,  3,  4,  5,  6,  7,  8,  9, 10, 11, 12])"
      ]
     },
     "execution_count": 38,
     "metadata": {},
     "output_type": "execute_result"
    }
   ],
   "source": [
    "reshape_example"
   ]
  },
  {
   "cell_type": "code",
   "execution_count": 39,
   "id": "a5d21313-30ce-49a0-9613-abf27678ff1b",
   "metadata": {},
   "outputs": [
    {
     "data": {
      "text/plain": [
       "array([[ 1,  2],\n",
       "       [ 3,  4],\n",
       "       [ 5,  6],\n",
       "       [ 7,  8],\n",
       "       [ 9, 10],\n",
       "       [11, 12]])"
      ]
     },
     "execution_count": 39,
     "metadata": {},
     "output_type": "execute_result"
    }
   ],
   "source": [
    "reshape_example.reshape([6, 2])"
   ]
  },
  {
   "cell_type": "code",
   "execution_count": 40,
   "id": "47826162-341b-4eab-b068-7913e61b92d4",
   "metadata": {},
   "outputs": [
    {
     "data": {
      "text/plain": [
       "array([ 1,  2,  3,  4,  5,  6,  7,  8,  9, 10, 11, 12])"
      ]
     },
     "execution_count": 40,
     "metadata": {},
     "output_type": "execute_result"
    }
   ],
   "source": [
    "reshape_example"
   ]
  },
  {
   "cell_type": "code",
   "execution_count": 25,
   "id": "da866337-23b9-437a-a2db-c69f3423a5c1",
   "metadata": {},
   "outputs": [
    {
     "data": {
      "text/plain": [
       "array([[[ 1,  2],\n",
       "        [ 3,  4]],\n",
       "\n",
       "       [[ 5,  6],\n",
       "        [ 7,  8]],\n",
       "\n",
       "       [[ 9, 10],\n",
       "        [11, 12]]])"
      ]
     },
     "execution_count": 25,
     "metadata": {},
     "output_type": "execute_result"
    }
   ],
   "source": [
    "reshape_example.reshape([3, 2, 2])"
   ]
  },
  {
   "cell_type": "code",
   "execution_count": 23,
   "id": "45fb285d-77ba-42d5-86ad-65fc28cbc458",
   "metadata": {},
   "outputs": [
    {
     "data": {
      "text/plain": [
       "array([[[ 1,  2],\n",
       "        [ 3,  4]],\n",
       "\n",
       "       [[ 5,  6],\n",
       "        [ 7,  8]],\n",
       "\n",
       "       [[ 9, 10],\n",
       "        [11, 12]]])"
      ]
     },
     "execution_count": 23,
     "metadata": {},
     "output_type": "execute_result"
    }
   ],
   "source": []
  },
  {
   "cell_type": "code",
   "execution_count": 26,
   "id": "9e8edf38-8ece-4d22-9985-c6970ee43a52",
   "metadata": {},
   "outputs": [
    {
     "data": {
      "text/plain": [
       "array([[[ 1,  2,  3],\n",
       "        [ 4,  5,  6]],\n",
       "\n",
       "       [[ 7,  8,  9],\n",
       "        [10, 11, 12]]])"
      ]
     },
     "execution_count": 27,
     "metadata": {},
     "output_type": "execute_result"
    }
   ],
   "source": [
    "reshape_example.reshape([2, 2, 3])"
   ]
  },
  {
   "cell_type": "code",
   "execution_count": 26,
   "id": "9d73c32c-cde6-4d14-ae3b-9e7085bd9828",
   "metadata": {},
   "outputs": [
    {
     "data": {
      "text/plain": [
       "array([[[ 1,  2,  3],\n",
       "        [ 4,  5,  6]],\n",
       "\n",
       "       [[ 7,  8,  9],\n",
       "        [10, 11, 12]]])"
      ]
     },
     "execution_count": 26,
     "metadata": {},
     "output_type": "execute_result"
    }
   ],
   "source": []
  }
 ],
 "metadata": {
  "kernelspec": {
   "display_name": "Python 3 (ipykernel)",
   "language": "python",
   "name": "python3"
  },
  "language_info": {
   "codemirror_mode": {
    "name": "ipython",
    "version": 3
   },
   "file_extension": ".py",
   "mimetype": "text/x-python",
   "name": "python",
   "nbconvert_exporter": "python",
   "pygments_lexer": "ipython3",
   "version": "3.10.8"
  }
 },
 "nbformat": 4,
 "nbformat_minor": 5
}
