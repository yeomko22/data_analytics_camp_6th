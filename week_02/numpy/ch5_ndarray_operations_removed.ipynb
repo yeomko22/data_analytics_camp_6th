{
 "cells": [
  {
   "cell_type": "markdown",
   "id": "4d650a0c-d72c-46bc-abbc-15fe123937c2",
   "metadata": {
    "tags": []
   },
   "source": [
    "# ch5. ndarray 연산\n",
    "numpy ndarray도 더하고 빼기 연산을 할 수 있습니다."
   ]
  },
  {
   "cell_type": "markdown",
   "id": "765efd69-d693-4e03-8c59-276916eafcff",
   "metadata": {},
   "source": [
    "### ndarray와 숫자 (스칼라값) 간의 연산\n",
    "ndarray는 숫자와 더하기, 빼기, 나누기, 곱하기가 가능합니다. 이 때, ndarray의 모든 요소들에 해당 숫자 연산이 적용됩니다."
   ]
  },
  {
   "cell_type": "code",
   "execution_count": 1,
   "id": "4e991986-cec9-4b93-b706-cfb24c9bdc10",
   "metadata": {},
   "outputs": [],
   "source": [
    "import numpy as np"
   ]
  },
  {
   "cell_type": "code",
   "execution_count": 2,
   "id": "03230895-a966-4eb7-a7ff-6765986c3659",
   "metadata": {},
   "outputs": [
    {
     "data": {
      "text/plain": [
       "array([[1, 2, 3, 4],\n",
       "       [5, 6, 7, 8]])"
      ]
     },
     "execution_count": 2,
     "metadata": {},
     "output_type": "execute_result"
    }
   ],
   "source": [
    "a = np.arange(1, 9, 1).reshape([2, 4])\n",
    "a"
   ]
  },
  {
   "cell_type": "code",
   "execution_count": 6,
   "id": "e12f969f-6223-4e14-9632-ae5a397e00c8",
   "metadata": {},
   "outputs": [
    {
     "data": {
      "text/plain": [
       "array([[ 4.5,  5.5,  6.5,  7.5],\n",
       "       [ 8.5,  9.5, 10.5, 11.5]])"
      ]
     },
     "execution_count": 6,
     "metadata": {},
     "output_type": "execute_result"
    }
   ],
   "source": [
    "a + 3.5"
   ]
  },
  {
   "cell_type": "code",
   "execution_count": 7,
   "id": "18eb0c94-88d8-46e2-a3e1-edca0fc68dbb",
   "metadata": {},
   "outputs": [
    {
     "data": {
      "text/plain": [
       "array([[-1,  0,  1,  2],\n",
       "       [ 3,  4,  5,  6]])"
      ]
     },
     "execution_count": 7,
     "metadata": {},
     "output_type": "execute_result"
    }
   ],
   "source": [
    "a - 2"
   ]
  },
  {
   "cell_type": "code",
   "execution_count": 8,
   "id": "bddac757-538d-4855-ba12-ddf3d8021998",
   "metadata": {},
   "outputs": [
    {
     "data": {
      "text/plain": [
       "array([[10, 20, 30, 40],\n",
       "       [50, 60, 70, 80]])"
      ]
     },
     "execution_count": 8,
     "metadata": {},
     "output_type": "execute_result"
    }
   ],
   "source": [
    "a * 10"
   ]
  },
  {
   "cell_type": "code",
   "execution_count": 9,
   "id": "5b7be45b-5674-414c-94de-1b368bb70943",
   "metadata": {},
   "outputs": [
    {
     "data": {
      "text/plain": [
       "array([[0.5, 1. , 1.5, 2. ],\n",
       "       [2.5, 3. , 3.5, 4. ]])"
      ]
     },
     "execution_count": 9,
     "metadata": {},
     "output_type": "execute_result"
    }
   ],
   "source": [
    "a / 2"
   ]
  },
  {
   "cell_type": "code",
   "execution_count": 10,
   "id": "f8fa05ea-3135-4647-a25b-4d52a7c5835b",
   "metadata": {},
   "outputs": [
    {
     "data": {
      "text/plain": [
       "array([[1, 0, 1, 0],\n",
       "       [1, 0, 1, 0]])"
      ]
     },
     "execution_count": 10,
     "metadata": {},
     "output_type": "execute_result"
    }
   ],
   "source": [
    "a % 2"
   ]
  },
  {
   "cell_type": "code",
   "execution_count": 13,
   "id": "391e6aff-d820-42c0-bd84-b50877a480d1",
   "metadata": {},
   "outputs": [
    {
     "data": {
      "text/plain": [
       "(numpy.ndarray, numpy.int64)"
      ]
     },
     "execution_count": 13,
     "metadata": {},
     "output_type": "execute_result"
    }
   ],
   "source": [
    "type(a), type(a[0][0])"
   ]
  },
  {
   "cell_type": "code",
   "execution_count": 14,
   "id": "67687b9e-cad5-43f9-b2dd-6ec7eca07c58",
   "metadata": {},
   "outputs": [
    {
     "data": {
      "text/plain": [
       "array([[1, 2, 3, 4],\n",
       "       [5, 6, 7, 8]], dtype=int32)"
      ]
     },
     "execution_count": 14,
     "metadata": {},
     "output_type": "execute_result"
    }
   ],
   "source": [
    "a.astype(np.int32)"
   ]
  },
  {
   "cell_type": "markdown",
   "id": "75cbfdac-5bf1-42d7-aac5-d37b6fb51396",
   "metadata": {},
   "source": [
    "### ndarray 간 연산\n",
    "차원이 동일한 ndarray 간에는 사칙 연산이 가능합니다. 이 때는 ndarray의 동일한 인덱스끼리 연산을 수행합니다."
   ]
  },
  {
   "cell_type": "code",
   "execution_count": 15,
   "id": "d84284da-8629-4efd-80d0-aeaa8bebd085",
   "metadata": {},
   "outputs": [
    {
     "data": {
      "text/plain": [
       "array([[1, 2, 3, 4],\n",
       "       [5, 6, 7, 8]])"
      ]
     },
     "execution_count": 15,
     "metadata": {},
     "output_type": "execute_result"
    }
   ],
   "source": [
    "a"
   ]
  },
  {
   "cell_type": "code",
   "execution_count": 16,
   "id": "b5e997ff-30f8-4def-be0c-f0bbcf08aeda",
   "metadata": {},
   "outputs": [
    {
     "data": {
      "text/plain": [
       "array([[ 9, 10, 11, 12],\n",
       "       [13, 14, 15, 16]])"
      ]
     },
     "execution_count": 16,
     "metadata": {},
     "output_type": "execute_result"
    }
   ],
   "source": [
    "b = np.arange(9, 17, 1).reshape([2, 4])\n",
    "b"
   ]
  },
  {
   "cell_type": "code",
   "execution_count": 17,
   "id": "6e9e12a7-18ab-47c3-98fc-94545b493080",
   "metadata": {},
   "outputs": [
    {
     "data": {
      "text/plain": [
       "array([18, 19, 20, 21, 22, 23, 24, 25])"
      ]
     },
     "execution_count": 17,
     "metadata": {},
     "output_type": "execute_result"
    }
   ],
   "source": [
    "c = np.arange(18, 26, 1)\n",
    "c"
   ]
  },
  {
   "cell_type": "code",
   "execution_count": 18,
   "id": "12d1c336-c344-4ddc-afb6-c740ec1be34d",
   "metadata": {},
   "outputs": [
    {
     "data": {
      "text/plain": [
       "array([[10, 12, 14, 16],\n",
       "       [18, 20, 22, 24]])"
      ]
     },
     "execution_count": 18,
     "metadata": {},
     "output_type": "execute_result"
    }
   ],
   "source": [
    "a + b"
   ]
  },
  {
   "cell_type": "code",
   "execution_count": 19,
   "id": "7a7b253f-f8e4-44c5-a0ee-4588357601f4",
   "metadata": {},
   "outputs": [
    {
     "data": {
      "text/plain": [
       "array([[-8, -8, -8, -8],\n",
       "       [-8, -8, -8, -8]])"
      ]
     },
     "execution_count": 19,
     "metadata": {},
     "output_type": "execute_result"
    }
   ],
   "source": [
    "a - b"
   ]
  },
  {
   "cell_type": "code",
   "execution_count": 20,
   "id": "a2d9966e-5448-4b9d-94c5-037e34cc4a14",
   "metadata": {},
   "outputs": [
    {
     "data": {
      "text/plain": [
       "array([[  9,  20,  33,  48],\n",
       "       [ 65,  84, 105, 128]])"
      ]
     },
     "execution_count": 20,
     "metadata": {},
     "output_type": "execute_result"
    }
   ],
   "source": [
    "a * b"
   ]
  },
  {
   "cell_type": "code",
   "execution_count": 21,
   "id": "d926e815-0cc5-4a03-815b-be4cfa4a01c0",
   "metadata": {},
   "outputs": [
    {
     "data": {
      "text/plain": [
       "array([[1, 2, 3, 4],\n",
       "       [5, 6, 7, 8]])"
      ]
     },
     "execution_count": 21,
     "metadata": {},
     "output_type": "execute_result"
    }
   ],
   "source": [
    "a % b"
   ]
  },
  {
   "cell_type": "markdown",
   "id": "b53eb77a-7f75-442a-aef4-e50f3035dd63",
   "metadata": {},
   "source": [
    "### numpy boolean 연산\n",
    "ndarray에 부등식 연산을 수행하면 각 원소에 대해서 부등식을 만족하는지 여부를 boolean 값으로 채워준 ndarray를 리턴합니다."
   ]
  },
  {
   "cell_type": "code",
   "execution_count": 34,
   "id": "b0e720ef-1f5f-4844-b119-b19797c8eef8",
   "metadata": {},
   "outputs": [
    {
     "data": {
      "text/plain": [
       "array([[1, 2, 3, 4],\n",
       "       [5, 6, 7, 8]])"
      ]
     },
     "execution_count": 34,
     "metadata": {},
     "output_type": "execute_result"
    }
   ],
   "source": [
    "a"
   ]
  },
  {
   "cell_type": "code",
   "execution_count": 45,
   "id": "b26b6661-f53c-435f-8d61-374ac1eb4296",
   "metadata": {},
   "outputs": [
    {
     "data": {
      "text/plain": [
       "array([[5, 6],\n",
       "       [7, 8]])"
      ]
     },
     "execution_count": 45,
     "metadata": {},
     "output_type": "execute_result"
    }
   ],
   "source": [
    "a[[[False, False, False, False], [ True,  True,  True,  True]]]"
   ]
  },
  {
   "cell_type": "code",
   "execution_count": 35,
   "id": "6e7b8679-f6fc-491e-bf88-d86796feeeb4",
   "metadata": {},
   "outputs": [
    {
     "data": {
      "text/plain": [
       "array([[False, False, False, False],\n",
       "       [ True,  True,  True,  True]])"
      ]
     },
     "execution_count": 35,
     "metadata": {},
     "output_type": "execute_result"
    }
   ],
   "source": [
    "a > 4"
   ]
  },
  {
   "cell_type": "code",
   "execution_count": 37,
   "id": "1d09abe8-caec-40b2-b9a3-ea9a1ba941a8",
   "metadata": {},
   "outputs": [
    {
     "data": {
      "text/plain": [
       "array([[False,  True, False,  True],\n",
       "       [False,  True, False,  True]])"
      ]
     },
     "execution_count": 37,
     "metadata": {},
     "output_type": "execute_result"
    }
   ],
   "source": [
    "a % 2 == 0"
   ]
  },
  {
   "cell_type": "markdown",
   "id": "d3afd7fc-d8d1-474c-bf75-5bdccf8047da",
   "metadata": {},
   "source": [
    "이렇게 구한 boolean 값으로 채워진 ndarray는 인덱스처럼 사용할 수 있습니다."
   ]
  },
  {
   "cell_type": "code",
   "execution_count": 38,
   "id": "33d4b1e7-fb98-4cf0-ada5-c7ac5fd4742e",
   "metadata": {},
   "outputs": [
    {
     "data": {
      "text/plain": [
       "array([2, 4, 6, 8])"
      ]
     },
     "execution_count": 38,
     "metadata": {},
     "output_type": "execute_result"
    }
   ],
   "source": [
    "a[a % 2 == 0]"
   ]
  },
  {
   "cell_type": "code",
   "execution_count": 39,
   "id": "3069bae6-a574-483e-8aa9-c844516b240c",
   "metadata": {},
   "outputs": [
    {
     "data": {
      "text/plain": [
       "array([1, 2, 3])"
      ]
     },
     "execution_count": 39,
     "metadata": {},
     "output_type": "execute_result"
    }
   ],
   "source": [
    "a[a < 4]"
   ]
  },
  {
   "cell_type": "markdown",
   "id": "a4937fb5-5e27-4fa6-8553-0bd8ba7b71df",
   "metadata": {},
   "source": [
    "혹은 np.where를 사용하면 True인 값의 인덱스를 구할 수 있습니다."
   ]
  },
  {
   "cell_type": "code",
   "execution_count": 40,
   "id": "28b0b3a9-43b2-45ba-a3c7-56d7dfc0e18a",
   "metadata": {},
   "outputs": [
    {
     "data": {
      "text/plain": [
       "(array([1, 1, 1, 1]), array([0, 1, 2, 3]))"
      ]
     },
     "execution_count": 40,
     "metadata": {},
     "output_type": "execute_result"
    }
   ],
   "source": [
    "np.where(a > 4)"
   ]
  },
  {
   "cell_type": "markdown",
   "id": "0ca404de-a015-415e-b47c-2707f05aa48e",
   "metadata": {},
   "source": [
    "np.where를 통해 구한 값을 다시 인덱스로 사용할 수도 있다."
   ]
  },
  {
   "cell_type": "code",
   "execution_count": 42,
   "id": "2c3dca67-8b28-4c67-9178-8061bc5a3f57",
   "metadata": {},
   "outputs": [
    {
     "data": {
      "text/plain": [
       "array([5, 6, 7, 8])"
      ]
     },
     "execution_count": 42,
     "metadata": {},
     "output_type": "execute_result"
    }
   ],
   "source": [
    "a[np.where(a > 4)]"
   ]
  },
  {
   "cell_type": "markdown",
   "id": "42205f45-1c38-4d95-aeb9-1d60d7664d95",
   "metadata": {},
   "source": [
    "## 연습문제\n",
    "\n",
    "ndarray 연산을 이용해서 아래와 같은 출력을 구해보세요."
   ]
  },
  {
   "cell_type": "code",
   "execution_count": 46,
   "id": "940b727f-a6cc-4f18-a81e-0af9bbcaf6a6",
   "metadata": {},
   "outputs": [
    {
     "data": {
      "text/plain": [
       "(array([[ 1,  3,  5],\n",
       "        [ 7,  9, 11],\n",
       "        [13, 15, 17]]),\n",
       " array([[ 2,  4,  6],\n",
       "        [ 8, 10, 12],\n",
       "        [14, 16, 18]]))"
      ]
     },
     "execution_count": 46,
     "metadata": {},
     "output_type": "execute_result"
    }
   ],
   "source": [
    "import numpy as np\n",
    "\n",
    "a = np.arange(1, 19, 2).reshape([3,3])\n",
    "b = np.arange(2, 20, 2).reshape([3,3])\n",
    "a, b"
   ]
  },
  {
   "cell_type": "code",
   "execution_count": 47,
   "id": "62f5cfb7-dca5-4a45-afd0-039e694b9d35",
   "metadata": {},
   "outputs": [
    {
     "data": {
      "text/plain": [
       "array([[ 3,  7, 11],\n",
       "       [15, 19, 23],\n",
       "       [27, 31, 35]])"
      ]
     },
     "execution_count": 47,
     "metadata": {},
     "output_type": "execute_result"
    }
   ],
   "source": [
    "a + b"
   ]
  },
  {
   "cell_type": "code",
   "execution_count": 48,
   "id": "9c9ef8cf-bac9-4cd6-b89a-b126e85d22a3",
   "metadata": {},
   "outputs": [
    {
     "data": {
      "text/plain": [
       "array([[-1, -1, -1],\n",
       "       [-1, -1, -1],\n",
       "       [-1, -1, -1]])"
      ]
     },
     "execution_count": 48,
     "metadata": {},
     "output_type": "execute_result"
    }
   ],
   "source": [
    "a - b"
   ]
  },
  {
   "cell_type": "code",
   "execution_count": 11,
   "id": "85527972-2162-4159-9ada-e3188e535e99",
   "metadata": {},
   "outputs": [
    {
     "data": {
      "text/plain": [
       "array([[-1, -1, -1],\n",
       "       [-1, -1, -1],\n",
       "       [-1, -1, -1]])"
      ]
     },
     "execution_count": 11,
     "metadata": {},
     "output_type": "execute_result"
    }
   ],
   "source": []
  },
  {
   "cell_type": "code",
   "execution_count": 49,
   "id": "73009146-0747-4d1e-968d-c5cf8336074c",
   "metadata": {},
   "outputs": [
    {
     "data": {
      "text/plain": [
       "array([[ 4, 10, 16],\n",
       "       [22, 28, 34],\n",
       "       [40, 46, 52]])"
      ]
     },
     "execution_count": 49,
     "metadata": {},
     "output_type": "execute_result"
    }
   ],
   "source": [
    "a*2 + b"
   ]
  },
  {
   "cell_type": "code",
   "execution_count": 13,
   "id": "68d5029d-b0a0-42d2-8b68-e45ae23e3c84",
   "metadata": {},
   "outputs": [
    {
     "data": {
      "text/plain": [
       "array([[ 4, 10, 16],\n",
       "       [22, 28, 34],\n",
       "       [40, 46, 52]])"
      ]
     },
     "execution_count": 13,
     "metadata": {},
     "output_type": "execute_result"
    }
   ],
   "source": []
  },
  {
   "cell_type": "code",
   "execution_count": 50,
   "id": "b72f0e19-9c42-4f22-9abb-e51d8aa7726d",
   "metadata": {},
   "outputs": [
    {
     "data": {
      "text/plain": [
       "array([11, 13, 15, 17])"
      ]
     },
     "execution_count": 50,
     "metadata": {},
     "output_type": "execute_result"
    }
   ],
   "source": [
    "a[a>10]"
   ]
  },
  {
   "cell_type": "code",
   "execution_count": 14,
   "id": "f9ba23c4-29ed-4b45-b62e-da34156f2bc4",
   "metadata": {},
   "outputs": [
    {
     "data": {
      "text/plain": [
       "array([11, 13, 15, 17])"
      ]
     },
     "execution_count": 14,
     "metadata": {},
     "output_type": "execute_result"
    }
   ],
   "source": []
  },
  {
   "cell_type": "code",
   "execution_count": 51,
   "id": "27221ea1-4f26-4b42-ade7-98170e590a46",
   "metadata": {},
   "outputs": [
    {
     "data": {
      "text/plain": [
       "array([2, 4, 6, 8])"
      ]
     },
     "execution_count": 51,
     "metadata": {},
     "output_type": "execute_result"
    }
   ],
   "source": [
    "b[b<10]"
   ]
  },
  {
   "cell_type": "code",
   "execution_count": 16,
   "id": "9da13f40-5520-486b-9b52-f6a61a50617c",
   "metadata": {},
   "outputs": [
    {
     "data": {
      "text/plain": [
       "array([2, 4, 6, 8])"
      ]
     },
     "execution_count": 16,
     "metadata": {},
     "output_type": "execute_result"
    }
   ],
   "source": []
  },
  {
   "cell_type": "code",
   "execution_count": null,
   "id": "f693ee9b-d3d8-4bdf-a3bb-4c118aa5804e",
   "metadata": {},
   "outputs": [],
   "source": []
  }
 ],
 "metadata": {
  "kernelspec": {
   "display_name": "Python 3 (ipykernel)",
   "language": "python",
   "name": "python3"
  },
  "language_info": {
   "codemirror_mode": {
    "name": "ipython",
    "version": 3
   },
   "file_extension": ".py",
   "mimetype": "text/x-python",
   "name": "python",
   "nbconvert_exporter": "python",
   "pygments_lexer": "ipython3",
   "version": "3.10.8"
  }
 },
 "nbformat": 4,
 "nbformat_minor": 5
}
