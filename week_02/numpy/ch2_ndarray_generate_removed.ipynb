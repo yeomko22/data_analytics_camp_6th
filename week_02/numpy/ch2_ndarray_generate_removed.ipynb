{
 "cells": [
  {
   "cell_type": "markdown",
   "id": "235b29cb-8894-43c8-b600-d5c2e654572c",
   "metadata": {},
   "source": [
    "# ch2. ndarray 생성하기 \n",
    "\n",
    "이번 챕터에서는 numpy에서 다차원 배열을 다루는 가장 기본인 ndarray를 직접 만들어보겠습니다.  \n",
    "그리고 ndarray의 기본 조작법을 배워보겠습니다."
   ]
  },
  {
   "cell_type": "markdown",
   "id": "d589cf9d-24cd-42c2-9e2b-bd7c01daf702",
   "metadata": {},
   "source": [
    "## ndarray 만들기"
   ]
  },
  {
   "cell_type": "markdown",
   "id": "9ced8815-c211-42a2-af08-1fae6b122900",
   "metadata": {},
   "source": [
    "### python list를 이용해서 ndarray 생성"
   ]
  },
  {
   "cell_type": "code",
   "execution_count": 1,
   "id": "54d90ca6-d8b6-4bcd-9d42-0d684adf4e1c",
   "metadata": {},
   "outputs": [
    {
     "name": "stdout",
     "output_type": "stream",
     "text": [
      "Requirement already satisfied: numpy in /Users/user/miniconda3/lib/python3.10/site-packages (1.25.0)\n",
      "\n",
      "\u001b[1m[\u001b[0m\u001b[34;49mnotice\u001b[0m\u001b[1;39;49m]\u001b[0m\u001b[39;49m A new release of pip is available: \u001b[0m\u001b[31;49m23.1.2\u001b[0m\u001b[39;49m -> \u001b[0m\u001b[32;49m23.3.1\u001b[0m\n",
      "\u001b[1m[\u001b[0m\u001b[34;49mnotice\u001b[0m\u001b[1;39;49m]\u001b[0m\u001b[39;49m To update, run: \u001b[0m\u001b[32;49mpip install --upgrade pip\u001b[0m\n"
     ]
    }
   ],
   "source": [
    "!pip install numpy"
   ]
  },
  {
   "cell_type": "code",
   "execution_count": 2,
   "id": "1b8c9100-8977-4739-be40-9f27555937d2",
   "metadata": {},
   "outputs": [],
   "source": [
    "import numpy as np"
   ]
  },
  {
   "cell_type": "code",
   "execution_count": 7,
   "id": "f6517c15-89ab-4978-be21-d72c5cfab17b",
   "metadata": {},
   "outputs": [],
   "source": [
    "a = np.array([\n",
    "    [1, 2],\n",
    "    [3, 4]\n",
    "])"
   ]
  },
  {
   "cell_type": "code",
   "execution_count": 8,
   "id": "f3170127-85b9-416a-955a-ef8cb74b0103",
   "metadata": {},
   "outputs": [
    {
     "data": {
      "text/plain": [
       "(array([[1, 2],\n",
       "        [3, 4]]),\n",
       " numpy.ndarray,\n",
       " (2, 2))"
      ]
     },
     "execution_count": 8,
     "metadata": {},
     "output_type": "execute_result"
    }
   ],
   "source": [
    "a, type(a), a.shape"
   ]
  },
  {
   "cell_type": "markdown",
   "id": "3a2f0793-5bcf-4b54-9207-cfe91768d0a9",
   "metadata": {},
   "source": [
    "### np.zeros\n",
    "0으로 채워진 ndarray 리턴"
   ]
  },
  {
   "cell_type": "code",
   "execution_count": 17,
   "id": "c45663e9-0007-46ef-9f9e-285f7bcb9ae8",
   "metadata": {},
   "outputs": [],
   "source": [
    "a = np.zeros([3, 2, 2], dtype=np.int64)"
   ]
  },
  {
   "cell_type": "code",
   "execution_count": 18,
   "id": "7e51c21d-4a4f-467e-8a78-f4816aa2f47d",
   "metadata": {},
   "outputs": [
    {
     "data": {
      "text/plain": [
       "array([[[0, 0],\n",
       "        [0, 0]],\n",
       "\n",
       "       [[0, 0],\n",
       "        [0, 0]],\n",
       "\n",
       "       [[0, 0],\n",
       "        [0, 0]]])"
      ]
     },
     "execution_count": 18,
     "metadata": {},
     "output_type": "execute_result"
    }
   ],
   "source": [
    "a"
   ]
  },
  {
   "cell_type": "code",
   "execution_count": 19,
   "id": "a42cde74-a73f-4e03-bd45-ea23d1f58445",
   "metadata": {},
   "outputs": [
    {
     "data": {
      "text/plain": [
       "numpy.int64"
      ]
     },
     "execution_count": 19,
     "metadata": {},
     "output_type": "execute_result"
    }
   ],
   "source": [
    "type(a[0][0][0])"
   ]
  },
  {
   "cell_type": "markdown",
   "id": "c5a1a981-e4cc-4b72-a6d4-2e864d7bd57a",
   "metadata": {},
   "source": [
    "### np.ones\n",
    "1로 채워진 ndarray 리턴"
   ]
  },
  {
   "cell_type": "code",
   "execution_count": 21,
   "id": "ca175885-37ee-439b-96fb-57fc79aeb90a",
   "metadata": {},
   "outputs": [
    {
     "data": {
      "text/plain": [
       "array([[1, 1, 1],\n",
       "       [1, 1, 1]])"
      ]
     },
     "execution_count": 21,
     "metadata": {},
     "output_type": "execute_result"
    }
   ],
   "source": [
    "np.ones([2, 3], dtype=np.int64)"
   ]
  },
  {
   "cell_type": "markdown",
   "id": "08a012e4-8a02-498f-9429-e9f130666199",
   "metadata": {},
   "source": [
    "### np.full\n",
    "특정 값으로 채워진 ndarray 리턴"
   ]
  },
  {
   "cell_type": "code",
   "execution_count": 25,
   "id": "e97c0561-758b-4db7-bc70-a12b18e33157",
   "metadata": {},
   "outputs": [
    {
     "data": {
      "text/plain": [
       "array([[-inf, -inf],\n",
       "       [-inf, -inf],\n",
       "       [-inf, -inf]])"
      ]
     },
     "execution_count": 25,
     "metadata": {},
     "output_type": "execute_result"
    }
   ],
   "source": [
    "np.full([3, 2], -np.inf)"
   ]
  },
  {
   "cell_type": "markdown",
   "id": "e8e4a1d7-32d7-443e-aa1c-200f75f639c2",
   "metadata": {},
   "source": [
    "### np.arange\n",
    "특정 간격으로 채워진 ndarray 생성"
   ]
  },
  {
   "cell_type": "code",
   "execution_count": 28,
   "id": "37963a49-860f-491f-8dfa-2ed77530948f",
   "metadata": {},
   "outputs": [
    {
     "data": {
      "text/plain": [
       "array([1, 2, 3, 4, 5, 6, 7, 8])"
      ]
     },
     "execution_count": 28,
     "metadata": {},
     "output_type": "execute_result"
    }
   ],
   "source": [
    "np.arange(1, 9, 1)"
   ]
  },
  {
   "cell_type": "markdown",
   "id": "fb4b5540-8ed8-4ea8-aa19-d0bb295f6a2d",
   "metadata": {},
   "source": [
    "### 연습문제\n",
    "np.ones, np.zeros, np.fulls를 사용하여 아래 형태의 ndarray를 생성하시오."
   ]
  },
  {
   "cell_type": "code",
   "execution_count": 29,
   "id": "4f61e2eb-dbc2-4f41-88aa-fc4b972c2e16",
   "metadata": {},
   "outputs": [
    {
     "data": {
      "text/plain": [
       "array([[[1, 1],\n",
       "        [1, 1]],\n",
       "\n",
       "       [[1, 1],\n",
       "        [1, 1]]])"
      ]
     },
     "execution_count": 29,
     "metadata": {},
     "output_type": "execute_result"
    }
   ],
   "source": [
    "np.ones([2, 2, 2], dtype=np.int64)"
   ]
  },
  {
   "cell_type": "code",
   "execution_count": 42,
   "id": "146aa727-f910-4d00-8fd5-9b8e6b8221ef",
   "metadata": {},
   "outputs": [
    {
     "data": {
      "text/plain": [
       "array([[[1, 1],\n",
       "        [1, 1]],\n",
       "\n",
       "       [[1, 1],\n",
       "        [1, 1]]])"
      ]
     },
     "execution_count": 42,
     "metadata": {},
     "output_type": "execute_result"
    }
   ],
   "source": []
  },
  {
   "cell_type": "code",
   "execution_count": 30,
   "id": "1433a974-1ab1-4682-bd33-73c9c5833a3a",
   "metadata": {},
   "outputs": [
    {
     "data": {
      "text/plain": [
       "array([[[0, 0],\n",
       "        [0, 0]],\n",
       "\n",
       "       [[0, 0],\n",
       "        [0, 0]]])"
      ]
     },
     "execution_count": 30,
     "metadata": {},
     "output_type": "execute_result"
    }
   ],
   "source": [
    "np.zeros([2, 2, 2], dtype=np.int64)"
   ]
  },
  {
   "cell_type": "code",
   "execution_count": 33,
   "id": "63276c54-0d82-481c-a0a0-1d037bd93695",
   "metadata": {},
   "outputs": [
    {
     "data": {
      "text/plain": [
       "array([[[0., 0.],\n",
       "        [0., 0.]],\n",
       "\n",
       "       [[0., 0.],\n",
       "        [0., 0.]]])"
      ]
     },
     "execution_count": 33,
     "metadata": {},
     "output_type": "execute_result"
    }
   ],
   "source": [
    "np.zeros([2, 2, 2])"
   ]
  },
  {
   "cell_type": "code",
   "execution_count": 31,
   "id": "7e1c6dfa-3250-4ee5-a068-18abfaf14c4d",
   "metadata": {},
   "outputs": [
    {
     "data": {
      "text/plain": [
       "array([[5, 5, 5],\n",
       "       [5, 5, 5],\n",
       "       [5, 5, 5]])"
      ]
     },
     "execution_count": 31,
     "metadata": {},
     "output_type": "execute_result"
    }
   ],
   "source": [
    "np.full([3, 3], 5)"
   ]
  },
  {
   "cell_type": "code",
   "execution_count": 46,
   "id": "fb41b094-45a9-4e4e-8bc6-3a6d42aeb08f",
   "metadata": {},
   "outputs": [
    {
     "data": {
      "text/plain": [
       "array([[5, 5, 5],\n",
       "       [5, 5, 5],\n",
       "       [5, 5, 5]])"
      ]
     },
     "execution_count": 46,
     "metadata": {},
     "output_type": "execute_result"
    }
   ],
   "source": []
  },
  {
   "cell_type": "code",
   "execution_count": 32,
   "id": "e6cac1c3-7746-4057-8aa3-14abff707b6d",
   "metadata": {},
   "outputs": [
    {
     "data": {
      "text/plain": [
       "array([ 0, 10, 20, 30, 40, 50, 60, 70, 80, 90])"
      ]
     },
     "execution_count": 32,
     "metadata": {},
     "output_type": "execute_result"
    }
   ],
   "source": [
    "np.arange(0, 100, 10)"
   ]
  },
  {
   "cell_type": "code",
   "execution_count": 48,
   "id": "8f4b20a3-7760-4d63-aa19-22140c4b2c06",
   "metadata": {},
   "outputs": [
    {
     "data": {
      "text/plain": [
       "array([ 0, 10, 20, 30, 40, 50, 60, 70, 80, 90])"
      ]
     },
     "execution_count": 48,
     "metadata": {},
     "output_type": "execute_result"
    }
   ],
   "source": []
  }
 ],
 "metadata": {
  "kernelspec": {
   "display_name": "Python 3 (ipykernel)",
   "language": "python",
   "name": "python3"
  },
  "language_info": {
   "codemirror_mode": {
    "name": "ipython",
    "version": 3
   },
   "file_extension": ".py",
   "mimetype": "text/x-python",
   "name": "python",
   "nbconvert_exporter": "python",
   "pygments_lexer": "ipython3",
   "version": "3.10.8"
  }
 },
 "nbformat": 4,
 "nbformat_minor": 5
}
