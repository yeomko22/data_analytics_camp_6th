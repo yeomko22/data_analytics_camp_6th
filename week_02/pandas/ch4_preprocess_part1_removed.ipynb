{
 "cells": [
  {
   "cell_type": "markdown",
   "id": "f9f3b55a-0fb8-42b1-a12a-dfc8d53b8563",
   "metadata": {},
   "source": [
    "# ch4. 데이터 전처리 part 1\n",
    "이전 챕터들에서는 pandas dataframe의 기본 사용법에 대해서 알아보았습니다. 이번 챕터에서는 titanic 데이터 셋을 가지고 생존율 예측 모델을 만든다고 가정하고 데이터 전처리를 해보겠습니다. 특히 데이터 셋에 비어있는 값인 결측치를 해결하는 방법과 카테고리형 데이터를 인코딩 하는 방법에 대해서 알아보겠습니다. "
   ]
  },
  {
   "cell_type": "markdown",
   "id": "bbd047be-fdf8-40b2-bd3f-7ad5e626a67f",
   "metadata": {},
   "source": [
    "**사용하는 pandas 기능**\n",
    "- df.drop\n",
    "- df.isnull\n",
    "- df.dropna\n",
    "- df.fillna\n",
    "- df.groupby"
   ]
  },
  {
   "cell_type": "code",
   "execution_count": null,
   "id": "d58de7aa-e322-4756-8c20-a3b5b963ca7c",
   "metadata": {},
   "outputs": [],
   "source": []
  },
  {
   "cell_type": "markdown",
   "id": "f692e908-e1d4-4127-bf3d-16bed3203676",
   "metadata": {},
   "source": [
    "## 전처리를 위해서 하나로 합쳐주기\n",
    "\n",
    "학습용 데이터와 테스트용 데이터가 PassengerId 891을 기준으로 분리되어 있습니다. 이를 합쳐서 전처리 해준 뒤, 다시 쪼개주겠습니다. test_df는 우리가 생존 여부를 맞춰야 하는 데이터 셋으로, Survived 컬럼이 Nan이 뜨는 것이 정상입니다."
   ]
  },
  {
   "cell_type": "code",
   "execution_count": null,
   "id": "219244e8-6515-411a-8526-f4bcca830af8",
   "metadata": {},
   "outputs": [],
   "source": []
  },
  {
   "cell_type": "markdown",
   "id": "6ef73d84-73eb-4080-aa2e-061b2cc4aaf8",
   "metadata": {},
   "source": [
    "## 사용하지 않는 컬럼 삭제\n",
    "승객의 정보로 생존율을 예측하는 모델을 만든 다고 했을 때, 이름, 티켓 번호, 객실 이름은 크게 상관이 없어 보입니다. 물론 이 정보들을 활용할 수 있는 방법들도 있겠습니다만, 이 가이드에서는 날려버리겠습니다."
   ]
  },
  {
   "cell_type": "code",
   "execution_count": null,
   "id": "4259b844-3014-408a-8138-fa53133dbe7f",
   "metadata": {},
   "outputs": [],
   "source": []
  },
  {
   "cell_type": "markdown",
   "id": "65e55918-7904-44c7-bae0-4c0a9ac59ab5",
   "metadata": {
    "tags": []
   },
   "source": [
    "## 파생 변수 생성하기\n",
    "주어진 피쳐들을 가공하여 새로운 피쳐를 만들 수 있습니다. 이렇게 만든 피쳐를 파생 변수라고 부릅니다. 타이타닉 데이터 셋에 대해서 파생 변수를 만들어보겠습니다.  \n",
    "\n",
    "파생 변수를 만들 때에는 먼저 가설을 세우고 그에 맞는 변수를 생성하면 됩니다. 여기서는 \"혼자 탑승한 승객은 가족과 함께 탑승한 승객보다 생존률이 높을 것이다\"라는 가설을 세우고, 이를 잘 설명할 수 있는 파생 변수를 만들어 보겠습니다. SibSp, Parch는 각각 동승한 배우자나 형제자매의 수, 부모 또는 아이의 수입니다. 즉, SibSp와 Parch 합이 0인 사람은 혼자 탑승한 사람, 그렇지 않으면 동승자가 있는 사람이 됩니다."
   ]
  },
  {
   "cell_type": "code",
   "execution_count": null,
   "id": "4aed3f25-05cc-4ce7-bd78-9cdb727fbaff",
   "metadata": {},
   "outputs": [],
   "source": []
  },
  {
   "cell_type": "markdown",
   "id": "d65dba53-b1fb-48af-9773-ace3a5d1f194",
   "metadata": {},
   "source": [
    "데이터 셋에 원래 주어졌던 SibSp, Parch 컬럼을 이용해서 FamilySize와 IsAlone이라는 파생 변수를 만들었습니다."
   ]
  },
  {
   "cell_type": "markdown",
   "id": "2b8395ee-5b74-4dba-b9fe-0b3d984dba33",
   "metadata": {},
   "source": [
    "## 결측값 처리하기\n",
    "데이터 베이스를 공부했을 때, titanic 데이터 셋을 테이블에 집어 넣을 때 Age 값이 빠져있어서 애먹었던 기억이 있으실 겁니다. 바로 이렇게 데이터 셋에서 일부 누락된 값들을 결측치라고 부릅니다. pandas를 이용하면 이런 결측치들을 쉽게 파악할 수 있고, 결측값을 데이터 셋에서 제외하거나 적절한 값으로 채워넣을 수도 있습니다."
   ]
  },
  {
   "cell_type": "markdown",
   "id": "ff77f276-de83-4579-8f48-7e84750f4f4b",
   "metadata": {},
   "source": [
    "### 결측치 확인\n",
    "데이터 프레임이 주어졌을 때, 가장 먼저 확인해봐야 할 것은 각 컬럼별로 결측값이 얼마나 포함되었는지 입니다. df.isnull()을 사용해서 쉽게 구할 수 있습니다."
   ]
  },
  {
   "cell_type": "code",
   "execution_count": null,
   "id": "044bd8bc-1e4d-4743-b5c2-6e6e6a6d946f",
   "metadata": {},
   "outputs": [],
   "source": []
  },
  {
   "cell_type": "markdown",
   "id": "8b614eec-94b6-4c7e-a30c-474038e13c1f",
   "metadata": {},
   "source": [
    "실제로 확인해본 결과, Age, Embarked 컬럼에 결측값을 발견했습니다. 본격적으로 예측 모델을 만들기 전에, 이 결측값들을 미리 해결해야 합니다."
   ]
  },
  {
   "cell_type": "markdown",
   "id": "eaac4a26-54bf-4e25-a213-e9a35e773ed9",
   "metadata": {},
   "source": [
    "### 결측값 처리 1. 날려버리기\n",
    "결측값을 처리하는 가장 손쉬운 방법은 결측값이 하나라도 포함된 행이나 열을 날려버리는 것입니다. Age나 Embarked가 비어있는 행만 따로 날려보도록 하겠습니다. 이 때, df.drop, df.dropna 함수를 사용하면 됩니다."
   ]
  },
  {
   "cell_type": "code",
   "execution_count": null,
   "id": "8121e1fd-6b89-492b-ab94-11f7bb87c570",
   "metadata": {},
   "outputs": [],
   "source": []
  },
  {
   "cell_type": "markdown",
   "id": "c74aae0a-9131-4cfa-8749-5aa5ddd738ce",
   "metadata": {},
   "source": [
    "결측값이 있는 행을 모조리 날려버려서 결측치 없는 데이터 프레임을 얻을 수 있었습니다."
   ]
  },
  {
   "cell_type": "markdown",
   "id": "4f076572-c347-4d82-8afb-12e533a6bae4",
   "metadata": {},
   "source": [
    "### 결측값 처리 2. 임의의 값을 채워넣기\n",
    "가뜩이나 없는 데이터를 Age 값 하나 빠졌다고 100개가 넘는 행을 날려버리는 것은 무척이나 아깝습니다. 그럴듯한 값으로 채워넣으면 충분히 살릴 수 있지 않을까요?\n",
    "\n",
    "series.fillna를 사용하면 nan 값을 특정 값으로 채워넣을 수 있습니다. 한번 비어있는 Age 값을 100으로 채워보겠습니다."
   ]
  },
  {
   "cell_type": "code",
   "execution_count": null,
   "id": "e104d006-e4db-4d25-8742-dc3542434e79",
   "metadata": {},
   "outputs": [],
   "source": []
  },
  {
   "cell_type": "markdown",
   "id": "9bd4b2e9-38d1-4ed1-b386-e1e5da11d159",
   "metadata": {},
   "source": [
    "비어있던 Age 값이 100으로 채워졌습니다. 비어있는 값을 채워넣더라도 그럴싸한 값으로 채워넣으면 어떨까요? 예를들어 100으로 채워넣기보단 전체 승객의 평균 연령으로 채워넣는 것이 더 좋아보입니다. dataframe의 groupby를 사용하면 쉽게 그룹별 평균을 계산할 수 있습니다."
   ]
  },
  {
   "cell_type": "code",
   "execution_count": null,
   "id": "1aa95f3f-2285-4b56-b918-42d89751258d",
   "metadata": {},
   "outputs": [],
   "source": []
  },
  {
   "cell_type": "markdown",
   "id": "6110c600-7a7a-408c-a5de-398850300175",
   "metadata": {},
   "source": [
    "남성 평균 연령은 27세, 여성 평균 연령은 30세로 집계되었습니다. 이를 좌석 등급별로 한번 더 나눠보면 더 정확하지 않을까요? 한번 해보겠습니다."
   ]
  },
  {
   "cell_type": "code",
   "execution_count": null,
   "id": "006594af-8f38-441e-93ec-74d66e79d8cc",
   "metadata": {},
   "outputs": [],
   "source": []
  },
  {
   "cell_type": "markdown",
   "id": "3d5d8f29-9911-45fe-899f-72da91e09958",
   "metadata": {},
   "source": [
    "transform 함수를 이용하면 각 행별로 해당하는 group의 평균 나이를 알 수 있습니다."
   ]
  },
  {
   "cell_type": "code",
   "execution_count": null,
   "id": "72275ac8-ca95-4a73-b8c2-d15df3f21b23",
   "metadata": {},
   "outputs": [],
   "source": []
  },
  {
   "cell_type": "markdown",
   "id": "abfc4ec4-c6c5-4256-b637-4bf1e93ac2dd",
   "metadata": {},
   "source": [
    "Age 결측치를 모두 채워넣어 봤습니다. Embarked 결측치는 가장 많이 탑승한 승선지인 S,   \n",
    "Fare 결측치는 전체 운임 평균으로 채워넣겠습니다. "
   ]
  },
  {
   "cell_type": "code",
   "execution_count": null,
   "id": "5bd2475a-3d26-48b8-b7ec-0a925be4671e",
   "metadata": {},
   "outputs": [],
   "source": []
  },
  {
   "cell_type": "markdown",
   "id": "fe9adf02-b20e-47a9-932f-bfbca1853612",
   "metadata": {},
   "source": [
    "지금까지 결측치를 다루는 대표적인 2가지 방법을 알아보았습니다. 이 외에도 결측치를 그냥 아예 하나의 값으로 두는 방법, 머신러닝 모델로 최적의 결측치를 예측하는 방법 등이 있습니다. 정답이 정해져 있는 것이 아니고, 풀어야 하는 문제와 데이터 셋의 특성에 따라서 적절한 방식을 선택하면 됩니다."
   ]
  },
  {
   "cell_type": "markdown",
   "id": "84b93902-a525-4e4e-8222-d390d3aa1681",
   "metadata": {},
   "source": [
    "## 카테고리형 데이터 인코딩\n",
    "사용 안하는 컬럼을 제거하고, 결측값을 메꾼 데이터프레임을 얻었습니다.  "
   ]
  },
  {
   "cell_type": "code",
   "execution_count": null,
   "id": "f8873936-fe28-4921-a057-6a3ca5c11d4c",
   "metadata": {},
   "outputs": [],
   "source": []
  },
  {
   "cell_type": "markdown",
   "id": "7a55eb20-f991-494c-a1c4-c2de1dca373a",
   "metadata": {},
   "source": [
    "### Label Encoding\n",
    "먼저 성별을 보면 male, female과 같이 문자열로 표시되어 있습니다.  \n",
    "이는 남성인지 아닌지를 의미하는 is_male이라는 컬럼에 0과 1로 표현할 수 있습니다.  \n",
    "scikit-learn의 label encoder를 사용하면 간편하게 구현할 수 있습니다."
   ]
  },
  {
   "cell_type": "code",
   "execution_count": 131,
   "id": "417ac71c-6310-4a84-b67e-20c9327357c5",
   "metadata": {},
   "outputs": [
    {
     "name": "stdout",
     "output_type": "stream",
     "text": [
      "Requirement already satisfied: scikit-learn in /Users/user/miniconda3/lib/python3.10/site-packages (1.2.0)\n",
      "Requirement already satisfied: numpy>=1.17.3 in /Users/user/miniconda3/lib/python3.10/site-packages (from scikit-learn) (1.25.0)\n",
      "Requirement already satisfied: scipy>=1.3.2 in /Users/user/miniconda3/lib/python3.10/site-packages (from scikit-learn) (1.9.3)\n",
      "Requirement already satisfied: joblib>=1.1.1 in /Users/user/miniconda3/lib/python3.10/site-packages (from scikit-learn) (1.2.0)\n",
      "Requirement already satisfied: threadpoolctl>=2.0.0 in /Users/user/miniconda3/lib/python3.10/site-packages (from scikit-learn) (3.1.0)\n",
      "\n",
      "\u001b[1m[\u001b[0m\u001b[34;49mnotice\u001b[0m\u001b[1;39;49m]\u001b[0m\u001b[39;49m A new release of pip is available: \u001b[0m\u001b[31;49m23.1.2\u001b[0m\u001b[39;49m -> \u001b[0m\u001b[32;49m23.3.1\u001b[0m\n",
      "\u001b[1m[\u001b[0m\u001b[34;49mnotice\u001b[0m\u001b[1;39;49m]\u001b[0m\u001b[39;49m To update, run: \u001b[0m\u001b[32;49mpip install --upgrade pip\u001b[0m\n"
     ]
    }
   ],
   "source": [
    "!pip install scikit-learn"
   ]
  },
  {
   "cell_type": "code",
   "execution_count": null,
   "id": "cb51a984-7e23-49b7-a15c-dbadd977d012",
   "metadata": {},
   "outputs": [],
   "source": []
  },
  {
   "cell_type": "markdown",
   "id": "247e7a23-951d-47d7-85f5-02bb2dde8484",
   "metadata": {},
   "source": [
    "### One Hot Encoding\n",
    "앞서 범주형 데이터 컬럼들을 숫자로 변환했습니다. \n",
    "\n",
    "성별 외에도 승선지와 좌석 등급 컬럼이 카테고리형 컬럼입니다. 그런데 카테고리 데이터에도 종류가 있습니다.  \n",
    "먼저 좌석 등급처럼 값들간의 순서가 있는 서열형 데이터입니다.  \n",
    "그리고 승선지 처럼 값들간의 순서가 없는 단순 카테고리 데이터가 있습니다.\n",
    "\n",
    "서열형 데이터의 경우에는 그대로 놔둬도 되지만, 그렇지 않은 데이터는 one-hot 인코딩을 적용해주는 것이 좋습니다.\n",
    "one-hot encoding은 각 범주별로 컬럼을 쪼개고, 해당 범주에 속하는지 여부만 0과 1로 표현하도록 변환합니다.\n",
    "pandas의 dummies 함수를 이용하여 쉽게 구현할 수 있습니다."
   ]
  },
  {
   "cell_type": "code",
   "execution_count": null,
   "id": "a7bb1cc1-36e6-4619-b998-684eff25f0ad",
   "metadata": {},
   "outputs": [],
   "source": []
  },
  {
   "cell_type": "markdown",
   "id": "7942b9a0-f537-4bda-9cef-c550d2d512a8",
   "metadata": {},
   "source": [
    "one-hot encoding을 적용한 컬럼들을 기존 데이터 프레임에 합쳐줍니다.  \n",
    "이 때, df.concat을 사용합니다. 행을 붙이는 것이 아닌, 컬럼을 붙이는 것이므로 axis=1로 설정해줍니다."
   ]
  },
  {
   "cell_type": "code",
   "execution_count": null,
   "id": "704f6f70-4a9a-4e13-ac9a-2cb26b908975",
   "metadata": {},
   "outputs": [],
   "source": []
  },
  {
   "cell_type": "markdown",
   "id": "5058dfa3-84be-43cb-bf0d-1abb6074eb0c",
   "metadata": {
    "tags": []
   },
   "source": [
    "### 전처리를 마친 컬럼 제거\n",
    "one-hot encoding을 적용한 Pclass, Embarked 컬럼은 제거"
   ]
  },
  {
   "cell_type": "code",
   "execution_count": null,
   "id": "8ba4d399-99dd-494c-bb6c-caa72605f752",
   "metadata": {},
   "outputs": [],
   "source": []
  },
  {
   "cell_type": "markdown",
   "id": "ed5828a0-c987-4c87-be5b-c26fa6adb4a8",
   "metadata": {},
   "source": [
    "## 결과 저장\n",
    "\n",
    "전처리 과정이 아직 남아있습니다만, 이번 챕터가 너무 길어져서 끊고 가겠습니다. 데이터 프레임의 to_csv() 함수를 이용하면 쉽게 데이터 프레임을 저장할 수 있습니다."
   ]
  },
  {
   "cell_type": "code",
   "execution_count": null,
   "id": "85c09af0-12cf-4063-bd04-a201eeb40a4a",
   "metadata": {},
   "outputs": [],
   "source": []
  },
  {
   "cell_type": "markdown",
   "id": "85ca918e-dc63-453a-97d5-ceb54109c414",
   "metadata": {},
   "source": [
    "## 정리\n",
    "지금까지 타이타닉 생존자 데이터 셋을 pandas data frame으로 만들어서 여러 전처리를 해보았습니다. 사용하지 않는 컬럼을 삭제하고, 파생 변수를 만들고, 결측치를 해결하고, 변수들을 숫자로 인코딩 하는 등의 작업이 포함되었습니다. 이 모든 과정을 묶어서 피쳐 엔지니어링이라고 부릅니다.\n",
    "\n",
    "워낙 유명한 예제여서 찾아보시면 다양한 예제들과 기법들이 나올 것입니다. 정해진 정답은 없다는걸 기억하고, 적절해 보이는 기법들을 취사 선택해서 이용하면 됩니다."
   ]
  },
  {
   "cell_type": "code",
   "execution_count": null,
   "id": "3796d9b3-2337-49e5-a973-c96acbd2c147",
   "metadata": {},
   "outputs": [],
   "source": []
  }
 ],
 "metadata": {
  "kernelspec": {
   "display_name": "Python 3 (ipykernel)",
   "language": "python",
   "name": "python3"
  },
  "language_info": {
   "codemirror_mode": {
    "name": "ipython",
    "version": 3
   },
   "file_extension": ".py",
   "mimetype": "text/x-python",
   "name": "python",
   "nbconvert_exporter": "python",
   "pygments_lexer": "ipython3",
   "version": "3.10.8"
  }
 },
 "nbformat": 4,
 "nbformat_minor": 5
}
