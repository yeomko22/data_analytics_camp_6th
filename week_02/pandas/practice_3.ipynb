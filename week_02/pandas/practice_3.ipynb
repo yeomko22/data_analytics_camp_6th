{
 "cells": [
  {
   "cell_type": "markdown",
   "id": "57635710-6cb4-4f34-b1d4-2ca028866527",
   "metadata": {},
   "source": [
    "## Decision Tree Classifier를 이용한 버섯 식용 여부 예측 \n",
    "\n",
    "원본 데이터 셋 링크: https://www.kaggle.com/datasets/uciml/mushroom-classification/data  \n",
    "\n",
    "버섯에 대한 메타 데이터가 주어지고, 먹을 수 있는지 없는지 여부를 표시한 데이터가 있습니다. 지금까지 배운 내용들을 활용해서 예측 모델을 만들고, 아래 포맷으로 submission을 만들어서 제출해보세요."
   ]
  },
  {
   "cell_type": "markdown",
   "id": "e68e3f2f-184c-4d6a-bbce-6f4b52ae91ad",
   "metadata": {
    "tags": []
   },
   "source": [
    "### 요구사항\n",
    "\n",
    "- 데이터 특성 파악하기\n",
    "- 데이터 전처리하기 \n",
    "- decision tree 계열 알고리즘을 사용하여 분류 모델 학습시키고 교차 검증하기\n",
    "- 테스트 셋에 대하여 인퍼런스 한 뒤, 적어도 한번 결과 제출하기 "
   ]
  },
  {
   "cell_type": "code",
   "execution_count": null,
   "id": "48cfff35-6d36-4ecb-bdcb-4f3758fd02dc",
   "metadata": {},
   "outputs": [],
   "source": []
  },
  {
   "cell_type": "code",
   "execution_count": null,
   "id": "2bc58ab5-a49b-4705-9737-f40768cec89d",
   "metadata": {},
   "outputs": [],
   "source": []
  }
 ],
 "metadata": {
  "kernelspec": {
   "display_name": "Python 3 (ipykernel)",
   "language": "python",
   "name": "python3"
  },
  "language_info": {
   "codemirror_mode": {
    "name": "ipython",
    "version": 3
   },
   "file_extension": ".py",
   "mimetype": "text/x-python",
   "name": "python",
   "nbconvert_exporter": "python",
   "pygments_lexer": "ipython3",
   "version": "3.10.8"
  }
 },
 "nbformat": 4,
 "nbformat_minor": 5
}
