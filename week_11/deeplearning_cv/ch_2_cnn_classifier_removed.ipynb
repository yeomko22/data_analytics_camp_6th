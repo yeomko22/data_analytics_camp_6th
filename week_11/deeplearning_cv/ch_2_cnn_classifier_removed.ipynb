{
 "cells": [
  {
   "cell_type": "markdown",
   "metadata": {
    "id": "5PrTevOx5NVm"
   },
   "source": [
    "# ch 2. CNN MNIST Classifier & CUDA\n",
    "\n",
    "이전 챕터에선 Convolution Neural Network의 기본 개념에 대해서 알아보았습니다. 이번 챕터에서는 직접 torch를 이용하여 손글씨를 분류하는 모델을 만들어보겠습니다."
   ]
  },
  {
   "cell_type": "code",
   "execution_count": null,
   "metadata": {},
   "outputs": [],
   "source": []
  },
  {
   "cell_type": "markdown",
   "metadata": {
    "id": "ibxUDH9T6Zva"
   },
   "source": [
    "## CNN Classifier\n",
    "\n",
    "### 모델 작성\n",
    "\n",
    "간단한 CNN 모델 클래스를 만들어 보겠습니다."
   ]
  },
  {
   "cell_type": "code",
   "execution_count": null,
   "metadata": {},
   "outputs": [],
   "source": []
  },
  {
   "cell_type": "markdown",
   "metadata": {
    "id": "QMJU_ffU8Xco"
   },
   "source": [
    "### 하이퍼 파라미터 셋팅"
   ]
  },
  {
   "cell_type": "code",
   "execution_count": null,
   "metadata": {},
   "outputs": [],
   "source": []
  },
  {
   "cell_type": "markdown",
   "metadata": {
    "id": "ES5-upOx8fjV"
   },
   "source": [
    "### 모델 학습"
   ]
  },
  {
   "cell_type": "code",
   "execution_count": null,
   "metadata": {},
   "outputs": [],
   "source": []
  },
  {
   "cell_type": "markdown",
   "metadata": {
    "id": "Xwy6KjTjBgHs"
   },
   "source": [
    "### 결과 시각화"
   ]
  },
  {
   "cell_type": "code",
   "execution_count": null,
   "metadata": {},
   "outputs": [],
   "source": []
  },
  {
   "cell_type": "markdown",
   "metadata": {
    "id": "saLlfUTqBolM"
   },
   "source": [
    "## GPU 가속\n",
    "\n",
    "학습되는 속도가 어딘지 모르게 답답합니다. 이번에는 colab GPU 런타임을 사용하여 빠르게 CNN 모델을 학습시키는 방법에 대해서 배워보겠습니다."
   ]
  },
  {
   "cell_type": "markdown",
   "metadata": {
    "id": "gkYks2BCB-Va"
   },
   "source": [
    "### colab GPU runtime\n",
    "\n",
    "T4 GPU를 지원해주는 런타임을 선택해줍니다. 런타임을 변경하면 마치 주피터 노트북에 커널을 껐다가 켠것처럼 이전에 실행했던 코드들을 다시 실행해주어야 합니다."
   ]
  },
  {
   "cell_type": "markdown",
   "metadata": {
    "id": "-QGMDNEmCE_p"
   },
   "source": [
    "![1.png](https://storage.googleapis.com/data-analytics-camp/week11_deeplearning_cv/ch2/1.png)"
   ]
  },
  {
   "cell_type": "markdown",
   "metadata": {
    "id": "s5sWEcoDCiXq"
   },
   "source": [
    "### GPU 하드웨어 및 CUDA 설치 확인\n",
    "\n",
    "CUDA는 nvidia GPU를 사용할 수 있도록 도와주는 일종의 라이브러리입니다. 현재 환경에 nvidia GPU가 지원되고, CUDA가 설치되어 있는지 확인해보겠습니다."
   ]
  },
  {
   "cell_type": "code",
   "execution_count": null,
   "metadata": {},
   "outputs": [],
   "source": []
  },
  {
   "cell_type": "markdown",
   "metadata": {
    "id": "0oWf1tn8DE4v"
   },
   "source": [
    "torch에서 CUDA를 사용 가능한지 체크해보겠습니다."
   ]
  },
  {
   "cell_type": "code",
   "execution_count": null,
   "metadata": {},
   "outputs": [],
   "source": []
  },
  {
   "cell_type": "markdown",
   "metadata": {
    "id": "jN8cRgJ_DK3a"
   },
   "source": [
    "GPU 사용이 가능하다면 이제 모델 학습 시에 데이터와 모델을 GPU로 보내주기 위한 device 변수를 만들어주겠습니다."
   ]
  },
  {
   "cell_type": "code",
   "execution_count": null,
   "metadata": {},
   "outputs": [],
   "source": []
  },
  {
   "cell_type": "markdown",
   "metadata": {
    "id": "45jlJtqADZ7p"
   },
   "source": [
    "### 모델 학습 코드 업데이트\n",
    "\n",
    "GPU를 이용하여 모델을 학습하려면 모델과 데이터를 GPU로 보내주어야 합니다. 이를 학습 코드에 반영해주겠습니다.\n",
    "\n",
    "\n",
    "```python\n",
    "model = model.to(device)\n",
    "\n",
    "def train_model(model):\n",
    "    ...\n",
    "    x_train = x_train.to(device)\n",
    "    y_train = y_train.to(device)\n",
    "\n",
    "def validate_model(model):\n",
    "    ...\n",
    "    x_val = x_val.to(device)\n",
    "    y_val = y_val.to(device)\n",
    "```"
   ]
  },
  {
   "cell_type": "code",
   "execution_count": null,
   "metadata": {},
   "outputs": [],
   "source": []
  },
  {
   "cell_type": "markdown",
   "metadata": {
    "id": "4tPWUkN9IFOs"
   },
   "source": [
    "1 epoch에 소요되는 시간이 20초에서 10초로 2배 단축된 것을 확인할 수 있습니다. GPU 학습의 이점을 극대화 하고 싶다면 GPU 메모리 범위 내에서 배치 사이즈를 늘려서 GPU가 병렬 연산할 수 있는 단위를 늘려주면 됩니다."
   ]
  },
  {
   "cell_type": "markdown",
   "metadata": {
    "id": "tD3g0lljI-s4"
   },
   "source": [
    "## 정리\n",
    "\n",
    "이번 챕터에서는 간단한 CNN으로 MNIST 이미지 분류 모델을 만들어보았습니다. 그 결과 비교적 적은 파라미터로 98% 정확도에 달하는 모델을 만들 수 있었습니다."
   ]
  }
 ],
 "metadata": {
  "accelerator": "GPU",
  "colab": {
   "authorship_tag": "ABX9TyOW7Jzg1/cs9icYzwH6rhEX",
   "gpuType": "T4",
   "include_colab_link": true,
   "provenance": [],
   "toc_visible": true
  },
  "kernelspec": {
   "display_name": "Python 3 (ipykernel)",
   "language": "python",
   "name": "python3"
  },
  "language_info": {
   "codemirror_mode": {
    "name": "ipython",
    "version": 3
   },
   "file_extension": ".py",
   "mimetype": "text/x-python",
   "name": "python",
   "nbconvert_exporter": "python",
   "pygments_lexer": "ipython3",
   "version": "3.10.8"
  }
 },
 "nbformat": 4,
 "nbformat_minor": 4
}
