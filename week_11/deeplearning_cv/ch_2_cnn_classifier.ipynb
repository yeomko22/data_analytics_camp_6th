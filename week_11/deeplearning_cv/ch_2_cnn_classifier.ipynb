{
 "cells": [
  {
   "cell_type": "markdown",
   "metadata": {
    "id": "5PrTevOx5NVm"
   },
   "source": [
    "# ch 2. CNN MNIST Classifier & CUDA\n",
    "\n",
    "이전 챕터에선 Convolution Neural Network의 기본 개념에 대해서 알아보았습니다. 이번 챕터에서는 직접 torch를 이용하여 손글씨를 분류하는 모델을 만들어보겠습니다."
   ]
  },
  {
   "cell_type": "code",
   "execution_count": 2,
   "metadata": {
    "colab": {
     "base_uri": "https://localhost:8080/"
    },
    "id": "XXlWphiX5Nhm",
    "outputId": "b55aa849-e172-4e00-81d6-e561149e218d"
   },
   "outputs": [
    {
     "name": "stdout",
     "output_type": "stream",
     "text": [
      "Downloading http://yann.lecun.com/exdb/mnist/train-images-idx3-ubyte.gz\n",
      "Downloading http://yann.lecun.com/exdb/mnist/train-images-idx3-ubyte.gz to data/MNIST/raw/train-images-idx3-ubyte.gz\n"
     ]
    },
    {
     "name": "stderr",
     "output_type": "stream",
     "text": [
      "100%|█████████████████████████████| 9912422/9912422 [00:11<00:00, 878860.14it/s]\n"
     ]
    },
    {
     "name": "stdout",
     "output_type": "stream",
     "text": [
      "Extracting data/MNIST/raw/train-images-idx3-ubyte.gz to data/MNIST/raw\n",
      "\n",
      "Downloading http://yann.lecun.com/exdb/mnist/train-labels-idx1-ubyte.gz\n",
      "Downloading http://yann.lecun.com/exdb/mnist/train-labels-idx1-ubyte.gz to data/MNIST/raw/train-labels-idx1-ubyte.gz\n"
     ]
    },
    {
     "name": "stderr",
     "output_type": "stream",
     "text": [
      "100%|███████████████████████████████| 28881/28881 [00:00<00:00, 75521006.12it/s]\n"
     ]
    },
    {
     "name": "stdout",
     "output_type": "stream",
     "text": [
      "Extracting data/MNIST/raw/train-labels-idx1-ubyte.gz to data/MNIST/raw\n",
      "\n",
      "Downloading http://yann.lecun.com/exdb/mnist/t10k-images-idx3-ubyte.gz\n",
      "Downloading http://yann.lecun.com/exdb/mnist/t10k-images-idx3-ubyte.gz to data/MNIST/raw/t10k-images-idx3-ubyte.gz\n"
     ]
    },
    {
     "name": "stderr",
     "output_type": "stream",
     "text": [
      "100%|█████████████████████████████| 1648877/1648877 [00:01<00:00, 916157.23it/s]\n"
     ]
    },
    {
     "name": "stdout",
     "output_type": "stream",
     "text": [
      "Extracting data/MNIST/raw/t10k-images-idx3-ubyte.gz to data/MNIST/raw\n",
      "\n",
      "Downloading http://yann.lecun.com/exdb/mnist/t10k-labels-idx1-ubyte.gz\n",
      "Downloading http://yann.lecun.com/exdb/mnist/t10k-labels-idx1-ubyte.gz to data/MNIST/raw/t10k-labels-idx1-ubyte.gz\n"
     ]
    },
    {
     "name": "stderr",
     "output_type": "stream",
     "text": [
      "100%|█████████████████████████████████| 4542/4542 [00:00<00:00, 11981464.63it/s]"
     ]
    },
    {
     "name": "stdout",
     "output_type": "stream",
     "text": [
      "Extracting data/MNIST/raw/t10k-labels-idx1-ubyte.gz to data/MNIST/raw\n",
      "\n"
     ]
    },
    {
     "name": "stderr",
     "output_type": "stream",
     "text": [
      "\n"
     ]
    }
   ],
   "source": [
    "from torch.utils.data import DataLoader\n",
    "from torchvision.datasets import MNIST\n",
    "from torchvision.transforms import ToTensor\n",
    "\n",
    "batch_size = 32\n",
    "train_dataset = MNIST(root=\"data\", train=True, download=True, transform=ToTensor())\n",
    "val_dataset = MNIST(root=\"data\", train=False, download=True, transform=ToTensor())\n",
    "train_dataloader = DataLoader(train_dataset, batch_size=batch_size, shuffle=True)\n",
    "val_dataloader = DataLoader(val_dataset, batch_size=batch_size, shuffle=True)"
   ]
  },
  {
   "cell_type": "markdown",
   "metadata": {
    "id": "ibxUDH9T6Zva"
   },
   "source": [
    "## CNN Classifier\n",
    "\n",
    "### 모델 작성\n",
    "\n",
    "간단한 CNN 모델 클래스를 만들어 보겠습니다."
   ]
  },
  {
   "cell_type": "code",
   "execution_count": 30,
   "metadata": {
    "id": "4IIXFEnG5RGV"
   },
   "outputs": [],
   "source": [
    "import torch\n",
    "from torch import nn\n",
    "\n",
    "\n",
    "class SimpleCNN(nn.Module):\n",
    "    def __init__(self):\n",
    "        super().__init__()\n",
    "        self.conv1 = nn.Conv2d(in_channels=1, out_channels=8, kernel_size=3, padding=\"same\")\n",
    "        self.conv2 = nn.Conv2d(in_channels=8, out_channels=16, kernel_size=3, padding=\"same\")\n",
    "        self.activation = nn.ReLU()\n",
    "        self.pool = nn.MaxPool2d(2, 2)\n",
    "        self.fc = nn.Linear(in_features=784, out_features=10)\n",
    "\n",
    "    def forward(self, x):\n",
    "        x = self.pool(self.activation(self.conv1(x)))\n",
    "        x = self.pool(self.activation(self.conv1(x)))\n",
    "        x = self.pool(self.activation(self.conv2(x)))\n",
    "        x = torch.flatten(x, 1)\n",
    "        x = self.fc(x)\n",
    "        return x"
   ]
  },
  {
   "cell_type": "code",
   "execution_count": 31,
   "metadata": {
    "colab": {
     "base_uri": "https://localhost:8080/"
    },
    "id": "HRTjgt24AT4m",
    "outputId": "31de9ced-02a0-454a-ce92-e4d4a1043e45"
   },
   "outputs": [
    {
     "name": "stdout",
     "output_type": "stream",
     "text": [
      "----------------------------------------------------------------\n",
      "        Layer (type)               Output Shape         Param #\n",
      "================================================================\n",
      "            Conv2d-1            [-1, 8, 28, 28]              80\n",
      "              ReLU-2            [-1, 8, 28, 28]               0\n",
      "         MaxPool2d-3            [-1, 8, 14, 14]               0\n",
      "            Conv2d-4           [-1, 16, 14, 14]           1,168\n",
      "              ReLU-5           [-1, 16, 14, 14]               0\n",
      "         MaxPool2d-6             [-1, 16, 7, 7]               0\n",
      "            Linear-7                   [-1, 10]           7,850\n",
      "================================================================\n",
      "Total params: 9,098\n",
      "Trainable params: 9,098\n",
      "Non-trainable params: 0\n",
      "----------------------------------------------------------------\n",
      "Input size (MB): 0.00\n",
      "Forward/backward pass size (MB): 0.16\n",
      "Params size (MB): 0.03\n",
      "Estimated Total Size (MB): 0.20\n",
      "----------------------------------------------------------------\n"
     ]
    }
   ],
   "source": [
    "from torchsummary import summary\n",
    "\n",
    "model = SimpleCNN()\n",
    "summary(model, input_size=(1, 28, 28), device=\"cpu\")"
   ]
  },
  {
   "cell_type": "markdown",
   "metadata": {
    "id": "QMJU_ffU8Xco"
   },
   "source": [
    "### 하이퍼 파라미터 셋팅"
   ]
  },
  {
   "cell_type": "code",
   "execution_count": 32,
   "metadata": {
    "id": "yXSyglXs688t"
   },
   "outputs": [],
   "source": [
    "learning_rate = 0.001\n",
    "optimizer = torch.optim.Adam(model.parameters(), lr=learning_rate)\n",
    "criterion = torch.nn.CrossEntropyLoss()\n",
    "epochs = 10"
   ]
  },
  {
   "cell_type": "markdown",
   "metadata": {
    "id": "ES5-upOx8fjV"
   },
   "source": [
    "### 모델 학습"
   ]
  },
  {
   "cell_type": "code",
   "execution_count": 33,
   "metadata": {
    "id": "owBFJZb18cgB"
   },
   "outputs": [],
   "source": [
    "def get_mean(metrics):\n",
    "    return round(sum(metrics) / len(metrics), 4)"
   ]
  },
  {
   "cell_type": "code",
   "execution_count": 44,
   "metadata": {
    "id": "SKCRUVOk8jwl"
   },
   "outputs": [],
   "source": [
    "from collections import defaultdict\n",
    "import numpy as np\n",
    "from tqdm import tqdm\n",
    "from sklearn.metrics import accuracy_score\n",
    "\n",
    "\n",
    "def train_model(model):\n",
    "    model.train()\n",
    "    loss_list = []\n",
    "    acc_list = []\n",
    "    for x_train, y_train in tqdm(train_dataloader):\n",
    "        x_train = x_train.to(device)\n",
    "        y_train = y_train.to(device)\n",
    "\n",
    "        outputs = model(x_train)\n",
    "        loss = criterion(outputs, y_train)\n",
    "        loss_list.append(loss.item())\n",
    "\n",
    "        optimizer.zero_grad()\n",
    "        loss.backward()\n",
    "        optimizer.step()\n",
    "\n",
    "        pred = torch.argmax(outputs, dim=1)\n",
    "        acc = ((y_train == pred).sum() / len(y_train)).item()\n",
    "        acc_list.append(acc)\n",
    "    return get_mean(loss_list), get_mean(acc_list)"
   ]
  },
  {
   "cell_type": "code",
   "execution_count": 45,
   "metadata": {
    "id": "hEuIklgs8mMT"
   },
   "outputs": [],
   "source": [
    "def validate_model(model):\n",
    "    model.eval()\n",
    "    loss_list = []\n",
    "    acc_list = []\n",
    "    for x_val, y_val in tqdm(val_dataloader):\n",
    "        x_val = x_val.to(device)\n",
    "        y_val = y_val.to(device)\n",
    "        with torch.no_grad():\n",
    "            outputs = model(x_val)\n",
    "            loss = criterion(outputs, y_val)\n",
    "            loss_list.append(loss.item())\n",
    "\n",
    "            pred = torch.argmax(outputs, dim=1)\n",
    "            acc = ((y_val == pred).sum() / len(y_val)).item()\n",
    "            acc_list.append(acc)\n",
    "    return get_mean(loss_list), get_mean(acc_list)"
   ]
  },
  {
   "cell_type": "code",
   "execution_count": 36,
   "metadata": {
    "id": "jZfXDX1q8of_"
   },
   "outputs": [],
   "source": [
    "from collections import defaultdict\n",
    "\n",
    "\n",
    "def train_validate_model(model):\n",
    "    logs = defaultdict(list)\n",
    "    for epoch in range(epochs):\n",
    "        train_loss, train_acc = train_model(model)\n",
    "        val_loss, val_acc = validate_model(model)\n",
    "        logs[\"train_loss\"].append(train_loss)\n",
    "        logs[\"train_acc\"].append(train_acc)\n",
    "        logs[\"val_loss\"].append(val_loss)\n",
    "        logs[\"val_acc\"].append(val_acc)\n",
    "        print(f\"epoch {epoch + 1} train - loss: {train_loss} acc: {train_acc} val - loss: {val_loss} acc: {val_acc}\")\n",
    "    return logs"
   ]
  },
  {
   "cell_type": "code",
   "execution_count": 37,
   "metadata": {
    "colab": {
     "base_uri": "https://localhost:8080/"
    },
    "id": "SLo2vMVb83Tc",
    "outputId": "46d4b520-3de2-45c9-b0f0-e7e18b8a66fc"
   },
   "outputs": [
    {
     "name": "stderr",
     "output_type": "stream",
     "text": [
      "100%|██████████| 1875/1875 [00:18<00:00, 99.23it/s]\n",
      "100%|██████████| 313/313 [00:02<00:00, 141.32it/s]\n"
     ]
    },
    {
     "name": "stdout",
     "output_type": "stream",
     "text": [
      "epoch 1 train - loss: 0.2389 acc: 0.9299 val - loss: 0.0896 acc: 0.9742\n"
     ]
    },
    {
     "name": "stderr",
     "output_type": "stream",
     "text": [
      "100%|██████████| 1875/1875 [00:18<00:00, 103.62it/s]\n",
      "100%|██████████| 313/313 [00:01<00:00, 159.86it/s]\n"
     ]
    },
    {
     "name": "stdout",
     "output_type": "stream",
     "text": [
      "epoch 2 train - loss: 0.0787 acc: 0.9755 val - loss: 0.0569 acc: 0.9821\n"
     ]
    },
    {
     "name": "stderr",
     "output_type": "stream",
     "text": [
      "100%|██████████| 1875/1875 [00:19<00:00, 98.65it/s] \n",
      "100%|██████████| 313/313 [00:01<00:00, 163.40it/s]\n"
     ]
    },
    {
     "name": "stdout",
     "output_type": "stream",
     "text": [
      "epoch 3 train - loss: 0.0599 acc: 0.9811 val - loss: 0.0523 acc: 0.9822\n"
     ]
    },
    {
     "name": "stderr",
     "output_type": "stream",
     "text": [
      "100%|██████████| 1875/1875 [00:18<00:00, 101.75it/s]\n",
      "100%|██████████| 313/313 [00:02<00:00, 128.24it/s]\n"
     ]
    },
    {
     "name": "stdout",
     "output_type": "stream",
     "text": [
      "epoch 4 train - loss: 0.0504 acc: 0.9845 val - loss: 0.0612 acc: 0.9811\n"
     ]
    },
    {
     "name": "stderr",
     "output_type": "stream",
     "text": [
      "100%|██████████| 1875/1875 [00:18<00:00, 103.63it/s]\n",
      "100%|██████████| 313/313 [00:01<00:00, 164.32it/s]\n"
     ]
    },
    {
     "name": "stdout",
     "output_type": "stream",
     "text": [
      "epoch 5 train - loss: 0.0434 acc: 0.9861 val - loss: 0.0494 acc: 0.9841\n"
     ]
    },
    {
     "name": "stderr",
     "output_type": "stream",
     "text": [
      "100%|██████████| 1875/1875 [00:19<00:00, 98.16it/s] \n",
      "100%|██████████| 313/313 [00:01<00:00, 160.15it/s]\n"
     ]
    },
    {
     "name": "stdout",
     "output_type": "stream",
     "text": [
      "epoch 6 train - loss: 0.0393 acc: 0.9876 val - loss: 0.0408 acc: 0.9867\n"
     ]
    },
    {
     "name": "stderr",
     "output_type": "stream",
     "text": [
      "100%|██████████| 1875/1875 [00:18<00:00, 101.37it/s]\n",
      "100%|██████████| 313/313 [00:02<00:00, 118.21it/s]\n"
     ]
    },
    {
     "name": "stdout",
     "output_type": "stream",
     "text": [
      "epoch 7 train - loss: 0.0348 acc: 0.9888 val - loss: 0.0396 acc: 0.9864\n"
     ]
    },
    {
     "name": "stderr",
     "output_type": "stream",
     "text": [
      "100%|██████████| 1875/1875 [00:18<00:00, 102.90it/s]\n",
      "100%|██████████| 313/313 [00:01<00:00, 161.68it/s]\n"
     ]
    },
    {
     "name": "stdout",
     "output_type": "stream",
     "text": [
      "epoch 8 train - loss: 0.0305 acc: 0.9907 val - loss: 0.0373 acc: 0.9878\n"
     ]
    },
    {
     "name": "stderr",
     "output_type": "stream",
     "text": [
      "100%|██████████| 1875/1875 [00:19<00:00, 98.51it/s] \n",
      "100%|██████████| 313/313 [00:01<00:00, 160.03it/s]\n"
     ]
    },
    {
     "name": "stdout",
     "output_type": "stream",
     "text": [
      "epoch 9 train - loss: 0.0289 acc: 0.9909 val - loss: 0.037 acc: 0.9876\n"
     ]
    },
    {
     "name": "stderr",
     "output_type": "stream",
     "text": [
      "100%|██████████| 1875/1875 [00:18<00:00, 102.68it/s]\n",
      "100%|██████████| 313/313 [00:02<00:00, 116.98it/s]"
     ]
    },
    {
     "name": "stdout",
     "output_type": "stream",
     "text": [
      "epoch 10 train - loss: 0.0257 acc: 0.9918 val - loss: 0.0378 acc: 0.9886\n"
     ]
    },
    {
     "name": "stderr",
     "output_type": "stream",
     "text": [
      "\n"
     ]
    }
   ],
   "source": [
    "logs = train_validate_model(model)"
   ]
  },
  {
   "cell_type": "markdown",
   "metadata": {
    "id": "Xwy6KjTjBgHs"
   },
   "source": [
    "### 결과 시각화"
   ]
  },
  {
   "cell_type": "code",
   "execution_count": 46,
   "metadata": {
    "id": "AI4a43_iBfcN"
   },
   "outputs": [],
   "source": [
    "from matplotlib import pyplot as plt\n",
    "\n",
    "def plot_logs(logs):\n",
    "    fig = plt.figure(figsize=(10, 4))\n",
    "\n",
    "    ax0 = fig.add_subplot(1, 2, 1)\n",
    "    ax1 = fig.add_subplot(1, 2, 2)\n",
    "    ax0.plot(logs[\"train_loss\"], label=\"train\")\n",
    "    ax0.plot(logs[\"val_loss\"], label=\"val\")\n",
    "    ax0.legend()\n",
    "    ax0.set_title(\"loss\")\n",
    "\n",
    "    ax1.plot(logs[\"train_acc\"], label=\"train\")\n",
    "    ax1.plot(logs[\"val_acc\"], label=\"val\")\n",
    "    ax1.legend()\n",
    "    ax1.set_title(\"accuracy\")\n",
    "    plt.legend()"
   ]
  },
  {
   "cell_type": "code",
   "execution_count": 47,
   "metadata": {
    "colab": {
     "base_uri": "https://localhost:8080/",
     "height": 391
    },
    "id": "TbbFTffd9LHG",
    "outputId": "8b44cfd3-821b-45b9-e235-92c8786356b9"
   },
   "outputs": [
    {
     "data": {
      "image/png": "[encoded data removed]",
      "text/plain": [
       "<Figure size 1000x400 with 2 Axes>"
      ]
     },
     "metadata": {},
     "output_type": "display_data"
    }
   ],
   "source": [
    "plot_logs(logs)"
   ]
  },
  {
   "cell_type": "markdown",
   "metadata": {
    "id": "saLlfUTqBolM"
   },
   "source": [
    "## GPU 가속\n",
    "\n",
    "학습되는 속도가 어딘지 모르게 답답합니다. 이번에는 colab GPU 런타임을 사용하여 빠르게 CNN 모델을 학습시키는 방법에 대해서 배워보겠습니다."
   ]
  },
  {
   "cell_type": "markdown",
   "metadata": {
    "id": "gkYks2BCB-Va"
   },
   "source": [
    "### colab GPU runtime\n",
    "\n",
    "T4 GPU를 지원해주는 런타임을 선택해줍니다. 런타임을 변경하면 마치 주피터 노트북에 커널을 껐다가 켠것처럼 이전에 실행했던 코드들을 다시 실행해주어야 합니다."
   ]
  },
  {
   "cell_type": "markdown",
   "metadata": {
    "id": "-QGMDNEmCE_p"
   },
   "source": [
    "![스크린샷 2023-08-10 오후 3.00.44.png](data:image/png;base64,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)"
   ]
  },
  {
   "cell_type": "markdown",
   "metadata": {
    "id": "s5sWEcoDCiXq"
   },
   "source": [
    "### GPU 하드웨어 및 CUDA 설치 확인\n",
    "\n",
    "CUDA는 nvidia GPU를 사용할 수 있도록 도와주는 일종의 라이브러리입니다. 현재 환경에 nvidia GPU가 지원되고, CUDA가 설치되어 있는지 확인해보겠습니다."
   ]
  },
  {
   "cell_type": "code",
   "execution_count": 40,
   "metadata": {
    "colab": {
     "base_uri": "https://localhost:8080/"
    },
    "id": "6bRyW-fCCr3-",
    "outputId": "d44e2264-fbc4-4375-9ee9-883ed9c0091b"
   },
   "outputs": [
    {
     "name": "stdout",
     "output_type": "stream",
     "text": [
      "Thu Aug 10 06:19:34 2023       \n",
      "+-----------------------------------------------------------------------------+\n",
      "| NVIDIA-SMI 525.105.17   Driver Version: 525.105.17   CUDA Version: 12.0     |\n",
      "|-------------------------------+----------------------+----------------------+\n",
      "| GPU  Name        Persistence-M| Bus-Id        Disp.A | Volatile Uncorr. ECC |\n",
      "| Fan  Temp  Perf  Pwr:Usage/Cap|         Memory-Usage | GPU-Util  Compute M. |\n",
      "|                               |                      |               MIG M. |\n",
      "|===============================+======================+======================|\n",
      "|   0  Tesla T4            Off  | 00000000:00:04.0 Off |                    0 |\n",
      "| N/A   59C    P0    28W /  70W |    601MiB / 15360MiB |      0%      Default |\n",
      "|                               |                      |                  N/A |\n",
      "+-------------------------------+----------------------+----------------------+\n",
      "                                                                               \n",
      "+-----------------------------------------------------------------------------+\n",
      "| Processes:                                                                  |\n",
      "|  GPU   GI   CI        PID   Type   Process name                  GPU Memory |\n",
      "|        ID   ID                                                   Usage      |\n",
      "|=============================================================================|\n",
      "+-----------------------------------------------------------------------------+\n"
     ]
    }
   ],
   "source": [
    "!nvidia-smi"
   ]
  },
  {
   "cell_type": "markdown",
   "metadata": {
    "id": "0oWf1tn8DE4v"
   },
   "source": [
    "torch에서 CUDA를 사용 가능한지 체크해보겠습니다."
   ]
  },
  {
   "cell_type": "code",
   "execution_count": 41,
   "metadata": {
    "colab": {
     "base_uri": "https://localhost:8080/"
    },
    "id": "Gw3S9E9UC6yt",
    "outputId": "795b5eee-3acb-47bd-d735-18fb14b741d0"
   },
   "outputs": [
    {
     "data": {
      "text/plain": [
       "True"
      ]
     },
     "execution_count": 41,
     "metadata": {},
     "output_type": "execute_result"
    }
   ],
   "source": [
    "import torch\n",
    "\n",
    "torch.cuda.is_available()"
   ]
  },
  {
   "cell_type": "markdown",
   "metadata": {
    "id": "jN8cRgJ_DK3a"
   },
   "source": [
    "GPU 사용이 가능하다면 이제 모델 학습 시에 데이터와 모델을 GPU로 보내주기 위한 device 변수를 만들어주겠습니다."
   ]
  },
  {
   "cell_type": "code",
   "execution_count": 42,
   "metadata": {
    "id": "0rcXcbqzDJzV"
   },
   "outputs": [],
   "source": [
    "device = torch.device(\"cuda\" if torch.cuda.is_available() else \"cpu\")"
   ]
  },
  {
   "cell_type": "markdown",
   "metadata": {
    "id": "45jlJtqADZ7p"
   },
   "source": [
    "### 모델 학습 코드 업데이트\n",
    "\n",
    "GPU를 이용하여 모델을 학습하려면 모델과 데이터를 GPU로 보내주어야 합니다. 이를 학습 코드에 반영해주겠습니다.\n",
    "\n",
    "\n",
    "```python\n",
    "model = model.to(device)\n",
    "\n",
    "def train_model(model):\n",
    "    ...\n",
    "    x_train = x_train.to(device)\n",
    "    y_train = y_train.to(device)\n",
    "\n",
    "def validate_model(model):\n",
    "    ...\n",
    "    x_val = x_val.to(device)\n",
    "    y_val = y_val.to(device)\n",
    "```"
   ]
  },
  {
   "cell_type": "code",
   "execution_count": 43,
   "metadata": {
    "id": "q8TlUQzzGdkA"
   },
   "outputs": [],
   "source": [
    "model = SimpleCNN().to(device)\n",
    "optimizer = torch.optim.Adam(model.parameters(), lr=learning_rate)"
   ]
  },
  {
   "cell_type": "code",
   "execution_count": 48,
   "metadata": {
    "colab": {
     "base_uri": "https://localhost:8080/",
     "height": 912
    },
    "id": "x-mqfGzWGzuB",
    "outputId": "48202d1a-3213-477b-9d72-655c7902a7d0"
   },
   "outputs": [
    {
     "name": "stderr",
     "output_type": "stream",
     "text": [
      "100%|██████████| 1875/1875 [00:18<00:00, 102.69it/s]\n",
      "100%|██████████| 313/313 [00:01<00:00, 171.97it/s]\n"
     ]
    },
    {
     "name": "stdout",
     "output_type": "stream",
     "text": [
      "epoch 1 train - loss: 0.2583 acc: 0.9218 val - loss: 0.0857 acc: 0.9749\n"
     ]
    },
    {
     "name": "stderr",
     "output_type": "stream",
     "text": [
      "100%|██████████| 1875/1875 [00:10<00:00, 178.01it/s]\n",
      "100%|██████████| 313/313 [00:01<00:00, 165.44it/s]\n"
     ]
    },
    {
     "name": "stdout",
     "output_type": "stream",
     "text": [
      "epoch 2 train - loss: 0.083 acc: 0.9744 val - loss: 0.0743 acc: 0.9742\n"
     ]
    },
    {
     "name": "stderr",
     "output_type": "stream",
     "text": [
      "100%|██████████| 1875/1875 [00:12<00:00, 145.55it/s]\n",
      "100%|██████████| 313/313 [00:01<00:00, 234.93it/s]\n"
     ]
    },
    {
     "name": "stdout",
     "output_type": "stream",
     "text": [
      "epoch 3 train - loss: 0.0617 acc: 0.9808 val - loss: 0.0522 acc: 0.9825\n"
     ]
    },
    {
     "name": "stderr",
     "output_type": "stream",
     "text": [
      "100%|██████████| 1875/1875 [00:10<00:00, 170.80it/s]\n",
      "100%|██████████| 313/313 [00:01<00:00, 236.39it/s]\n"
     ]
    },
    {
     "name": "stdout",
     "output_type": "stream",
     "text": [
      "epoch 4 train - loss: 0.0522 acc: 0.9844 val - loss: 0.0432 acc: 0.9853\n"
     ]
    },
    {
     "name": "stderr",
     "output_type": "stream",
     "text": [
      "100%|██████████| 1875/1875 [00:10<00:00, 172.33it/s]\n",
      "100%|██████████| 313/313 [00:01<00:00, 242.11it/s]\n"
     ]
    },
    {
     "name": "stdout",
     "output_type": "stream",
     "text": [
      "epoch 5 train - loss: 0.0441 acc: 0.9865 val - loss: 0.0432 acc: 0.9868\n"
     ]
    },
    {
     "name": "stderr",
     "output_type": "stream",
     "text": [
      "100%|██████████| 1875/1875 [00:11<00:00, 162.48it/s]\n",
      "100%|██████████| 313/313 [00:01<00:00, 234.25it/s]\n"
     ]
    },
    {
     "name": "stdout",
     "output_type": "stream",
     "text": [
      "epoch 6 train - loss: 0.0391 acc: 0.9877 val - loss: 0.0428 acc: 0.9868\n"
     ]
    },
    {
     "name": "stderr",
     "output_type": "stream",
     "text": [
      "100%|██████████| 1875/1875 [00:10<00:00, 170.71it/s]\n",
      "100%|██████████| 313/313 [00:01<00:00, 234.18it/s]\n"
     ]
    },
    {
     "name": "stdout",
     "output_type": "stream",
     "text": [
      "epoch 7 train - loss: 0.0343 acc: 0.989 val - loss: 0.0397 acc: 0.987\n"
     ]
    },
    {
     "name": "stderr",
     "output_type": "stream",
     "text": [
      "100%|██████████| 1875/1875 [00:10<00:00, 170.59it/s]\n",
      "100%|██████████| 313/313 [00:01<00:00, 236.16it/s]\n"
     ]
    },
    {
     "name": "stdout",
     "output_type": "stream",
     "text": [
      "epoch 8 train - loss: 0.0309 acc: 0.9903 val - loss: 0.0374 acc: 0.9877\n"
     ]
    },
    {
     "name": "stderr",
     "output_type": "stream",
     "text": [
      "100%|██████████| 1875/1875 [00:10<00:00, 173.08it/s]\n",
      "100%|██████████| 313/313 [00:01<00:00, 237.78it/s]\n"
     ]
    },
    {
     "name": "stdout",
     "output_type": "stream",
     "text": [
      "epoch 9 train - loss: 0.0279 acc: 0.9909 val - loss: 0.0405 acc: 0.9864\n"
     ]
    },
    {
     "name": "stderr",
     "output_type": "stream",
     "text": [
      "100%|██████████| 1875/1875 [00:10<00:00, 171.42it/s]\n",
      "100%|██████████| 313/313 [00:01<00:00, 238.75it/s]\n"
     ]
    },
    {
     "name": "stdout",
     "output_type": "stream",
     "text": [
      "epoch 10 train - loss: 0.0257 acc: 0.9917 val - loss: 0.0371 acc: 0.9873\n"
     ]
    },
    {
     "data": {
      "image/png": "[encoded data removed]",
      "text/plain": [
       "<Figure size 1000x400 with 2 Axes>"
      ]
     },
     "metadata": {},
     "output_type": "display_data"
    }
   ],
   "source": [
    "logs = train_validate_model(model)\n",
    "plot_logs(logs)"
   ]
  },
  {
   "cell_type": "markdown",
   "metadata": {
    "id": "4tPWUkN9IFOs"
   },
   "source": [
    "1 epoch에 소요되는 시간이 20초에서 10초로 2배 단축된 것을 확인할 수 있습니다. GPU 학습의 이점을 극대화 하고 싶다면 GPU 메모리 범위 내에서 배치 사이즈를 늘려서 GPU가 병렬 연산할 수 있는 단위를 늘려주면 됩니다."
   ]
  },
  {
   "cell_type": "markdown",
   "metadata": {
    "id": "tD3g0lljI-s4"
   },
   "source": [
    "## 정리\n",
    "\n",
    "이번 챕터에서는 간단한 CNN으로 MNIST 이미지 분류 모델을 만들어보았습니다. 그 결과 비교적 적은 파라미터로 98% 정확도에 달하는 모델을 만들 수 있었습니다."
   ]
  }
 ],
 "metadata": {
  "accelerator": "GPU",
  "colab": {
   "authorship_tag": "ABX9TyOW7Jzg1/cs9icYzwH6rhEX",
   "gpuType": "T4",
   "include_colab_link": true,
   "provenance": [],
   "toc_visible": true
  },
  "kernelspec": {
   "display_name": "Python 3 (ipykernel)",
   "language": "python",
   "name": "python3"
  },
  "language_info": {
   "codemirror_mode": {
    "name": "ipython",
    "version": 3
   },
   "file_extension": ".py",
   "mimetype": "text/x-python",
   "name": "python",
   "nbconvert_exporter": "python",
   "pygments_lexer": "ipython3",
   "version": "3.10.8"
  }
 },
 "nbformat": 4,
 "nbformat_minor": 4
}
