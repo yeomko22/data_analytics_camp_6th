{
  "cells": [
    {
      "cell_type": "markdown",
      "metadata": {
        "id": "view-in-github",
        "colab_type": "text"
      },
      "source": [
        "<a href=\"https://colab.research.google.com/github/yeomko22/data_analytics_camp_6th/blob/main/week_10/deeplearning_basics/ch_02_linear_regression_colab.ipynb\" target=\"_parent\"><img src=\"https://colab.research.google.com/assets/colab-badge.svg\" alt=\"Open In Colab\"/></a>"
      ]
    },
    {
      "cell_type": "markdown",
      "id": "36938d02-26e8-43cd-8a3a-25b2307355ee",
      "metadata": {
        "id": "36938d02-26e8-43cd-8a3a-25b2307355ee"
      },
      "source": [
        "# ch 2. torch linear regression\n",
        "\n",
        "이번 챕터에서는 딥러닝 분야에서 많이 사용되는 torch 라이브러리를 이용해서 간단한 linear regression 모델을 학습시켜 보겠습니다. 그리고 딥러닝에서 모델을 학습시킬 때 사용하는 방식인 오류 역전파(error back propagation) 개념에 대해서 공부해보겠습니다."
      ]
    },
    {
      "cell_type": "markdown",
      "id": "e61c3a07-17e5-4158-bf62-5966ee876b9a",
      "metadata": {
        "id": "e61c3a07-17e5-4158-bf62-5966ee876b9a"
      },
      "source": [
        "## linear regression\n",
        "\n",
        "학생들의 공부 시간과 시험 점수 데이터가 주어졌습니다.\n",
        "\n",
        "|x(hour)|y(score)|\n",
        "|---|---|\n",
        "|10|90|\n",
        "|9|80|\n",
        "|3|50|\n",
        "|2|30|\n",
        "\n",
        "우리가 학습시키고자 하는 모델은 공부 시간이 입력으로 주어졌을 때, 시험 점수를 예측하는 선을 찾는 것입니다. 이를 수식으로 표현하면 아래와 같습니다.\n",
        "\n",
        "$$H(x)=Wx+b$$\n",
        "\n",
        "H는 hypothesis, W는 weight(직선의 기울기), b는 bias(절편)을 나타냅니다."
      ]
    },
    {
      "cell_type": "markdown",
      "source": [
        "![다운로드.png](data:image/png;base64,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)"
      ],
      "metadata": {
        "id": "s_6UWF-Zt_od"
      },
      "id": "s_6UWF-Zt_od"
    },
    {
      "cell_type": "markdown",
      "id": "a5cf24d0-bd95-491f-89aa-0caa57e285a1",
      "metadata": {
        "id": "a5cf24d0-bd95-491f-89aa-0caa57e285a1"
      },
      "source": [
        "모델이 예측한 값과 실제 데이터 값의 차이가 최소화가 되는 직선이 가장 예측을 잘하는 직선이 되겠죠? 이렇게 예측값과 실제 데이터 값간의 차를 loss라고 부르고, 이를 측정하는 함수를 loss function 혹은 cost function이라고 부릅니다. linear regression 모델의 Cost Function을 표현하면 아래와 같습니다.\n",
        "\n",
        "$$cost(W, b)=\\frac{1}{m}\\sum_{i}^{m}(H(x_{i})-y_{i})^2$$"
      ]
    },
    {
      "cell_type": "markdown",
      "id": "75949348-4d8b-446d-bc60-a85ff31ab087",
      "metadata": {
        "id": "75949348-4d8b-446d-bc60-a85ff31ab087"
      },
      "source": [
        "모델을 학습시키려면 이 cost_function이 최소화가 되는 W와 b를 찾아내면 됩니다.\n",
        "\n",
        "$$\\underset{W,b}{minimize}\\;cost(W,b)$$"
      ]
    },
    {
      "cell_type": "markdown",
      "id": "0af32fee-3c70-450b-8682-04624293a80d",
      "metadata": {
        "id": "0af32fee-3c70-450b-8682-04624293a80d"
      },
      "source": [
        "## Gradient Descent\n",
        "\n",
        "그러면 cost function이 최소화가 되는 W와 b를 어떻게 찾을 수 있을까요? 다양한 방법이 있습니다만, 딥러닝 분야에서는 gradient descent라는 방법을 사용합니다. 바로 딥러닝에 적용하는 것은 어려우니, linear regression을 gradient descent 방식으로 학습시켜보면서 개념을 익혀보겠습니다."
      ]
    },
    {
      "cell_type": "markdown",
      "id": "d62155a2-fbfd-49d6-a08d-1f0804905a53",
      "metadata": {
        "id": "d62155a2-fbfd-49d6-a08d-1f0804905a53"
      },
      "source": [
        "### 데이터 셋 준비\n",
        "\n",
        "다이아몬드 데이터 셋에서 1000개만 샘플링하여 가격과 캐럿 컬럼만 사용하겠습니다. 시각화 시에 편의를 위해서 minmax scaler를 사용하여 두 변수의 범위를 동일하게 0과 1 사이로 맞춰주겠습니다."
      ]
    },
    {
      "cell_type": "code",
      "execution_count": null,
      "id": "16bbfa4f-f9a2-4563-b352-2c923d46ea39",
      "metadata": {
        "id": "16bbfa4f-f9a2-4563-b352-2c923d46ea39"
      },
      "outputs": [],
      "source": []
    },
    {
      "cell_type": "markdown",
      "id": "7293a6f9-fdd0-44ab-abf3-17b9081c662e",
      "metadata": {
        "id": "7293a6f9-fdd0-44ab-abf3-17b9081c662e"
      },
      "source": [
        "### 최적의 W 찾기"
      ]
    },
    {
      "cell_type": "markdown",
      "id": "501a747a-bbff-4646-bbd5-fdcdf20adffa",
      "metadata": {
        "id": "501a747a-bbff-4646-bbd5-fdcdf20adffa"
      },
      "source": [
        "W 값을 조금씩 변경하면서 loss를 측정하고, 그 결과를 점으로 찍어보니 이차 함수의 모양이 나왔습니다. 즉, linear regression의 loss function이 최소 값을 갖는 지점은 loss function의 기울기가 0이 되는 지점입니다. 예제에서는 0.9 부근이 됩니다. 최종적으로 찾아낸 W=0.9 모델을 한번 그려보겠습니다."
      ]
    },
    {
      "cell_type": "code",
      "execution_count": null,
      "id": "ebaa8bc6-27f7-4ba9-9996-99ae156f868b",
      "metadata": {
        "id": "ebaa8bc6-27f7-4ba9-9996-99ae156f868b"
      },
      "outputs": [],
      "source": []
    },
    {
      "cell_type": "markdown",
      "id": "359981a8-2341-4b64-b1ec-23adea752c99",
      "metadata": {
        "id": "359981a8-2341-4b64-b1ec-23adea752c99"
      },
      "source": [
        "### Gradient Descent\n",
        "\n",
        "Gradient Descent는 우리 말로 경사 하강법입니다. 앞서서 loss function이 최소화되는 지점은 loss function의 기울기가 0이 되는 지점이었습니다. 그렇다면 loss function의 경사를 따라 내려가면서 W 값을 조금씩 업데이트해 나가면 최적의 W를 찾을 수 있지 않을까요? 이렇게 경사를 따라서 내려가며 최적의 파라미터를 찾는 알고리즘이 Gradient Descent입니다.\n",
        "\n",
        "![25665ezgif.com-gif-maker.gif](attachment:ec2b049f-15ef-4ab1-b186-d8f61a8082db.gif)"
      ]
    },
    {
      "cell_type": "markdown",
      "id": "75c822a2-c7e9-4ef6-9861-875e6763b00a",
      "metadata": {
        "id": "75c822a2-c7e9-4ef6-9861-875e6763b00a"
      },
      "source": [
        "개념을 알았으니 이제 수식으로 표현해보겠습니다. 미분의 편의를 위해서 cost function의 1/m 부분을 1/2m로 바꿔주겠습니다.\n",
        "\n",
        "$$cost(W, b)=\\frac{1}{2m}\\sum_{i}^{m}(H(x_{i})-y_{i})^2$$\n",
        "\n",
        "$$W:=W-\\alpha\\frac{\\partial}{\\partial{W}}cost(W)$$"
      ]
    },
    {
      "cell_type": "markdown",
      "id": "aa139a96-399a-49c9-926b-51f6ba8cc08a",
      "metadata": {
        "id": "aa139a96-399a-49c9-926b-51f6ba8cc08a"
      },
      "source": [
        "수식이 다소 낯설지만 전혀 겁먹을 것이 없습니다. 먼저 ∂ 기호는 편미분을 의미합니다. 즉, cost(W) 함수를 W에 대해서 편미분 하겠다는 의미입니다. 미분 과정을 풀어보면 아래와 같습니다. (미분과 관련해서는 별도 챕터에서 다룰 예정이니, 걱정할 필요 없습니다.)\n",
        "\n",
        "\n",
        "$$W:=W-\\alpha\\frac{1}{2m}\\sum_{i=1}^{m}2(Wx_{i}-y_{i})x_{i}$$\n",
        "\n",
        "$$W:=W-\\alpha\\frac{1}{m}\\sum_{i=1}^{m}(Wx_{i}-y_{i})x_{i}$$"
      ]
    },
    {
      "cell_type": "markdown",
      "id": "645ff8d3-c30f-43f7-a479-4d44fa858b09",
      "metadata": {
        "id": "645ff8d3-c30f-43f7-a479-4d44fa858b09"
      },
      "source": [
        "α는 learning rate를 의미합니다. 즉, loss function을 미분한 결과값을 가지고 얼만큼 많이 W를 업데이트 할 것인지 결정하는 값입니다. 만약 0.1로 설정하면 loss function 미분 값 * 0.1만큼 W를 업데이트 합니다. 0.01로 설정할 경우, 그 보다 더 작게 W를 업데이트 합니다. Gradient Descent 알고리즘을 산을 내려가는 과정이라고 비유하면 learning rate는 보폭에 해당합니다.\n",
        "\n",
        "이 과정을 여러번 수행해서 W 값을 업데이트 해나가면 loss function을 최소화하는 W를 찾을 수 있게 됩니다. 한번 임의의 웨이트와 learning rate를 설정하고, gradient descent를 진행해보겠습니다."
      ]
    },
    {
      "cell_type": "code",
      "execution_count": null,
      "id": "c5d1d822-1e1e-4f3b-b7f0-7df4f5c83d7e",
      "metadata": {
        "id": "c5d1d822-1e1e-4f3b-b7f0-7df4f5c83d7e"
      },
      "outputs": [],
      "source": []
    },
    {
      "cell_type": "markdown",
      "id": "fa0b12d1-c743-47a0-bfb4-00ec56363596",
      "metadata": {
        "id": "fa0b12d1-c743-47a0-bfb4-00ec56363596"
      },
      "source": [
        "## Torch linear regression\n",
        "\n",
        "본격적으로 torch를 이용해서 linear regression 모델을 학습시켜 보겠습니다.\n",
        "\n",
        "### Model Class 작성\n",
        "\n",
        "torch를 이용해서 Linear Regression 모델 클래스를 작성해보겠습니다. 이 때, 모델의 생성자 함수에서 모델 형태를 결정하고, forward 함수에서 입력으로 들어오는 데이터를 어떻게 처리할지 코딩하면 됩니다."
      ]
    },
    {
      "cell_type": "code",
      "execution_count": null,
      "id": "6b2faccf-d3f0-4a2d-affa-d23e205d2c46",
      "metadata": {
        "id": "6b2faccf-d3f0-4a2d-affa-d23e205d2c46"
      },
      "outputs": [],
      "source": []
    },
    {
      "cell_type": "markdown",
      "id": "48116b2b-7a44-4d21-9ccf-68fe5858fdde",
      "metadata": {
        "id": "48116b2b-7a44-4d21-9ccf-68fe5858fdde"
      },
      "source": [
        "### 하이퍼 파라미터 설정\n",
        "다음으로 learning rate와 optimizer입니다. 먼저 learningRate는 앞서 살펴봤던 α에 해당하는 값으로 0.01로 설정해보겠습니다.\n",
        "\n",
        "그 다음 torch에 내장되어 있는 Grandient Descent 알고리즘 중 하나인 SGD를 사용해보겠습니다. SGD는 Stochastic Gradient Descent의 약자로, 데이터를 배치 단위로 끊어서 Gradient Descent를 진행한다고 생각하시면 됩니다.\n",
        "\n",
        "loss는 torch에 내장된 Mean Squared Error를 사용하겠습니다.\n",
        "\n",
        "epochs는 전체 데이터 셋을 몇회 순회하면서 학습을 진행할 것인지 결정하는 값입니다. 10으로 설정하면 전체 데이터 셋을 10번 반복하면서 gradient descent 알고리즘을 수행합니다."
      ]
    },
    {
      "cell_type": "code",
      "execution_count": null,
      "id": "55e4d0f9-3e76-4765-82de-5365519495d3",
      "metadata": {
        "id": "55e4d0f9-3e76-4765-82de-5365519495d3"
      },
      "outputs": [],
      "source": []
    },
    {
      "cell_type": "markdown",
      "id": "b173a0cb-991f-4d59-87f3-648bd5014dc4",
      "metadata": {
        "id": "b173a0cb-991f-4d59-87f3-648bd5014dc4"
      },
      "source": [
        "### 데이터 텐서로 변경"
      ]
    },
    {
      "cell_type": "markdown",
      "id": "5b471a22-afb9-43e4-b1d2-ce9afeb0725f",
      "metadata": {
        "id": "5b471a22-afb9-43e4-b1d2-ce9afeb0725f"
      },
      "source": [
        "torch 모델을 학습시키려면 데이터를 torch에서 제공하는 Tensor로 만들어주어야 합니다. tensor는 numpy 때 배웠던 ndarray와 동일한 형태라고 생각하시면 됩니다."
      ]
    },
    {
      "cell_type": "code",
      "execution_count": null,
      "id": "2645dfdf-793c-4f2e-853d-ae74f624be53",
      "metadata": {
        "id": "2645dfdf-793c-4f2e-853d-ae74f624be53"
      },
      "outputs": [],
      "source": []
    },
    {
      "cell_type": "markdown",
      "id": "8fc58b8b-f3cb-4696-87e1-5fab1ab6c2b5",
      "metadata": {
        "id": "8fc58b8b-f3cb-4696-87e1-5fab1ab6c2b5"
      },
      "source": [
        "### Train\n",
        "드디어 torch 스타일로 linear regression을 학습시켜보겠습니다."
      ]
    },
    {
      "cell_type": "code",
      "execution_count": null,
      "id": "6939043a-6fe9-4bf1-b42b-a0baa26c0d65",
      "metadata": {
        "id": "6939043a-6fe9-4bf1-b42b-a0baa26c0d65"
      },
      "outputs": [],
      "source": []
    },
    {
      "cell_type": "markdown",
      "id": "142a2463-bbbc-4ae2-8ebf-26fab82e244f",
      "metadata": {
        "id": "142a2463-bbbc-4ae2-8ebf-26fab82e244f"
      },
      "source": [
        "### 결과 시각화"
      ]
    },
    {
      "cell_type": "code",
      "execution_count": null,
      "id": "a59fe6e7-b790-4fb9-ab95-182e05fc2f7b",
      "metadata": {
        "id": "a59fe6e7-b790-4fb9-ab95-182e05fc2f7b"
      },
      "outputs": [],
      "source": []
    },
    {
      "cell_type": "markdown",
      "id": "128896e7-77a5-4d71-af5f-0decf3ee850b",
      "metadata": {
        "id": "128896e7-77a5-4d71-af5f-0decf3ee850b"
      },
      "source": [
        "Epoch가 지날 수록 선이 점점 더 데이터를 잘 설명하는 방향으로 기울기와 절편이 조정되는 것을 확인할 수 있습니다. 이처럼 서서히 최적의 파라미터를 찾아가는 알고리즘이 Gradient Descent 알고리즘이라는 것을 꼭 기억하고 넘어가겠습니다."
      ]
    },
    {
      "cell_type": "markdown",
      "id": "ab72afde-abb8-4fbf-8847-00f80540a47b",
      "metadata": {
        "id": "ab72afde-abb8-4fbf-8847-00f80540a47b"
      },
      "source": [
        "## 정리\n",
        "이번 챕터에서는 간단한 linear regression 모델을 Gradient Descent 알고리즘으로 학습시켜보았습니다. 그리고 처음으로 torch 라이브러리를 이용해서 모델을 만들고, torch 스타일대로 모델을 학습시켜 보았습니다. 앞으로 점점 더 복잡한 모델들을 다룰 예정이지만, 큰 틀은 비슷합니다. torch가 손에 익을 때까지 한번 코딩 연습을 해보세요."
      ]
    },
    {
      "cell_type": "code",
      "execution_count": null,
      "id": "74ea431f-ac88-4606-beec-d6ca5a7c957c",
      "metadata": {
        "id": "74ea431f-ac88-4606-beec-d6ca5a7c957c"
      },
      "outputs": [],
      "source": []
    }
  ],
  "metadata": {
    "kernelspec": {
      "display_name": "Python 3 (ipykernel)",
      "language": "python",
      "name": "python3"
    },
    "language_info": {
      "codemirror_mode": {
        "name": "ipython",
        "version": 3
      },
      "file_extension": ".py",
      "mimetype": "text/x-python",
      "name": "python",
      "nbconvert_exporter": "python",
      "pygments_lexer": "ipython3",
      "version": "3.10.8"
    },
    "colab": {
      "provenance": [],
      "include_colab_link": true
    }
  },
  "nbformat": 4,
  "nbformat_minor": 5
}