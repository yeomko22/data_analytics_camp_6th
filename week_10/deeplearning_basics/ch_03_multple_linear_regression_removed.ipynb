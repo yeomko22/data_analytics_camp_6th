{
 "cells": [
  {
   "cell_type": "markdown",
   "id": "2805ec85-7f35-4723-81fe-992ba2215bea",
   "metadata": {},
   "source": [
    "# ch 3. multiple linear regerssion\n",
    "\n",
    "## Multiple Linear Regression\n",
    "이번에는 지난 챕터에 이어서 다중 선형 회귀를 torch를 이용해서 학습시켜보겠습니다. 아래와 같은 데이터가 주어졌다고 해보겠습니다.\n",
    "\n",
    "| x1(quiz1) | x2(quiz2) | x3(midterm1) | Y(final) |\n",
    "| --- | --- | --- | --- |\n",
    "| 73 | 80 | 75 | 152 |\n",
    "| 93 | 88 | 93 | 185 |\n",
    "| 89 | 91 | 90 | 180 |\n",
    "| 96 | 98 | 100 | 196 |\n",
    "| 73 | 66 | 70 | 142 |\n",
    "\n",
    "이렇게 독립 변수가 3개인 상황에서 H(x)를 세워보겠습니다. \n",
    "\n",
    "$$H(x_{1}, x_{2}, x_{3})=w_{1}x_{1}+w_{2}x_{2}+w_{3}x_{3}+b$$\n",
    "\n",
    "$$cost(W,b)=\\frac{1}{m}\\sum_{i=1}^{m}(H(x_{1i}, x_{2i}, x_{3i})-y_{i})^2$$"
   ]
  },
  {
   "cell_type": "markdown",
   "id": "67f00775-ae8d-456e-8a61-6c70039df8db",
   "metadata": {},
   "source": [
    "독립 변수가 n개인 상황도 마찬가지겠죠? 위 식을 일반화 시켜보겠습니다.\n",
    "\n",
    "$$H(x_{1}, x_{2}, ..., x_{n})=w_{1}x_{1}+w_{2}x_{2}+...+w_{n}x_{n}+b$$\n",
    "\n",
    "$$cost(W,b)=\\frac{1}{m}\\sum_{i=1}^{m}(H(x_{1i}, x_{2i}, ..., x_{ni})-y_{i})^2$$"
   ]
  },
  {
   "cell_type": "markdown",
   "id": "1277726f-35db-4def-bfa3-82a7c7b65c90",
   "metadata": {},
   "source": [
    "## Matrix\n",
    "\n",
    "독립 변수의 개수가 많아질 수록 표현하기가 불편합니다. 이 때, Matrix를 이용하면 데이터를 효과적으로 표현할 수 있습니다. 행렬의 곱셈을 이용하면 n개의 독립 변수와 n개의 weight의 곱을 아래 처럼 표현할 수 있습니다.\n",
    "\n",
    "$$(x_{1},x_{2},...x_{n})\\cdot\\begin{pmatrix}\n",
    " w_{1}\\\\ \n",
    " w_{2}\\\\\n",
    " ...\\\\\n",
    " w_{n}\\\\\n",
    "\\end{pmatrix}=(x_{1}w_{1}+x_{2}w_{2}+...+x_{n}w_{n})$$"
   ]
  },
  {
   "cell_type": "markdown",
   "id": "5695705b-ff3a-4e55-89e1-803fd1d51679",
   "metadata": {},
   "source": [
    "이를 단순화 시키면 아래처럼 나타낼 수 있습니다. X는 독립 변수의 행렬, W는 weight의 행렬이 됩니다. 두 행렬의 곱으로 hypothesis 함수를 표현할 수 있습니다.\n",
    "\n",
    "$$H(X)=XW$$"
   ]
  },
  {
   "cell_type": "markdown",
   "id": "ea5ffddd-5554-428b-8d90-a1d1951d9a12",
   "metadata": {},
   "source": [
    "다시 예시 데이터로 돌아가보겠습니다.\n",
    "\n",
    "| x1(quiz1) | x2(quiz2) | x3(midterm1) | Y(final) |\n",
    "| --- | --- | --- | --- |\n",
    "| 73 | 80 | 75 | 152 |\n",
    "| 93 | 88 | 93 | 185 |\n",
    "| 89 | 91 | 90 | 180 |\n",
    "| 96 | 98 | 100 | 196 |\n",
    "| 73 | 66 | 70 | 142 |\n",
    "\n",
    "하나의 데이터 샘플에는 x1, x2, x3 총 3개의 독립 변수가 들어있습니다. 각각의 독립변수에 weight를 곱해주어 예측 값을 만들고, 이를 실제 y값과 비교하고자 합니다. 이 때, 각각의 데이터 샘플을 따로따로 계산해주는 것이 아니라, 행렬로 만들어서 한번에 계산하면 훨씬 효과적이겠죠? 수식으로 한번 표현해보겠습니다."
   ]
  },
  {
   "cell_type": "markdown",
   "id": "cca467bb-a6fd-422b-89e8-8022d98ed18b",
   "metadata": {},
   "source": [
    "$$n:\\text{독립 변수의 개수}$$\n",
    "$$m:\\text{전체 데이터 샘플의 개수}$$\n",
    "\n",
    "$$\n",
    "\\begin{pmatrix}\n",
    "x_{11},x_{12},...x_{1n} \\\\\n",
    "x_{21},x_{22},...x_{2n} \\\\\n",
    "...\\\\\n",
    "x_{m1},x_{m2},...x_{mn} \\\\\n",
    "\\end{pmatrix}\n",
    "\\cdot\n",
    "\\begin{pmatrix}\n",
    " w_{1}\\\\ \n",
    " w_{2}\\\\\n",
    " ...\\\\\n",
    " w_{n}\\\\\n",
    "\\end{pmatrix}=\n",
    "\\begin{pmatrix}\n",
    "x_{11}w_{1}+x_{12}w_{2}+x_{1n}w_{n} \\\\\n",
    "x_{21}w_{1}+x_{22}w_{2}+x_{2n}w_{n} \\\\\n",
    "...\\\\\n",
    "x_{m1}w_{1}+x_{m2}w_{2}+x_{mn}w_{n} \\\\\n",
    "\\end{pmatrix}\n",
    "$$\n",
    "\n",
    "$$[M, N] * [N, 1] = [M, 1]$$\n",
    "$$𝐻(𝑋)=𝑋𝑊$$"
   ]
  },
  {
   "cell_type": "markdown",
   "id": "780ad26d-6ef4-47be-91e8-4ba2c1fc0a5d",
   "metadata": {},
   "source": [
    "## torch multiple linear regression\n",
    "\n",
    "torch를 이용해서 다중 선형 회귀를 학습시켜 보겠습니다. 다이아몬드 데이터 셋에서 다이아몬드의 carat, x, y, z 값을 이용해서 price를 예측하는 모델을 학습시켜보겠습니다. "
   ]
  },
  {
   "cell_type": "code",
   "execution_count": null,
   "id": "addb401e-0f08-41d3-8e63-ea383a3e992c",
   "metadata": {},
   "outputs": [],
   "source": []
  },
  {
   "cell_type": "markdown",
   "id": "00d9ff86-9498-47bd-bbbc-07dded948d5b",
   "metadata": {},
   "source": [
    "### MultiLinearRegression 모델 클래스 작성\n",
    "\n",
    "torch를 이용한 다중 선형 회귀 모델 클래스를 작성합니다. input_dim과 output_dim을 파라미터로 전달받을 수 있도록 구현되어 있기 때문에, 이전 챕터에서 단순 선형 회귀 모델과 구현은 동일합니다."
   ]
  },
  {
   "cell_type": "code",
   "execution_count": null,
   "id": "30269aa8-5204-47b9-8337-06c6235af3b4",
   "metadata": {},
   "outputs": [],
   "source": []
  },
  {
   "cell_type": "markdown",
   "id": "9662849b-74aa-41b6-82df-1b918e237bbc",
   "metadata": {},
   "source": [
    "### 하이퍼 파라미터 설정\n",
    "\n",
    "독립 변수 개수가 1개에서 4개로 늘어난 것에 유의해서 하이퍼 파라미터를 설정한 뒤, 모델 객체를 생성해주겠습니다."
   ]
  },
  {
   "cell_type": "code",
   "execution_count": null,
   "id": "3ad6379c-f421-47f0-9de6-27b63e2cfcde",
   "metadata": {},
   "outputs": [],
   "source": []
  },
  {
   "cell_type": "markdown",
   "id": "ee8ef198-10cd-40fe-a1ab-70d5818cd907",
   "metadata": {},
   "source": [
    "### 데이터 텐서로 변경"
   ]
  },
  {
   "cell_type": "code",
   "execution_count": null,
   "id": "6d8f604e-468a-4097-b26b-070f4857dafe",
   "metadata": {},
   "outputs": [],
   "source": []
  },
  {
   "cell_type": "markdown",
   "id": "49103a6a-7781-48e3-841f-341aa974001f",
   "metadata": {},
   "source": [
    "### Train\n",
    "\n",
    "이제 torch를 이용한 다중 선형 회귀 모델을 학습시켜보겠습니다."
   ]
  },
  {
   "cell_type": "code",
   "execution_count": null,
   "id": "16d3589f-416e-4b8c-803d-e7c7b3fc2113",
   "metadata": {},
   "outputs": [],
   "source": []
  },
  {
   "cell_type": "markdown",
   "id": "552d4da1-0acf-49b2-ad8a-e903c1d5d7cb",
   "metadata": {},
   "source": [
    "### 결과 시각화"
   ]
  },
  {
   "cell_type": "code",
   "execution_count": null,
   "id": "d096e95d-c3a9-4a4a-94ea-bad22cb356f6",
   "metadata": {},
   "outputs": [],
   "source": []
  },
  {
   "cell_type": "markdown",
   "id": "6f7d1c8d-4b8b-4a42-851d-81327ecc1bb3",
   "metadata": {},
   "source": [
    "다중 선형 회귀도 순조롭게 학습되는 것을 확인할 수 있습니다. 독립 변수의 차원이 4이기 때문에 시각화가 불가하여 여기까지만 진행하겠습니다. 최종 학습된 모델 파라미터는 아래와 같습니다."
   ]
  },
  {
   "cell_type": "code",
   "execution_count": null,
   "id": "c76b4765-aed7-4385-a41c-301948c54e84",
   "metadata": {},
   "outputs": [],
   "source": []
  },
  {
   "cell_type": "markdown",
   "id": "fd711a9e-82a2-4077-a997-d77c8aae04d3",
   "metadata": {},
   "source": [
    "## 정리\n",
    "\n",
    "이번 챕터에서는 다중 선형 회귀를 torch를 이용해서 학습시켜 보았습니다. 다중 선형 회귀 모델보다도 더 중요한 부분은 독립변수와 웨이트와의 곱이 행렬 곱으로 표현된다는 점입니다. 이 부분을 잘 기억하고 넘어가기 바랍니다."
   ]
  },
  {
   "cell_type": "code",
   "execution_count": null,
   "id": "3a706f21-30ec-4128-9aa3-b57be4cd2a2a",
   "metadata": {},
   "outputs": [],
   "source": []
  }
 ],
 "metadata": {
  "kernelspec": {
   "display_name": "Python 3 (ipykernel)",
   "language": "python",
   "name": "python3"
  },
  "language_info": {
   "codemirror_mode": {
    "name": "ipython",
    "version": 3
   },
   "file_extension": ".py",
   "mimetype": "text/x-python",
   "name": "python",
   "nbconvert_exporter": "python",
   "pygments_lexer": "ipython3",
   "version": "3.10.8"
  }
 },
 "nbformat": 4,
 "nbformat_minor": 5
}
