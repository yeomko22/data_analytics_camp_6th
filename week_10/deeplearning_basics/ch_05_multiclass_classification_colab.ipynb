{
  "cells": [
    {
      "cell_type": "markdown",
      "metadata": {
        "id": "view-in-github",
        "colab_type": "text"
      },
      "source": [
        "<a href=\"https://colab.research.google.com/github/yeomko22/data_analytics_camp_6th/blob/main/week_10/deeplearning_basics/ch_05_multiclass_classification_colab.ipynb\" target=\"_parent\"><img src=\"https://colab.research.google.com/assets/colab-badge.svg\" alt=\"Open In Colab\"/></a>"
      ]
    },
    {
      "cell_type": "markdown",
      "id": "40c3a34f-32f1-43d5-ae70-1dd50209d3da",
      "metadata": {
        "id": "40c3a34f-32f1-43d5-ae70-1dd50209d3da"
      },
      "source": [
        "# ch 5. multiclass classification\n",
        "\n",
        "이전 챕터에서 logistic regression을 이용한 이진 분류 모델에 대해서 알아보았습니다. 이는 기본적으로 linear model을 통해서 얻은 값에 sigmoid를 취해주어 0과 1 사이 값으로 변환합니다. 그리고 0.5보다 크면 1, 작으면 0으로 분류합니다. 이를 수식과 그림으로 나타내면 아래와 같습니다.\n",
        "\n",
        "$$g(z)=\\frac{1}{1+e^{-z}}$$\n",
        "\n",
        "$$H(X)=\\frac{1}{1+e^{-(WX+b)}}$$"
      ]
    },
    {
      "cell_type": "markdown",
      "source": [
        "![다운로드.png](data:image/png;base64,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)"
      ],
      "metadata": {
        "id": "vncA0AddElri"
      },
      "id": "vncA0AddElri"
    },
    {
      "cell_type": "markdown",
      "id": "f95d0f2c-4bde-4991-8a0e-b12cfae6a4c0",
      "metadata": {
        "id": "f95d0f2c-4bde-4991-8a0e-b12cfae6a4c0"
      },
      "source": [
        "그런데 분류해야할 클래스가 여러개이면 어떻게 할까요? 가령 숫자에 대한 손글씨 이미지를 보고, 이 숫자가 0부터 9 사이 어떤 값인지 분류해야한다면 어떻게 할 수 있을까요? 이 때 사용할 수 있는 기법이 Softmax입니다."
      ]
    },
    {
      "cell_type": "markdown",
      "id": "10e320a3-7b49-4428-aee4-bf2f815529a3",
      "metadata": {
        "id": "10e320a3-7b49-4428-aee4-bf2f815529a3"
      },
      "source": [
        "## Multinomial Classification\n",
        "\n",
        "분류해야하는 클래스가 3개일 때, 입력 값과 웨이트의 곱으로 각 클래스 별 확률을 계산하는 수식을 행렬 곱으로 표현하면 아래와 같습니다."
      ]
    },
    {
      "cell_type": "markdown",
      "id": "fdb37007-038b-4ddc-887c-af1bda4c15bf",
      "metadata": {
        "id": "fdb37007-038b-4ddc-887c-af1bda4c15bf"
      },
      "source": [
        "$$\\begin{pmatrix}\n",
        "w_{A1}\\;w_{A2}\\;w_{A3} \\\\\n",
        "w_{B1}\\;w_{B2}\\;w_{B3} \\\\\n",
        "w_{C1}\\;w_{C2}\\;w_{C3}\n",
        "\\end{pmatrix} \\cdot\n",
        "\\begin{pmatrix}\n",
        "x_{1}\\\\\n",
        "x_{2}\\\\\n",
        "x_{3}\n",
        "\\end{pmatrix}=\n",
        "\\begin{pmatrix}\n",
        "\\hat{y_{A}}\\\\\n",
        "\\hat{y_{B}}\\\\\n",
        "\\hat{y_{C}}\n",
        "\\end{pmatrix}\n",
        "$$"
      ]
    },
    {
      "cell_type": "markdown",
      "id": "230ab7f0-5d20-49e9-af88-4de99beb1e22",
      "metadata": {
        "id": "230ab7f0-5d20-49e9-af88-4de99beb1e22"
      },
      "source": [
        "예측값을 하나만 출력해서 sigmoid를 거친 뒤, 0.5를 기준으로 라벨을 분류했었던 logistic regression과 달리, 이번에는 분해야하는 클래스 개수만큼 예측 값을 계산합니다. 그 결과 예를 들면 (2.0, 1.0, 0.1) 처럼 입력 데이터가 각 클래스에 속할 확률을 담은 벡터가 리턴될 것입니다.\n",
        "\n",
        "그런데 sigmoid 같은 함수를 적용하지 않았기 때문에, 각각의 값들이 0부터 1사이의 값들로 딱 떨어지지 않습니다. 예를 들어 (2.0, 1.0, 0.1) 보다는 (0.6590, 0.2424, 0.098) 이런 식으로 각 클래스에 속할 확률을 0과 1사이 수이고, 모두 더했을 때 1이 나오도록 보정해준다면 훨씬 편리하지 않을까요? 이 때 사용하는 것이 softmax 함수입니다."
      ]
    },
    {
      "cell_type": "markdown",
      "id": "61b4a434-dd62-4da1-9740-2fbdb58d1c04",
      "metadata": {
        "id": "61b4a434-dd62-4da1-9740-2fbdb58d1c04"
      },
      "source": [
        "## Softmax\n",
        "\n",
        "$$Softmax(y_{i})=\\frac{exp(y_{i})}{\\sum_{j}exp(y_{j})}$$\n",
        "\n",
        "softmax 함수를 살펴보면 각 클래스 별 예측값들의 지수승을 모든 클래스들에 대한 예측값들의 자연 지수승의 합으로 나눠준 값입니다. 즉, softmax를 취해준 다음 모든 클래스들의 예측값을 더해주면 1이 됩니다. 또한 각각의 예측값들의 범위는 0과 1 사이가 됩니다. 직접 결과를 한번 보겠습니다."
      ]
    },
    {
      "cell_type": "code",
      "execution_count": null,
      "id": "acf42895-fac5-44bd-9ad4-291c8a81c03b",
      "metadata": {
        "id": "acf42895-fac5-44bd-9ad4-291c8a81c03b"
      },
      "outputs": [],
      "source": []
    },
    {
      "cell_type": "markdown",
      "id": "9112144e-f986-43d1-a4eb-878a19cddb0c",
      "metadata": {
        "id": "9112144e-f986-43d1-a4eb-878a19cddb0c"
      },
      "source": [
        "softmax를 적용한 모델의 구조를 그림으로 그려보면 아래와 같습니다. 행렬 곱을 통해서 각 클래스 별 확률을 곱해준 다음, sigmoid 대신 softmax를 취해주었습니다."
      ]
    },
    {
      "cell_type": "code",
      "source": [],
      "metadata": {
        "id": "WG9uet1HEY4E"
      },
      "id": "WG9uet1HEY4E",
      "execution_count": null,
      "outputs": []
    },
    {
      "cell_type": "markdown",
      "id": "52a19bda-bed1-4d14-83d9-72b6bd872ca7",
      "metadata": {
        "id": "52a19bda-bed1-4d14-83d9-72b6bd872ca7"
      },
      "source": [
        "## Cross Entropy\n",
        "모델의 형태가 결정되었으니, 이제 loss function을 디자인해야합니다. 앞서 logistic regression에서 사용했던 loss function은 분류해야할 클래스가 0 혹은 1, 두 개일 때에만 적용이 가능합니다. 분류해야할 클래스가 여러개인 상황에서는 Cross Entropy라는 함수를 사용해야합니다.\n",
        "\n",
        "cross entropy도 비슷합니다. 라벨에 해당하는 클래스에 대해선 예측값이 0일 때 loss를 크게 주고, 예측 값이 1일 때는 loss를 작게 주면 됩니다. 라벨에 해당하지 않는 클래스에 대해선 반대로 적용하면 됩니다. 하나의 입력 데이터에 대해서 cross entropy 수식을 적용하면 아래와 같습니다.\n",
        "\n",
        "$$-\\sum_{i}L_{i}log(s_{i})$$"
      ]
    },
    {
      "cell_type": "markdown",
      "id": "3b804534-3ce5-4b0c-9c77-7bc5cced2da9",
      "metadata": {
        "id": "3b804534-3ce5-4b0c-9c77-7bc5cced2da9"
      },
      "source": [
        "i는 클래스의 번호를 말합니다. Li는 특정 클래스의 라벨을 말하고, si는 특정 클래스에 대한 예측값입니다. 예를들어 전체 클래스 수는 3개, 특정 입력 데이터에 대한 라벨은 2라고 가정해보겠습니다. 그러면 라벨은 아래와 같은 원 핫 벡터로 표현할 수 있습니다.\n",
        "\n",
        "$$L=(0, 1, 0)$$"
      ]
    },
    {
      "cell_type": "markdown",
      "id": "b8064882-54ab-4218-8895-6d03375125b8",
      "metadata": {
        "id": "b8064882-54ab-4218-8895-6d03375125b8"
      },
      "source": [
        "모든 라벨에 대해서 cross entropy 수식을 풀어쓰면 아래와 같습니다.\n",
        "\n",
        "$$0*-log(s_{0})+1*-log(s_{1})+0*-log(s_{2})$$"
      ]
    },
    {
      "cell_type": "markdown",
      "id": "ec490d4f-1457-4231-b308-c5d0131da399",
      "metadata": {
        "id": "ec490d4f-1457-4231-b308-c5d0131da399"
      },
      "source": [
        "여기서 라벨이 0인 첫번째와 세번째 행은 무시되고, 결국 라벨이 1일 때 예측값이 어디에 가까운지에 따라서 loss가 결정됩니다. 예측 값이 1에 가깝다면 loss는 0에 가까워지고, 0에 가깝다면 loss는 무한대에 가까워집니다."
      ]
    },
    {
      "cell_type": "code",
      "execution_count": null,
      "id": "5f0770f8-4a0f-4498-a533-13f79da4d79a",
      "metadata": {
        "id": "5f0770f8-4a0f-4498-a533-13f79da4d79a"
      },
      "outputs": [],
      "source": []
    },
    {
      "cell_type": "markdown",
      "id": "a763ea14-5f25-452c-817d-4c2947079aec",
      "metadata": {
        "id": "a763ea14-5f25-452c-817d-4c2947079aec"
      },
      "source": [
        "앞서 softmax를 적용했던 output 값에 cross entropy를 이용하여 loss를 계산해보겠습니다. label이 1일 때와 3일 때 loss 값을 비교해보겠습니다."
      ]
    },
    {
      "cell_type": "code",
      "execution_count": null,
      "id": "72617bc7-41b8-4f80-b734-4709446274f8",
      "metadata": {
        "id": "72617bc7-41b8-4f80-b734-4709446274f8"
      },
      "outputs": [],
      "source": []
    },
    {
      "cell_type": "markdown",
      "id": "1aba78f4-feb0-4df3-909a-499d5ce99315",
      "metadata": {
        "id": "1aba78f4-feb0-4df3-909a-499d5ce99315"
      },
      "source": [
        "label이 0일 때 loss 계산"
      ]
    },
    {
      "cell_type": "code",
      "execution_count": null,
      "id": "afd11d1d-bd32-403d-9745-c48af2eee6a8",
      "metadata": {
        "id": "afd11d1d-bd32-403d-9745-c48af2eee6a8"
      },
      "outputs": [],
      "source": []
    },
    {
      "cell_type": "markdown",
      "id": "1de76225-6b50-45fa-a893-0d313b8c1e18",
      "metadata": {
        "id": "1de76225-6b50-45fa-a893-0d313b8c1e18"
      },
      "source": [
        "label이 2일 때 loss 계산"
      ]
    },
    {
      "cell_type": "code",
      "execution_count": null,
      "id": "4f9e8c28-8e09-4e30-8580-626f6324de98",
      "metadata": {
        "id": "4f9e8c28-8e09-4e30-8580-626f6324de98"
      },
      "outputs": [],
      "source": []
    },
    {
      "cell_type": "markdown",
      "id": "35fff49d-0cbc-4f22-896f-ae4a944d6a56",
      "metadata": {
        "id": "35fff49d-0cbc-4f22-896f-ae4a944d6a56"
      },
      "source": [
        "## torch를 이용한 multiclass classification 구현\n",
        "\n",
        "이전 실습때 다뤘던 펭귄 데이터 셋을 이용해서 torch 스타일로 분류 모델을 한번 학습시켜보고, 정확도를 측정해보겠습니다."
      ]
    },
    {
      "cell_type": "markdown",
      "id": "8b8f0f96-a889-423a-a2f2-e026306b5eda",
      "metadata": {
        "id": "8b8f0f96-a889-423a-a2f2-e026306b5eda"
      },
      "source": [
        "### 데이터 셋 준비"
      ]
    },
    {
      "cell_type": "code",
      "execution_count": null,
      "id": "2dde8f3e-c708-44d0-a571-870a2d1866a9",
      "metadata": {
        "id": "2dde8f3e-c708-44d0-a571-870a2d1866a9"
      },
      "outputs": [],
      "source": []
    },
    {
      "cell_type": "markdown",
      "id": "864d672a-480e-4f9b-b5b2-eac9fb04ca80",
      "metadata": {
        "id": "864d672a-480e-4f9b-b5b2-eac9fb04ca80"
      },
      "source": [
        "### Convert to tensor"
      ]
    },
    {
      "cell_type": "code",
      "execution_count": null,
      "id": "68ea5a4b-5a35-4e56-a741-6e6d694eeb75",
      "metadata": {
        "id": "68ea5a4b-5a35-4e56-a741-6e6d694eeb75"
      },
      "outputs": [],
      "source": []
    },
    {
      "cell_type": "markdown",
      "id": "dd992d62-4353-4134-bc70-ebede9592d3d",
      "metadata": {
        "id": "dd992d62-4353-4134-bc70-ebede9592d3d"
      },
      "source": [
        "### Multinomial Classifier 모델 생성"
      ]
    },
    {
      "cell_type": "code",
      "execution_count": null,
      "id": "26d8db63-6bb4-47c5-a308-c9f7fd05d1c7",
      "metadata": {
        "id": "26d8db63-6bb4-47c5-a308-c9f7fd05d1c7"
      },
      "outputs": [],
      "source": []
    },
    {
      "cell_type": "markdown",
      "id": "28450c5f-0aed-4513-9af9-9d0b3c28c606",
      "metadata": {
        "id": "28450c5f-0aed-4513-9af9-9d0b3c28c606"
      },
      "source": [
        "### 하이퍼 파라미터 셋팅"
      ]
    },
    {
      "cell_type": "code",
      "execution_count": null,
      "id": "bfa47bf2-205c-4e44-83fb-2f439e6e86c7",
      "metadata": {
        "id": "bfa47bf2-205c-4e44-83fb-2f439e6e86c7"
      },
      "outputs": [],
      "source": []
    },
    {
      "cell_type": "markdown",
      "id": "f14e1513-19c2-428e-81b1-c5367bc98792",
      "metadata": {
        "id": "f14e1513-19c2-428e-81b1-c5367bc98792"
      },
      "source": [
        "## 정리\n",
        "\n",
        "이번 챕터에서는 클래스가 3개 이상인 분류 모델을 학습하기 위해서 필요한 softmax와 cross entropy에 대해서 알아보았습니다. 사실 우리가 아는 대부분의 딥러닝 모델들은 이 softmax와 cross entropy를 기반으로 classification 테스크를 학습하는 모델들이기 때문에 이 두 개념을 잘 기억해두시기 바랍니다."
      ]
    },
    {
      "cell_type": "code",
      "execution_count": null,
      "id": "9cf2f999-19b1-4781-bc0e-bdaf35d931a8",
      "metadata": {
        "id": "9cf2f999-19b1-4781-bc0e-bdaf35d931a8"
      },
      "outputs": [],
      "source": []
    }
  ],
  "metadata": {
    "kernelspec": {
      "display_name": "Python 3 (ipykernel)",
      "language": "python",
      "name": "python3"
    },
    "language_info": {
      "codemirror_mode": {
        "name": "ipython",
        "version": 3
      },
      "file_extension": ".py",
      "mimetype": "text/x-python",
      "name": "python",
      "nbconvert_exporter": "python",
      "pygments_lexer": "ipython3",
      "version": "3.10.8"
    },
    "colab": {
      "provenance": [],
      "include_colab_link": true
    }
  },
  "nbformat": 4,
  "nbformat_minor": 5
}