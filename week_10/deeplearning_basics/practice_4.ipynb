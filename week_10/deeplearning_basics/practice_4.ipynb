{
 "cells": [
  {
   "cell_type": "markdown",
   "id": "9f0341bf-8c57-488d-a149-c3ad77fffdf9",
   "metadata": {},
   "source": [
    "# Practice 4. torch DNN classification \n",
    "\n",
    "강아지와 고양이 이미지를 분류하는 Deep Neural Network 모델을 만들어 보세요. 활성화 함수를 sigmoid를 썼을 때와 ReLU를 썼을 때의 결과를 비교해보세요.\n",
    "\n",
    "데이터 셋 링크: https://www.kaggle.com/datasets/uciml/mushroom-classification"
   ]
  },
  {
   "cell_type": "code",
   "execution_count": null,
   "id": "703a0e42-99d2-4398-ad87-4c36e7167114",
   "metadata": {},
   "outputs": [],
   "source": []
  }
 ],
 "metadata": {
  "kernelspec": {
   "display_name": "Python 3 (ipykernel)",
   "language": "python",
   "name": "python3"
  },
  "language_info": {
   "codemirror_mode": {
    "name": "ipython",
    "version": 3
   },
   "file_extension": ".py",
   "mimetype": "text/x-python",
   "name": "python",
   "nbconvert_exporter": "python",
   "pygments_lexer": "ipython3",
   "version": "3.10.8"
  }
 },
 "nbformat": 4,
 "nbformat_minor": 5
}
