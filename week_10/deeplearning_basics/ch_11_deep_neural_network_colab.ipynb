{
  "cells": [
    {
      "cell_type": "markdown",
      "metadata": {
        "id": "view-in-github",
        "colab_type": "text"
      },
      "source": [
        "<a href=\"https://colab.research.google.com/github/yeomko22/data_analytics_camp_6th/blob/main/week_10/deeplearning_basics/ch_11_deep_neural_network_colab.ipynb\" target=\"_parent\"><img src=\"https://colab.research.google.com/assets/colab-badge.svg\" alt=\"Open In Colab\"/></a>"
      ]
    },
    {
      "cell_type": "markdown",
      "id": "40c3a34f-32f1-43d5-ae70-1dd50209d3da",
      "metadata": {
        "id": "40c3a34f-32f1-43d5-ae70-1dd50209d3da"
      },
      "source": [
        "# ch 11. deep neural network\n",
        "\n",
        "이전 챕터에서 multilayer perceptron과 이를 학습시킬 수 있는 Back Propagation 알고리즘에 대해서 배웠습니다. 이번 챕터에서는 직접 여러 층으로 구성된 신경망 모델을 만들고, 학습시켜 보겠습니다."
      ]
    },
    {
      "cell_type": "markdown",
      "id": "8b8f0f96-a889-423a-a2f2-e026306b5eda",
      "metadata": {
        "id": "8b8f0f96-a889-423a-a2f2-e026306b5eda"
      },
      "source": [
        "## 데이터 셋 준비\n",
        "\n",
        "이번 챕터부터는 딥러닝을 처음 시작할 때 많이 사용하는 대표적인 데이터 셋인 MNIST 데이터 셋을 사용해보도록 하겠습니다. 이는 0부터 9까지의 숫자의 손글씨 데이터 셋입니다. 이미지를 보고, 어느 숫자인지 분류하는 딥러닝 모델을 구축해보도록 하겠습니다."
      ]
    },
    {
      "cell_type": "code",
      "execution_count": null,
      "id": "cdeff6b5-4a2f-494a-98f6-cccba1f49baa",
      "metadata": {
        "id": "cdeff6b5-4a2f-494a-98f6-cccba1f49baa"
      },
      "outputs": [],
      "source": []
    },
    {
      "cell_type": "markdown",
      "id": "bbbec6d9-bd77-4a7f-b510-36fd9021cc17",
      "metadata": {
        "id": "bbbec6d9-bd77-4a7f-b510-36fd9021cc17"
      },
      "source": [
        "## Single Layer Perceptron Classifier\n",
        "\n",
        "층이 하나로 구성된 분류 모델을 만들어보겠습니다. 이전 시간에 배웠던 multiclass classifier와 동일한 모델입니다. 이미지를 일렬로 쫙 펼치기 때문에 첫번째 fully connected layer의 차원은 (28 * 28, hidden_dim)이 됩니다.\n",
        "\n",
        "![Untitled Diagram.drawio (3).png](attachment:054f81c1-d372-4cae-92e7-8bfd9a53ff0d.png)"
      ]
    },
    {
      "cell_type": "markdown",
      "id": "d56a6191-5464-4ab7-8a88-49591fba8681",
      "metadata": {
        "id": "d56a6191-5464-4ab7-8a88-49591fba8681"
      },
      "source": [
        "### 모델 작성"
      ]
    },
    {
      "cell_type": "code",
      "execution_count": null,
      "id": "468e5fb4-31f0-4984-a265-807f5045f9e5",
      "metadata": {
        "id": "468e5fb4-31f0-4984-a265-807f5045f9e5"
      },
      "outputs": [],
      "source": []
    },
    {
      "cell_type": "markdown",
      "id": "28450c5f-0aed-4513-9af9-9d0b3c28c606",
      "metadata": {
        "tags": [],
        "id": "28450c5f-0aed-4513-9af9-9d0b3c28c606"
      },
      "source": [
        "### 하이퍼 파라미터 셋팅"
      ]
    },
    {
      "cell_type": "code",
      "execution_count": null,
      "id": "8a96da85-07e7-4076-89f2-d8867e88062e",
      "metadata": {
        "id": "8a96da85-07e7-4076-89f2-d8867e88062e"
      },
      "outputs": [],
      "source": []
    },
    {
      "cell_type": "markdown",
      "id": "01911a76-80b6-46b8-b43b-7acc1bdb70e9",
      "metadata": {
        "tags": [],
        "id": "01911a76-80b6-46b8-b43b-7acc1bdb70e9"
      },
      "source": [
        "### 학습"
      ]
    },
    {
      "cell_type": "code",
      "execution_count": null,
      "id": "387e2d57-87ac-48e2-aabd-76103688386e",
      "metadata": {
        "id": "387e2d57-87ac-48e2-aabd-76103688386e"
      },
      "outputs": [],
      "source": []
    },
    {
      "cell_type": "markdown",
      "id": "9163ef40-8c79-4551-a3c9-a53e51b63336",
      "metadata": {
        "id": "9163ef40-8c79-4551-a3c9-a53e51b63336"
      },
      "source": [
        "### 결과 시각화"
      ]
    },
    {
      "cell_type": "code",
      "execution_count": null,
      "id": "c6c85830-0314-44f0-ae6c-80d478917336",
      "metadata": {
        "id": "c6c85830-0314-44f0-ae6c-80d478917336"
      },
      "outputs": [],
      "source": []
    },
    {
      "cell_type": "markdown",
      "id": "dd992d62-4353-4134-bc70-ebede9592d3d",
      "metadata": {
        "tags": [],
        "id": "dd992d62-4353-4134-bc70-ebede9592d3d"
      },
      "source": [
        "## Multilayer Perceptron Classifier\n",
        "입력으로 들어오는 이미지를 일렬로 쭉 펼친 다음, 신경망을 2번 통과시키는 모델을 작성합니다. 활성화 함수로는 sigmoid를 사용합니다. 구조를 시각화 해보면 아래와 같습니다.\n",
        "\n",
        "이미지를 일렬로 쫙 펼치기 때문에 첫번째 fully connected layer의 차원은 (28 * 28, hidden_dim)이 됩니다.\n",
        "\n",
        "![Untitled Diagram.drawio (2).png](attachment:27d5956c-d792-4f38-8fb3-0836750b462c.png)\n"
      ]
    },
    {
      "cell_type": "markdown",
      "id": "e8116211-31a3-4e70-9e6e-0add0a20fd03",
      "metadata": {
        "id": "e8116211-31a3-4e70-9e6e-0add0a20fd03"
      },
      "source": [
        "### 모델 작성"
      ]
    },
    {
      "cell_type": "code",
      "execution_count": null,
      "id": "f07b8af1-908b-4590-bd7a-8634b0811472",
      "metadata": {
        "id": "f07b8af1-908b-4590-bd7a-8634b0811472"
      },
      "outputs": [],
      "source": []
    },
    {
      "cell_type": "markdown",
      "id": "a0dc8986-3e5b-4004-a776-8e7603950021",
      "metadata": {
        "id": "a0dc8986-3e5b-4004-a776-8e7603950021"
      },
      "source": [
        "### 하이퍼 파라미터 셋팅"
      ]
    },
    {
      "cell_type": "code",
      "execution_count": null,
      "id": "f36ee91a-c649-45ed-b02f-9e60cb1db201",
      "metadata": {
        "id": "f36ee91a-c649-45ed-b02f-9e60cb1db201"
      },
      "outputs": [],
      "source": []
    },
    {
      "cell_type": "markdown",
      "id": "0f5a0dda-23f9-4bbf-a86a-b196718b5577",
      "metadata": {
        "id": "0f5a0dda-23f9-4bbf-a86a-b196718b5577"
      },
      "source": [
        "### 학습"
      ]
    },
    {
      "cell_type": "code",
      "execution_count": null,
      "id": "b87dcfb2-d340-4ac6-973a-4a6b1cdc58ae",
      "metadata": {
        "id": "b87dcfb2-d340-4ac6-973a-4a6b1cdc58ae"
      },
      "outputs": [],
      "source": []
    },
    {
      "cell_type": "markdown",
      "id": "8a1ff3a3-04ee-4ced-9cfb-9d0c45229c3e",
      "metadata": {
        "id": "8a1ff3a3-04ee-4ced-9cfb-9d0c45229c3e"
      },
      "source": [
        "### 결과 시각화"
      ]
    },
    {
      "cell_type": "code",
      "execution_count": null,
      "id": "6e30e64c-9f2e-434c-9a8f-f0eb62281fb6",
      "metadata": {
        "id": "6e30e64c-9f2e-434c-9a8f-f0eb62281fb6"
      },
      "outputs": [],
      "source": []
    },
    {
      "cell_type": "markdown",
      "id": "963c1303-823e-4c78-86b9-0469502c5c57",
      "metadata": {
        "id": "963c1303-823e-4c78-86b9-0469502c5c57"
      },
      "source": [
        "층을 하나 더 쌓았을 뿐인데 모델의 정확도가 96.8%까지 개선되는 것을 확인할 수 있습니다."
      ]
    },
    {
      "cell_type": "markdown",
      "id": "f14e1513-19c2-428e-81b1-c5367bc98792",
      "metadata": {
        "id": "f14e1513-19c2-428e-81b1-c5367bc98792"
      },
      "source": [
        "## 정리\n",
        "\n",
        "이번 챕터에서는 여러개의 층으로 구성된 신경망 모델을 만들고, MNIST 데이터 셋에 대해서 학습을 시켜보았습니다. 그 결과 96%라는 준수한 성능을 보여주었습니다. 실습 과정에서 사용한 코드 구성은 모델이 더 복잡해지더라도 대부분 적용할 수 있는 코드들이므로 사용법을 잘 숙지하시기 바랍니다."
      ]
    },
    {
      "cell_type": "code",
      "execution_count": null,
      "id": "2e016c49-e658-4151-80c9-1ef5ba94a2fb",
      "metadata": {
        "id": "2e016c49-e658-4151-80c9-1ef5ba94a2fb"
      },
      "outputs": [],
      "source": []
    }
  ],
  "metadata": {
    "kernelspec": {
      "display_name": "Python 3 (ipykernel)",
      "language": "python",
      "name": "python3"
    },
    "language_info": {
      "codemirror_mode": {
        "name": "ipython",
        "version": 3
      },
      "file_extension": ".py",
      "mimetype": "text/x-python",
      "name": "python",
      "nbconvert_exporter": "python",
      "pygments_lexer": "ipython3",
      "version": "3.10.8"
    },
    "colab": {
      "provenance": [],
      "include_colab_link": true
    }
  },
  "nbformat": 4,
  "nbformat_minor": 5
}