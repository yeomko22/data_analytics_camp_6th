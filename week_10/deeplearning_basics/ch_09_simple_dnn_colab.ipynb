{
  "cells": [
    {
      "cell_type": "markdown",
      "metadata": {
        "id": "view-in-github",
        "colab_type": "text"
      },
      "source": [
        "<a href=\"https://colab.research.google.com/github/yeomko22/data_analytics_camp_6th/blob/main/week_10/deeplearning_basics/ch_09_simple_dnn_colab.ipynb\" target=\"_parent\"><img src=\"https://colab.research.google.com/assets/colab-badge.svg\" alt=\"Open In Colab\"/></a>"
      ]
    },
    {
      "cell_type": "markdown",
      "id": "939d0bf6-aee9-4fa7-8484-7e8507d93dbd",
      "metadata": {
        "id": "939d0bf6-aee9-4fa7-8484-7e8507d93dbd"
      },
      "source": [
        "# ch 9 Simple DNN\n",
        "\n",
        "이번 챕터에서는 이론으로 배운 딥러닝 모델을 간단히 구현해보겠습니다. 이전 펭귄 클래시피케이션 모델을 다층 신경망 방식으로 구현해보겠습니다. pytorch의 도움을 받으면 어렵지않게 구현할 수 있습니다."
      ]
    },
    {
      "cell_type": "markdown",
      "id": "d1d4c211-be18-4e6e-84e2-c108e70fa3cc",
      "metadata": {
        "id": "d1d4c211-be18-4e6e-84e2-c108e70fa3cc"
      },
      "source": [
        "## 데이터 셋 준비"
      ]
    },
    {
      "cell_type": "code",
      "execution_count": null,
      "id": "aa036b5e-095f-4b69-a98e-c30abcdf3643",
      "metadata": {
        "id": "aa036b5e-095f-4b69-a98e-c30abcdf3643"
      },
      "outputs": [],
      "source": []
    },
    {
      "cell_type": "markdown",
      "id": "a7a3444a-056e-4c7a-b99b-e8dd0999ff9d",
      "metadata": {
        "id": "a7a3444a-056e-4c7a-b99b-e8dd0999ff9d"
      },
      "source": [
        "## Deep Neural Network"
      ]
    },
    {
      "cell_type": "markdown",
      "id": "8571c9d3-b8b2-4029-9c36-df3b9b26a6eb",
      "metadata": {
        "id": "8571c9d3-b8b2-4029-9c36-df3b9b26a6eb"
      },
      "source": [
        "### 모델 작성"
      ]
    },
    {
      "cell_type": "code",
      "execution_count": null,
      "id": "69a94de5-8005-44e5-97f1-28c921fb01da",
      "metadata": {
        "id": "69a94de5-8005-44e5-97f1-28c921fb01da"
      },
      "outputs": [],
      "source": []
    },
    {
      "cell_type": "markdown",
      "id": "0c5f5d52-90c2-44ea-90b7-27c55c2e839f",
      "metadata": {
        "id": "0c5f5d52-90c2-44ea-90b7-27c55c2e839f"
      },
      "source": [
        "### 하이퍼 파라미터 셋팅"
      ]
    },
    {
      "cell_type": "code",
      "execution_count": null,
      "id": "4f3f043f-8879-43f7-9eb7-d339e29a7589",
      "metadata": {
        "id": "4f3f043f-8879-43f7-9eb7-d339e29a7589"
      },
      "outputs": [],
      "source": []
    },
    {
      "cell_type": "markdown",
      "id": "f0cf4396-7816-4774-8b37-23fcc59006c6",
      "metadata": {
        "id": "f0cf4396-7816-4774-8b37-23fcc59006c6"
      },
      "source": [
        "### 모델 학습"
      ]
    },
    {
      "cell_type": "code",
      "execution_count": null,
      "id": "7508382c-202a-4c36-af14-dc18bbce0fc9",
      "metadata": {
        "id": "7508382c-202a-4c36-af14-dc18bbce0fc9"
      },
      "outputs": [],
      "source": []
    },
    {
      "cell_type": "markdown",
      "id": "fab1e838-d277-471f-9f50-e43a7000055a",
      "metadata": {
        "id": "fab1e838-d277-471f-9f50-e43a7000055a"
      },
      "source": [
        "### 결과 시각화"
      ]
    },
    {
      "cell_type": "code",
      "execution_count": null,
      "id": "61603385-0158-4ecf-b63b-4e9e844df5e6",
      "metadata": {
        "id": "61603385-0158-4ecf-b63b-4e9e844df5e6"
      },
      "outputs": [],
      "source": []
    },
    {
      "cell_type": "markdown",
      "id": "99f003a5-5fe1-44ee-abac-e9eb46ecb041",
      "metadata": {
        "id": "99f003a5-5fe1-44ee-abac-e9eb46ecb041"
      },
      "source": [
        "## 정리\n",
        "\n",
        "이번 챕터에서는 이론으로만 배웠던 딥러닝을 실제로 구현해보았습니다. 그 결과, 지금까지 우리가 linear regression이나 logistic regression을 Grandient Descent 방식으로 학습시킨 코드와 그다지 다르지 않았습니다. 차이가 있다면 신경망 레이어를 여러 겹 쌓고, 그 사이 사이에 비선형 함수인 sigmoid를 끼워넣은 모델이라는 점입니다. 선형 레이어 사이 사이에 비선형성을 넣어준다는 점을 꼭 기억해주시고 넘어가시기 바랍니다."
      ]
    }
  ],
  "metadata": {
    "kernelspec": {
      "display_name": "Python 3 (ipykernel)",
      "language": "python",
      "name": "python3"
    },
    "language_info": {
      "codemirror_mode": {
        "name": "ipython",
        "version": 3
      },
      "file_extension": ".py",
      "mimetype": "text/x-python",
      "name": "python",
      "nbconvert_exporter": "python",
      "pygments_lexer": "ipython3",
      "version": "3.10.8"
    },
    "colab": {
      "provenance": [],
      "include_colab_link": true
    }
  },
  "nbformat": 4,
  "nbformat_minor": 5
}