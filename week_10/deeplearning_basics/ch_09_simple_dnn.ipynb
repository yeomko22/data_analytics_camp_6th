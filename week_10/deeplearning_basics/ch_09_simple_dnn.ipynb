{
 "cells": [
  {
   "cell_type": "markdown",
   "id": "939d0bf6-aee9-4fa7-8484-7e8507d93dbd",
   "metadata": {},
   "source": [
    "# ch 9 Simple DNN\n",
    "\n",
    "이번 챕터에서는 이론으로 배운 딥러닝 모델을 간단히 구현해보겠습니다. 이전 펭귄 클래시피케이션 모델을 다층 신경망 방식으로 구현해보겠습니다. pytorch의 도움을 받으면 어렵지않게 구현할 수 있습니다."
   ]
  },
  {
   "cell_type": "markdown",
   "id": "d1d4c211-be18-4e6e-84e2-c108e70fa3cc",
   "metadata": {},
   "source": [
    "## 데이터 셋 준비"
   ]
  },
  {
   "cell_type": "code",
   "execution_count": 2,
   "id": "1dde51a9-0a33-4132-a60c-4682a26a43cf",
   "metadata": {},
   "outputs": [],
   "source": [
    "import pandas as pd\n",
    "from sklearn.model_selection import train_test_split\n",
    "import torch\n",
    "\n",
    "df = pd.read_csv(\"./data/penguins_preprocessed.csv\")\n",
    "X = df.drop([\"species\"], axis=1)\n",
    "y = df[\"species\"]\n",
    "x_train, x_val, y_train, y_val = train_test_split(X, y, test_size=0.2)"
   ]
  },
  {
   "cell_type": "code",
   "execution_count": 3,
   "id": "9010eff4-8132-4817-b545-35ac640745c5",
   "metadata": {},
   "outputs": [],
   "source": [
    "x_train = torch.Tensor(x_train.values)\n",
    "y_train = torch.Tensor(y_train.values).type(torch.long) \n",
    "x_val = torch.Tensor(x_val.values)\n",
    "y_val = torch.Tensor(y_val.values).type(torch.long) "
   ]
  },
  {
   "cell_type": "markdown",
   "id": "a7a3444a-056e-4c7a-b99b-e8dd0999ff9d",
   "metadata": {},
   "source": [
    "## Deep Neural Network"
   ]
  },
  {
   "cell_type": "markdown",
   "id": "8571c9d3-b8b2-4029-9c36-df3b9b26a6eb",
   "metadata": {},
   "source": [
    "### 모델 작성"
   ]
  },
  {
   "cell_type": "code",
   "execution_count": 4,
   "id": "5f47288b-a780-4c02-a3af-29151642b6f7",
   "metadata": {},
   "outputs": [],
   "source": [
    "import torch\n",
    "\n",
    "class SimpleDNN(torch.nn.Module):\n",
    "    def __init__(self, input_dim, hidden_dim, output_dim):\n",
    "        super(SimpleDNN, self).__init__()\n",
    "        self.fc1 = torch.nn.Linear(input_dim, hidden_dim)\n",
    "        self.fc2 = torch.nn.Linear(hidden_dim, output_dim)\n",
    "        self.activation = torch.nn.Sigmoid()\n",
    "        self.softmax = torch.nn.Softmax(dim=1)\n",
    "\n",
    "    def forward(self, x):\n",
    "        x = self.activation(self.fc1(x))\n",
    "        x = self.softmax(self.fc2(x))\n",
    "        return x "
   ]
  },
  {
   "cell_type": "markdown",
   "id": "0c5f5d52-90c2-44ea-90b7-27c55c2e839f",
   "metadata": {},
   "source": [
    "### 하이퍼 파라미터 셋팅"
   ]
  },
  {
   "cell_type": "code",
   "execution_count": 5,
   "id": "d51d9046-67be-465e-b347-3f02b85cb1ca",
   "metadata": {},
   "outputs": [],
   "source": [
    "input_dim = x_train.shape[1]\n",
    "output_dim = len(y_train.unique())\n",
    "hidden_dim = 10"
   ]
  },
  {
   "cell_type": "code",
   "execution_count": 6,
   "id": "c6d51248-3548-4d20-8971-fa5b809fc3f8",
   "metadata": {},
   "outputs": [],
   "source": [
    "model = SimpleDNN(input_dim, hidden_dim, output_dim)\n",
    "learning_rate = 0.01 \n",
    "optimizer = torch.optim.Adam(model.parameters(), lr=learning_rate)\n",
    "criterion = torch.nn.CrossEntropyLoss() \n",
    "epochs = 100"
   ]
  },
  {
   "cell_type": "code",
   "execution_count": 7,
   "id": "c45b4e6f-6933-414c-b3ac-d26bf6f75889",
   "metadata": {},
   "outputs": [
    {
     "data": {
      "text/plain": [
       "tensor([[ 1.5050, -0.0308,  1.9273,  ...,  0.0000,  0.0000,  1.0000],\n",
       "        [ 0.8264,  0.1728, -0.7153,  ...,  1.0000,  0.0000,  1.0000],\n",
       "        [-0.3291,  1.1906, -0.2868,  ...,  0.0000,  0.0000,  1.0000],\n",
       "        ...,\n",
       "        [ 1.3399,  1.3942, -0.2153,  ...,  1.0000,  0.0000,  1.0000],\n",
       "        [-0.5675,  0.8853, -1.2153,  ...,  1.0000,  0.0000,  1.0000],\n",
       "        [-1.1544, -0.5906, -1.2867,  ...,  0.0000,  0.0000,  0.0000]])"
      ]
     },
     "execution_count": 7,
     "metadata": {},
     "output_type": "execute_result"
    }
   ],
   "source": [
    "x_train"
   ]
  },
  {
   "cell_type": "markdown",
   "id": "f0cf4396-7816-4774-8b37-23fcc59006c6",
   "metadata": {},
   "source": [
    "### 모델 학습"
   ]
  },
  {
   "cell_type": "code",
   "execution_count": 8,
   "id": "8a35ae5c-b457-4946-afe1-5b913b837efe",
   "metadata": {},
   "outputs": [
    {
     "name": "stdout",
     "output_type": "stream",
     "text": [
      "epoch: 10 train - loss: 1.0556 acc: 0.427 val - loss: 1.0209 acc: 0.4776\n",
      "epoch: 20 train - loss: 0.9939 acc: 0.4345 val - loss: 0.9442 acc: 0.5522\n",
      "epoch: 30 train - loss: 0.9026 acc: 0.7828 val - loss: 0.8375 acc: 0.8507\n",
      "epoch: 40 train - loss: 0.826 acc: 0.7828 val - loss: 0.7544 acc: 0.8507\n",
      "epoch: 50 train - loss: 0.7853 acc: 0.7828 val - loss: 0.7147 acc: 0.8507\n",
      "epoch: 60 train - loss: 0.7591 acc: 0.7828 val - loss: 0.6937 acc: 0.8507\n",
      "epoch: 70 train - loss: 0.7287 acc: 0.7828 val - loss: 0.6783 acc: 0.8507\n",
      "epoch: 80 train - loss: 0.6954 acc: 0.9551 val - loss: 0.6624 acc: 1.0\n",
      "epoch: 90 train - loss: 0.6589 acc: 0.9775 val - loss: 0.632 acc: 1.0\n",
      "epoch: 100 train - loss: 0.628 acc: 0.9888 val - loss: 0.6076 acc: 1.0\n"
     ]
    }
   ],
   "source": [
    "from sklearn.metrics import accuracy_score\n",
    "from collections import defaultdict \n",
    "\n",
    "logs = defaultdict(list)\n",
    "for epoch in range(epochs):\n",
    "    model.train()\n",
    "    optimizer.zero_grad()\n",
    "\n",
    "    # inference, calculate loss\n",
    "    outputs = model(x_train)\n",
    "    pred = torch.argmax(outputs, dim=1)\n",
    "    accuracy = accuracy_score(y_train, pred)\n",
    "    loss = criterion(outputs, y_train)\n",
    "    \n",
    "    # paramter optimize\n",
    "    loss.backward()\n",
    "    optimizer.step()\n",
    "\n",
    "    # validation\n",
    "    with torch.no_grad():\n",
    "        val_outputs = model(x_val)\n",
    "        val_pred = torch.argmax(val_outputs, dim=1)\n",
    "        val_loss = criterion(val_outputs, y_val)\n",
    "        val_accuracy = accuracy_score(y_val, val_pred)\n",
    "    \n",
    "    logs[\"train_loss\"].append(loss.item())\n",
    "    logs[\"train_accuracy\"].append(accuracy)\n",
    "    logs[\"val_loss\"].append(val_loss.item())\n",
    "    logs[\"val_accuracy\"].append(val_accuracy)\n",
    "\n",
    "    if (epoch + 1) % 10 == 0:\n",
    "        print(f\"epoch: {epoch + 1} train - loss: {round(loss.item(), 4)} acc: {round(accuracy, 4)} \"\\\n",
    "                 f\"val - loss: {round(val_loss.item(), 4)} acc: {round(val_accuracy, 4)}\")"
   ]
  },
  {
   "cell_type": "markdown",
   "id": "fab1e838-d277-471f-9f50-e43a7000055a",
   "metadata": {},
   "source": [
    "### 결과 시각화"
   ]
  },
  {
   "cell_type": "code",
   "execution_count": 16,
   "id": "a56b9ae2-31f1-41a0-bef4-e4b60d476b0c",
   "metadata": {},
   "outputs": [
    {
     "data": {
      "text/plain": [
       "<matplotlib.legend.Legend at 0x28effe710>"
      ]
     },
     "execution_count": 16,
     "metadata": {},
     "output_type": "execute_result"
    },
    {
     "data": {
      "image/png": "[encoded data removed]",
      "text/plain": [
       "<Figure size 1000x400 with 2 Axes>"
      ]
     },
     "metadata": {},
     "output_type": "display_data"
    }
   ],
   "source": [
    "from matplotlib import pyplot as plt\n",
    "\n",
    "fig = plt.figure(figsize=(10, 4))\n",
    "\n",
    "ax0 = fig.add_subplot(1, 2, 1)\n",
    "ax1 = fig.add_subplot(1, 2, 2)\n",
    "ax0.plot(logs[\"train_loss\"], label=\"train\")\n",
    "ax0.plot(logs[\"val_loss\"], label=\"val\")\n",
    "ax0.legend()\n",
    "ax0.set_title(\"loss\")\n",
    "\n",
    "ax1.plot(logs[\"train_accuracy\"], label=\"train\")\n",
    "ax1.plot(logs[\"val_accuracy\"], label=\"val\")\n",
    "ax1.legend()\n",
    "ax1.set_title(\"accuracy\")\n",
    "plt.legend()"
   ]
  },
  {
   "cell_type": "markdown",
   "id": "99f003a5-5fe1-44ee-abac-e9eb46ecb041",
   "metadata": {},
   "source": [
    "## 정리\n",
    "\n",
    "이번 챕터에서는 이론으로만 배웠던 딥러닝을 실제로 구현해보았습니다. 그 결과, 지금까지 우리가 linear regression이나 logistic regression을 Grandient Descent 방식으로 학습시킨 코드와 그다지 다르지 않았습니다. 차이가 있다면 신경망 레이어를 여러 겹 쌓고, 그 사이 사이에 비선형 함수인 sigmoid를 끼워넣은 모델이라는 점입니다. 선형 레이어 사이 사이에 비선형성을 넣어준다는 점을 꼭 기억해주시고 넘어가시기 바랍니다."
   ]
  }
 ],
 "metadata": {
  "kernelspec": {
   "display_name": "Python 3 (ipykernel)",
   "language": "python",
   "name": "python3"
  },
  "language_info": {
   "codemirror_mode": {
    "name": "ipython",
    "version": 3
   },
   "file_extension": ".py",
   "mimetype": "text/x-python",
   "name": "python",
   "nbconvert_exporter": "python",
   "pygments_lexer": "ipython3",
   "version": "3.10.8"
  }
 },
 "nbformat": 4,
 "nbformat_minor": 5
}
