{
 "cells": [
  {
   "cell_type": "markdown",
   "id": "235d9381-3f3c-4dfe-a485-b4ef7aa497e4",
   "metadata": {},
   "source": [
    "## python 기본기 테스트 level 4\n",
    "\n",
    "타이타닉 탑승객들의 정보가 담겨있는 csv 파일이 주어집니다.  \n",
    "python 언어로 데이터 셋 파일을 읽고, 분석해봅시다!  \n",
    "간단한 시각화 자료도 만들어봅니다."
   ]
  },
  {
   "cell_type": "code",
   "execution_count": 1,
   "id": "a507a5e4-47bd-4c61-ad84-65400dc2ef74",
   "metadata": {},
   "outputs": [
    {
     "name": "stdout",
     "output_type": "stream",
     "text": [
      "Requirement already satisfied: matplotlib in /Users/user/miniconda3/lib/python3.10/site-packages (3.7.1)\n",
      "Requirement already satisfied: contourpy>=1.0.1 in /Users/user/miniconda3/lib/python3.10/site-packages (from matplotlib) (1.0.7)\n",
      "Requirement already satisfied: cycler>=0.10 in /Users/user/miniconda3/lib/python3.10/site-packages (from matplotlib) (0.11.0)\n",
      "Requirement already satisfied: fonttools>=4.22.0 in /Users/user/miniconda3/lib/python3.10/site-packages (from matplotlib) (4.39.2)\n",
      "Requirement already satisfied: kiwisolver>=1.0.1 in /Users/user/miniconda3/lib/python3.10/site-packages (from matplotlib) (1.4.4)\n",
      "Requirement already satisfied: numpy>=1.20 in /Users/user/miniconda3/lib/python3.10/site-packages (from matplotlib) (1.25.0)\n",
      "Requirement already satisfied: packaging>=20.0 in /Users/user/miniconda3/lib/python3.10/site-packages (from matplotlib) (22.0)\n",
      "Requirement already satisfied: pillow>=6.2.0 in /Users/user/miniconda3/lib/python3.10/site-packages (from matplotlib) (9.4.0)\n",
      "Requirement already satisfied: pyparsing>=2.3.1 in /Users/user/miniconda3/lib/python3.10/site-packages (from matplotlib) (3.0.9)\n",
      "Requirement already satisfied: python-dateutil>=2.7 in /Users/user/miniconda3/lib/python3.10/site-packages (from matplotlib) (2.8.2)\n",
      "Requirement already satisfied: six>=1.5 in /Users/user/miniconda3/lib/python3.10/site-packages (from python-dateutil>=2.7->matplotlib) (1.16.0)\n",
      "\n",
      "\u001b[1m[\u001b[0m\u001b[34;49mnotice\u001b[0m\u001b[1;39;49m]\u001b[0m\u001b[39;49m A new release of pip is available: \u001b[0m\u001b[31;49m23.1.2\u001b[0m\u001b[39;49m -> \u001b[0m\u001b[32;49m23.3.1\u001b[0m\n",
      "\u001b[1m[\u001b[0m\u001b[34;49mnotice\u001b[0m\u001b[1;39;49m]\u001b[0m\u001b[39;49m To update, run: \u001b[0m\u001b[32;49mpip install --upgrade pip\u001b[0m\n"
     ]
    }
   ],
   "source": [
    "!pip install matplotlib"
   ]
  },
  {
   "cell_type": "markdown",
   "id": "ae82fca8-3ffb-45c7-8dd4-d5d2afea74c6",
   "metadata": {},
   "source": [
    "### Q1. csv 파일 row 개수 읽기\n",
    "\n",
    "data 폴더 아래 위치한 titanic_train.csv 파일을 읽어온 뒤, 로우의 개수를 리턴하는 함수를 작성하세요.  \n",
    "컬럼명을 나타내는 로우는 제외하세요.  \n",
    "with 문과 open을 사용하고, for문, enumerate문을 사용하세요."
   ]
  },
  {
   "cell_type": "code",
   "execution_count": 39,
   "id": "5fe15214-ac09-4d60-a441-0c8938a67b32",
   "metadata": {},
   "outputs": [],
   "source": [
    "import csv\n",
    "\n",
    "def count_rows_cols(read_path):\n",
    "    num_rows = 0\n",
    "    with open(read_path) as fr:\n",
    "        reader = csv.reader(fr)\n",
    "        for i, row in enumerate(reader):\n",
    "            if i == 0:\n",
    "                continue\n",
    "            num_rows += 1\n",
    "    return num_rows "
   ]
  },
  {
   "cell_type": "code",
   "execution_count": 40,
   "id": "36e56683-f592-490e-990a-64307d37f9a1",
   "metadata": {},
   "outputs": [
    {
     "data": {
      "text/plain": [
       "891"
      ]
     },
     "execution_count": 40,
     "metadata": {},
     "output_type": "execute_result"
    }
   ],
   "source": [
    "count_rows_cols(\"./data/titanic_train.csv\")"
   ]
  },
  {
   "cell_type": "markdown",
   "id": "49f3df6a-d124-44ac-bd9c-0e799452adcb",
   "metadata": {},
   "source": [
    "### Q2. 각 등급별 생존율 계산하기\n",
    "\n",
    "파일 경로와 좌석 등급을 파라미터로 전달받는 calculate_survive_ratio 함수가 있습니다.  \n",
    "titanic_train.csv 파일을 읽어온 뒤, 파라미터로 전달받은 좌석의 생존율을 계산해서 리턴하세요."
   ]
  },
  {
   "cell_type": "code",
   "execution_count": 41,
   "id": "4af3cd40-b29a-4ca6-94a4-fa478022d6ad",
   "metadata": {},
   "outputs": [],
   "source": [
    "def calculate_survive_ratio(read_path, seat_class):\n",
    "    total = 0\n",
    "    survived = 0\n",
    "    with open(read_path) as fr:\n",
    "        reader = csv.reader(fr)\n",
    "        next(reader)\n",
    "        for row in reader:\n",
    "            is_survived = int(row[1])\n",
    "            pclass = int(row[2])\n",
    "            if pclass != seat_class:\n",
    "                continue\n",
    "            total += 1\n",
    "            if is_survived == 1:\n",
    "                survived += 1\n",
    "    return survived / total"
   ]
  },
  {
   "cell_type": "code",
   "execution_count": 42,
   "id": "2cb413cb-c0f1-40f8-93b0-8040919bffc9",
   "metadata": {},
   "outputs": [
    {
     "name": "stdout",
     "output_type": "stream",
     "text": [
      "0.6296296296296297\n",
      "0.47282608695652173\n",
      "0.24236252545824846\n"
     ]
    }
   ],
   "source": [
    "print(calculate_survive_ratio(\"./data/titanic_train.csv\", 1))\n",
    "print(calculate_survive_ratio(\"./data/titanic_train.csv\", 2))\n",
    "print(calculate_survive_ratio(\"./data/titanic_train.csv\", 3))"
   ]
  },
  {
   "cell_type": "markdown",
   "id": "b7799a8e-bc84-4166-986b-49678a28cb5f",
   "metadata": {},
   "source": [
    "### Q3. 전처리 후 새 데이터 파일 쓰기\n",
    "\n",
    "titanic_train.csv 파일을 읽은 뒤, Age 값이 비어있거나, 이상한 값(소수)이 들어있는 행을 제외한 행들을 preprocessed.csv라는 파일에 쓰세요.   \n",
    "preprocessed.csv의 첫 행은 컬럼명으로 채워주세요.  \n",
    "isnumeric 함수를 검색해서 용도를 파악하고 사용해보세요.  "
   ]
  },
  {
   "cell_type": "code",
   "execution_count": 43,
   "id": "f7e46a6b-ee5b-42d4-b4d7-2b40a56f8c44",
   "metadata": {},
   "outputs": [],
   "source": [
    "def write_preprocess_csv(read_path, write_path):\n",
    "    with open(read_path) as fr:\n",
    "        reader = csv.reader(fr)\n",
    "        with open(write_path, \"w\") as fw:\n",
    "            writer = csv.writer(fw)\n",
    "            for i, row in enumerate(reader):\n",
    "                if i == 0:\n",
    "                    writer.writerow(row)\n",
    "                    continue\n",
    "                age = row[5]\n",
    "                if not age or not age.isnumeric():\n",
    "                    continue\n",
    "                writer.writerow(row)"
   ]
  },
  {
   "cell_type": "code",
   "execution_count": 44,
   "id": "3eea3704-47cc-4b17-9982-6cf217435729",
   "metadata": {},
   "outputs": [
    {
     "name": "stdout",
     "output_type": "stream",
     "text": [
      "True\n",
      "False\n"
     ]
    }
   ],
   "source": [
    "sample_int = \"10\"\n",
    "print(sample_int.isnumeric())\n",
    "sample_float = \"10.5\"\n",
    "print(sample_float.isnumeric())"
   ]
  },
  {
   "cell_type": "code",
   "execution_count": 46,
   "id": "1ec43892-0fbe-4679-a6d6-e424d1816d3a",
   "metadata": {},
   "outputs": [
    {
     "data": {
      "text/plain": [
       "689"
      ]
     },
     "execution_count": 46,
     "metadata": {},
     "output_type": "execute_result"
    }
   ],
   "source": [
    "write_preprocess_csv(\"./data/titanic_train.csv\", \"./data/preprocessed_train.csv\")\n",
    "count_rows_cols(\"./data/preprocessed_train.csv\")"
   ]
  },
  {
   "cell_type": "markdown",
   "id": "db337fc2-d2ba-491b-a67f-78f3b5336d13",
   "metadata": {},
   "source": [
    "### Q4. 생존자 연령 평균 구하기\n",
    "\n",
    "읽어올 파일 경로, 생존 여부를 파라미터로 전달받는 함수가 있습니다.\n",
    "파일을 읽어온 뒤, 생존 여부에 따른 평균 연령을 계산해서 리턴하세요."
   ]
  },
  {
   "cell_type": "code",
   "execution_count": 60,
   "id": "d9e10c67-2e74-43ee-9d59-b4feaa7a70c5",
   "metadata": {},
   "outputs": [],
   "source": [
    "def calculate_average_age(read_path, is_survived):\n",
    "    ages = []\n",
    "    with open(read_path) as fr:\n",
    "        reader = csv.reader(fr)\n",
    "        next(reader)\n",
    "        for row in reader:\n",
    "            survived = int(row[1])\n",
    "            if survived != is_survived:\n",
    "                continue\n",
    "            age = int(row[5])\n",
    "            ages.append(age)\n",
    "    return sum(ages) / len(ages)"
   ]
  },
  {
   "cell_type": "code",
   "execution_count": 61,
   "id": "6f554282-6a6d-4426-aa3f-6ef351ebea71",
   "metadata": {},
   "outputs": [
    {
     "name": "stdout",
     "output_type": "stream",
     "text": [
      "생존자 평균 연령 29.01418439716312\n",
      "사망자 평균 연령 30.425061425061426\n"
     ]
    }
   ],
   "source": [
    "survivor_avg_age = calculate_average_age(\"./data/preprocessed.csv\", 1) \n",
    "unsurvivor_avg_age = calculate_average_age(\"./data/preprocessed.csv\", 0) \n",
    "print(\"생존자 평균 연령\", survivor_avg_age)\n",
    "print(\"사망자 평균 연령\", unsurvivor_avg_age)"
   ]
  },
  {
   "cell_type": "markdown",
   "id": "c6e52e3a-5483-451c-af5b-97f118ba0abb",
   "metadata": {},
   "source": [
    "### Q5. 생존자 성별 비율 구하기\n",
    "\n",
    "읽어올 파일 경로, 생존 여부를 파라미터로 전달받는 함수가 있습니다.  \n",
    "파일을 읽어온 뒤, 생존 여부에 따른 여성의 비율을 계산해서 리턴하세요. "
   ]
  },
  {
   "cell_type": "code",
   "execution_count": 73,
   "id": "ec96ea69-9083-4970-b265-011dfe6a9581",
   "metadata": {},
   "outputs": [],
   "source": [
    "def calculate_female_ratio(read_path, is_survived):\n",
    "    total = 0\n",
    "    female = 0\n",
    "    with open(read_path) as fr:\n",
    "        reader = csv.reader(fr)\n",
    "        next(reader)\n",
    "        for row in reader:\n",
    "            survived = int(row[1])\n",
    "            if survived != is_survived:\n",
    "                continue\n",
    "            total += 1\n",
    "            sex =  row[4]\n",
    "            if sex == \"female\":\n",
    "                female += 1\n",
    "    return female / total"
   ]
  },
  {
   "cell_type": "code",
   "execution_count": 74,
   "id": "da45f581-34c4-4890-af50-93b044672a30",
   "metadata": {},
   "outputs": [
    {
     "name": "stdout",
     "output_type": "stream",
     "text": [
      "생존자 여성 비율 0.6879432624113475\n",
      "사망자 여성 비율 0.15233415233415235\n"
     ]
    }
   ],
   "source": [
    "survivor_female_ratio = calculate_female_ratio(\"./data/preprocessed_train.csv\", is_survived=1)\n",
    "unsurvivor_female_ratio = calculate_female_ratio(\"./data/preprocessed_train.csv\", is_survived=0)\n",
    "print(\"생존자 여성 비율\", survivor_female_ratio)\n",
    "print(\"사망자 여성 비율\", unsurvivor_female_ratio)"
   ]
  },
  {
   "cell_type": "markdown",
   "id": "84526cdd-5f4c-4174-acf7-3fa5792b2b98",
   "metadata": {},
   "source": [
    "### Q6. 히스토그램 그려보기\n",
    "\n",
    "히스토그램은 자료를 구간별로 나눠서 빈도 수를 측정한 뒤에 시각화하는 가장 기본적인 데이터 시각화 기법입니다.  \n",
    "생존자와 사망자가 지불한 운임을 각각 히스토그램으로 그려보겠습니다.  \n",
    "\n",
    "먼저 파일 경로와 생존 여부를 파라미터로 전달받으면 조건에 맞는 탑승객들이 지불한 운임을 리턴하는 함수를 작성해보세요."
   ]
  },
  {
   "cell_type": "code",
   "execution_count": 3,
   "id": "32bed902-ed0e-499f-a20a-70b3911f7328",
   "metadata": {},
   "outputs": [],
   "source": [
    "import csv\n",
    "import seaborn as sns\n",
    "\n",
    "def get_fare_list(read_path, is_survived):\n",
    "    fare_list = []\n",
    "    with open(read_path) as fr:\n",
    "        reader = csv.reader(fr)\n",
    "        next(reader)\n",
    "        for row in reader:\n",
    "            survived = int(row[1])\n",
    "            if survived != is_survived:\n",
    "                continue\n",
    "            fare = float(row[9])\n",
    "            fare_list.append(fare) \n",
    "    return fare_list"
   ]
  },
  {
   "cell_type": "code",
   "execution_count": 4,
   "id": "dd8c4780-8383-4c0e-ad08-7d85c6cbfa8a",
   "metadata": {},
   "outputs": [],
   "source": [
    "survivor_fare_list = get_fare_list(\"./data/preprocessed_train.csv\", is_survived=1) \n",
    "unsurvivor_fare_list = get_fare_list(\"./data/preprocessed_train.csv\", is_survived=0) "
   ]
  },
  {
   "cell_type": "code",
   "execution_count": 5,
   "id": "b07fd0fc-5100-4bc2-9f9b-8527d3c96c35",
   "metadata": {},
   "outputs": [
    {
     "name": "stdout",
     "output_type": "stream",
     "text": [
      "282 [71.2833, 7.925, 53.1, 11.1333, 30.0708]\n",
      "407 [7.25, 8.05, 51.8625, 21.075, 8.05]\n"
     ]
    }
   ],
   "source": [
    "print(len(survivor_fare_list), survivor_fare_list[:5])\n",
    "print(len(unsurvivor_fare_list), unsurvivor_fare_list[:5])"
   ]
  },
  {
   "cell_type": "markdown",
   "id": "d27643c1-8a40-42c3-a34e-1ee2fae3b62a",
   "metadata": {},
   "source": [
    "그 다음 아래 코드를 실행해서 히스토그램을 그려보겠습니다.  \n",
    "시각화와 관련해서는 따로 자세히 배워보는 시간을 갖겠습니다.  "
   ]
  },
  {
   "cell_type": "code",
   "execution_count": 8,
   "id": "37aa8dd5-874f-47e4-a3e1-2913bee6aa70",
   "metadata": {},
   "outputs": [
    {
     "data": {
      "text/plain": [
       "<Axes: ylabel='Count'>"
      ]
     },
     "execution_count": 8,
     "metadata": {},
     "output_type": "execute_result"
    },
    {
     "data": {
      "image/png": "[encoded data removed]",
      "text/plain": [
       "<Figure size 640x480 with 1 Axes>"
      ]
     },
     "metadata": {},
     "output_type": "display_data"
    }
   ],
   "source": [
    "fare_bins = [x for x in range(0, 300, 5)]\n",
    "sns.histplot(\n",
    "    data=survivor_fare_list,\n",
    "    bins=fare_bins\n",
    ")"
   ]
  },
  {
   "cell_type": "code",
   "execution_count": 9,
   "id": "88859e6f-9fce-4137-af0a-103c880ce8c5",
   "metadata": {},
   "outputs": [
    {
     "data": {
      "text/plain": [
       "<Axes: ylabel='Count'>"
      ]
     },
     "execution_count": 9,
     "metadata": {},
     "output_type": "execute_result"
    },
    {
     "data": {
      "image/png": "[encoded data removed]",
      "text/plain": [
       "<Figure size 640x480 with 1 Axes>"
      ]
     },
     "metadata": {},
     "output_type": "display_data"
    }
   ],
   "source": [
    "sns.histplot(\n",
    "    data=unsurvivor_fare_list,\n",
    "    bins=fare_bins\n",
    ")"
   ]
  },
  {
   "cell_type": "markdown",
   "id": "7d9ed551-8eab-4e2a-a071-868fced0e90f",
   "metadata": {},
   "source": [
    "### Q7. 생존 여부 별 나이 히스토그램 그려보기\n",
    "\n",
    "비슷하게 생존 여부에 따른 나이의 분포 히스토그램도 그려보겠습니다.  \n",
    "먼저 파일 경로와 생존 여부를 전달받으면 나이 리스트를 리턴하는 함수를 작성하겠습니다."
   ]
  },
  {
   "cell_type": "code",
   "execution_count": 10,
   "id": "fe4d281b-5dbb-4fda-90ac-9350ce72f2de",
   "metadata": {},
   "outputs": [],
   "source": [
    "def get_age_list(read_path, is_survived):\n",
    "    age_list = []\n",
    "    with open(read_path) as fr:\n",
    "        reader = csv.reader(fr)\n",
    "        next(reader)\n",
    "        for row in reader:\n",
    "            survived = int(row[1])\n",
    "            if survived != is_survived:\n",
    "                continue\n",
    "            age = int(row[5])\n",
    "            age_list.append(age) \n",
    "    return age_list "
   ]
  },
  {
   "cell_type": "code",
   "execution_count": 13,
   "id": "ad50e7c8-3da8-4827-9950-64970b52a411",
   "metadata": {},
   "outputs": [
    {
     "name": "stdout",
     "output_type": "stream",
     "text": [
      "282 [38, 26, 35, 27, 14]\n",
      "407 [22, 35, 54, 2, 20]\n"
     ]
    }
   ],
   "source": [
    "survivor_age_list = get_age_list(\"./data/preprocessed_train.csv\", is_survived=1) \n",
    "unsurvivor_age_list = get_age_list(\"./data/preprocessed_train.csv\", is_survived=0) \n",
    "print(len(survivor_age_list), survivor_age_list[:5])\n",
    "print(len(unsurvivor_age_list), unsurvivor_age_list[:5])"
   ]
  },
  {
   "cell_type": "code",
   "execution_count": 16,
   "id": "1cc34761-1d60-4650-a5ee-992413d662bf",
   "metadata": {},
   "outputs": [
    {
     "data": {
      "text/plain": [
       "<Axes: ylabel='Count'>"
      ]
     },
     "execution_count": 16,
     "metadata": {},
     "output_type": "execute_result"
    },
    {
     "data": {
      "image/png": "[encoded data removed]",
      "text/plain": [
       "<Figure size 640x480 with 1 Axes>"
      ]
     },
     "metadata": {},
     "output_type": "display_data"
    }
   ],
   "source": [
    "from matplotlib import pyplot as plt\n",
    "\n",
    "age_bins = [x for x in range(0, 100, 5)]\n",
    "sns.histplot(\n",
    "    data=survivor_age_list,\n",
    "    bins=age_bins\n",
    ")\n",
    "sns.histplot(\n",
    "    data=unsurvivor_age_list,\n",
    "    bins=age_bins\n",
    ")"
   ]
  },
  {
   "cell_type": "markdown",
   "id": "5400d2e7-a641-4db8-a4c4-65b692043961",
   "metadata": {},
   "source": [
    "### Q8. 자유 데이터 분석\n",
    "\n",
    "여기까지 다하셨다면 이제 자유롭게 데이터 분석을 하면서 생존 여부에 영향을 미친 요소를 파악해보세요."
   ]
  },
  {
   "cell_type": "code",
   "execution_count": null,
   "id": "abbfa271-c9cb-47e9-abe3-3ca4b30d03f1",
   "metadata": {},
   "outputs": [],
   "source": []
  }
 ],
 "metadata": {
  "kernelspec": {
   "display_name": "Python 3 (ipykernel)",
   "language": "python",
   "name": "python3"
  },
  "language_info": {
   "codemirror_mode": {
    "name": "ipython",
    "version": 3
   },
   "file_extension": ".py",
   "mimetype": "text/x-python",
   "name": "python",
   "nbconvert_exporter": "python",
   "pygments_lexer": "ipython3",
   "version": "3.10.8"
  }
 },
 "nbformat": 4,
 "nbformat_minor": 5
}
