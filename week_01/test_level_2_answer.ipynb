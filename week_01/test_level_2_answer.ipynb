{
 "cells": [
  {
   "cell_type": "markdown",
   "id": "fde933d9-a556-4dc1-a650-6c9e86f179ab",
   "metadata": {},
   "source": [
    "## python 기본기 테스트 level \n",
    "\n",
    "본격적으로 수업을 진행하기에 앞서서 python 문법을 어느정도 숙지했는지 점검해보겠습니다.  \n",
    "너무 부담감을 느끼지 마시고, 천천히 풀 수 있는 만큼 풀어주시면 되겠습니다."
   ]
  },
  {
   "cell_type": "markdown",
   "id": "3bf12cb4-f199-470d-8f24-46776e74ea03",
   "metadata": {},
   "source": [
    "### Q1. 배열을 딕셔너리로 변경하기\n",
    "과일 이름들이 배열 안에 들어 있습니다. 과일 이름을 key로 가지고, 과일의 개수를 value로 갖는 딕셔너리를 만들어보세요. for문을 사용하세요."
   ]
  },
  {
   "cell_type": "code",
   "execution_count": 2,
   "id": "16c524f6-6b43-41e3-b402-a3c70b68f5dd",
   "metadata": {},
   "outputs": [],
   "source": [
    "fruits = [\n",
    "    '수박', '메론', '당근', '수박', '메론', '수박', '메론', '수박', '메론', '당근', \n",
    "    '메론', '수박', '메론', '메론', '딸기', '메론', '딸기', '딸기', '수박', '딸기', \n",
    "    '참외', '수박', '딸기', '메론', '메론', '참외', '당근'\n",
    "] "
   ]
  },
  {
   "cell_type": "code",
   "execution_count": 3,
   "id": "b7767f09-4429-449e-aad0-708290353798",
   "metadata": {},
   "outputs": [],
   "source": [
    "fruit_dict = {}\n",
    "\n",
    "for fruit in fruits:\n",
    "    if fruit in fruit_dict:\n",
    "        fruit_dict[fruit] += 1\n",
    "    else:\n",
    "        fruit_dict[fruit] = 1"
   ]
  },
  {
   "cell_type": "code",
   "execution_count": 4,
   "id": "f5833bec-fe96-4328-a70b-19f94d335e37",
   "metadata": {},
   "outputs": [
    {
     "data": {
      "text/plain": [
       "{'수박': 7, '메론': 10, '당근': 3, '딸기': 5, '참외': 2}"
      ]
     },
     "execution_count": 4,
     "metadata": {},
     "output_type": "execute_result"
    }
   ],
   "source": [
    "fruit_dict"
   ]
  },
  {
   "cell_type": "markdown",
   "id": "8e085df2-0faf-43bc-83f8-e170879f8140",
   "metadata": {},
   "source": [
    "### Q2. for문을 사용해서 딕셔너리 순회하기\n",
    "\n",
    "수박, 딸기, 참외 개수의 총합을 구해보세요. dictionary.itmes()와 for문, 비구조 할당을 사용해보세요"
   ]
  },
  {
   "cell_type": "code",
   "execution_count": 5,
   "id": "63e7e496-d281-42c4-b1f0-f99b027471bf",
   "metadata": {},
   "outputs": [
    {
     "name": "stdout",
     "output_type": "stream",
     "text": [
      "total_count 14\n"
     ]
    }
   ],
   "source": [
    "total_count = 0\n",
    "for fruit, count in fruit_dict.items():\n",
    "    if fruit in [\"수박\", \"딸기\", \"참외\"]:\n",
    "        total_count += count \n",
    "print(\"total_count\", total_count)"
   ]
  },
  {
   "cell_type": "markdown",
   "id": "6d26516b-2abb-4e4c-baf8-3f3ad138a4d4",
   "metadata": {},
   "source": [
    "### Q3. 딕셔너리의 값 업데이트 하기\n",
    "손님들이 와서 메론을 1개, 참외를 2개 사갔습니다. 이를 딕셔너리에 반영하세요.   \n",
    "개수가 0개가되어 팔 수 없는 과일은 딕셔너리에서 삭제하세요. 삭제할 때에는 del 키워드를 사용해보세요."
   ]
  },
  {
   "cell_type": "code",
   "execution_count": 6,
   "id": "03fb91b6-f79f-4505-81ce-c27d6c6dcc87",
   "metadata": {},
   "outputs": [
    {
     "name": "stdout",
     "output_type": "stream",
     "text": [
      "{'수박': 7, '메론': 9, '당근': 3, '딸기': 5}\n"
     ]
    }
   ],
   "source": [
    "fruit_dict[\"메론\"] -= 1\n",
    "fruit_dict[\"참외\"] -= 2\n",
    "\n",
    "if fruit_dict[\"메론\"] == 0:\n",
    "    del fruit_dict[\"메론\"]\n",
    "if fruit_dict[\"참외\"] == 0:\n",
    "    del fruit_dict[\"참외\"]\n",
    "print(fruit_dict)"
   ]
  },
  {
   "cell_type": "markdown",
   "id": "ef4e5720-dbdb-4966-97f0-4248dbe9f227",
   "metadata": {},
   "source": [
    "### Q4. 딕셔너리에 새로운 키 추가하기\n",
    "과일 가게에 새로운 열대 과일들이 들어왔습니다. 망고 6개, 파파야 2개를 추가해주세요"
   ]
  },
  {
   "cell_type": "code",
   "execution_count": 7,
   "id": "05f7fa15-de63-4cfc-a7e3-205eb7a2e4a0",
   "metadata": {},
   "outputs": [],
   "source": [
    "fruit_dict[\"망고\"] = 6\n",
    "fruit_dict[\"파파야\"] = 2"
   ]
  },
  {
   "cell_type": "markdown",
   "id": "d14c1115-5007-49d5-a6f2-4b4714b806c7",
   "metadata": {},
   "source": [
    "### Q5. 딕셔너리 순회하며 값 출력하기 \n",
    "과일 메뉴판을 만들겠습니다. for문과 dictionary items 문을 사용해서 과일 가게에서 현재 살 수 있는 과일 이름과 수량을 출력해보세요"
   ]
  },
  {
   "cell_type": "code",
   "execution_count": 8,
   "id": "757f76c0-3e2c-4d49-b842-4f037accc035",
   "metadata": {},
   "outputs": [
    {
     "name": "stdout",
     "output_type": "stream",
     "text": [
      "과일 이름: 수박 \t개수: 7\n",
      "과일 이름: 메론 \t개수: 9\n",
      "과일 이름: 당근 \t개수: 3\n",
      "과일 이름: 딸기 \t개수: 5\n",
      "과일 이름: 망고 \t개수: 6\n",
      "과일 이름: 파파야 \t개수: 2\n"
     ]
    }
   ],
   "source": [
    "for fruit, count in fruit_dict.items():\n",
    "    print(\"과일 이름:\", fruit, \"\\t개수:\", count)"
   ]
  },
  {
   "cell_type": "markdown",
   "id": "6670e794-559e-4f61-9a53-3a3dd89550c5",
   "metadata": {},
   "source": [
    "### Q6. 조건문 사용하기 \n",
    "손님이 사고 싶은 과일과 수량을 말하면 지불해야할 금액을 출력하는 코드를 작성하세요.  \n",
    "이때, 사고 싶은 과일의 종류와 수량을 input 키워드를 사용해서 입력받으세요.   \n",
    "if else 문을 사용해서 과일을 팔 수 있는지 여부를 출력하세요.  \n",
    "가게에 없는 과일이거나, 수량이 부족할 경우 팔 수 없다고 출력하세요."
   ]
  },
  {
   "cell_type": "code",
   "execution_count": 9,
   "id": "db7d8b26-7516-4fa5-a4f8-6422784ea0b0",
   "metadata": {},
   "outputs": [],
   "source": [
    "fruit_price = {\n",
    "    \"딸기\": 10000,\n",
    "    \"당근\": 1500,\n",
    "    \"수박\": 12000,\n",
    "    \"참외\": 6000,\n",
    "    \"메론\": 20000,\n",
    "    \"망고\": 9800,\n",
    "    \"파파야\": 2500\n",
    "}"
   ]
  },
  {
   "cell_type": "code",
   "execution_count": 12,
   "id": "beeb37e9-691f-4e1f-92ac-918deb65abf1",
   "metadata": {},
   "outputs": [
    {
     "name": "stdin",
     "output_type": "stream",
     "text": [
      "무슨 과일을 사고 싶으신가요? 수박\n",
      "얼마나 사고 싶으신가요? 2\n"
     ]
    },
    {
     "name": "stdout",
     "output_type": "stream",
     "text": [
      "가격이 총 24000원 입니다.\n"
     ]
    }
   ],
   "source": [
    "order_fruit = input(\"무슨 과일을 사고 싶으신가요?\") \n",
    "order_count = int(input(\"얼마나 사고 싶으신가요?\"))\n",
    "\n",
    "if order_fruit not in fruit_dict:\n",
    "    print(\"팔 수 없는 과일입니다.\")\n",
    "elif fruit_dict[order_fruit] < order_count:\n",
    "    print(\"수량이 부족합니다.\")\n",
    "else:\n",
    "    print(f\"가격이 총 {fruit_price[order_fruit] * order_count}원 입니다.\")"
   ]
  },
  {
   "cell_type": "code",
   "execution_count": null,
   "id": "eb188b14-0abd-4372-af5d-15d916659d68",
   "metadata": {},
   "outputs": [],
   "source": []
  }
 ],
 "metadata": {
  "kernelspec": {
   "display_name": "Python 3 (ipykernel)",
   "language": "python",
   "name": "python3"
  },
  "language_info": {
   "codemirror_mode": {
    "name": "ipython",
    "version": 3
   },
   "file_extension": ".py",
   "mimetype": "text/x-python",
   "name": "python",
   "nbconvert_exporter": "python",
   "pygments_lexer": "ipython3",
   "version": "3.10.8"
  }
 },
 "nbformat": 4,
 "nbformat_minor": 5
}
