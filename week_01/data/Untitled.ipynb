{
 "cells": [
  {
   "cell_type": "code",
   "execution_count": 7,
   "id": "95692d48-3c2b-4657-8102-1ca4d426125d",
   "metadata": {},
   "outputs": [],
   "source": [
    "def print_pyramid(level):\n",
    "    for i in range(level):\n",
    "        print(\"*\" * (i+1))"
   ]
  },
  {
   "cell_type": "code",
   "execution_count": 11,
   "id": "c4b1b12b-0ece-4454-8fcc-1bf572214736",
   "metadata": {},
   "outputs": [
    {
     "name": "stdout",
     "output_type": "stream",
     "text": [
      "*\n",
      "**\n",
      "***\n",
      "****\n",
      "*****\n",
      "******\n",
      "*******\n",
      "********\n",
      "*********\n",
      "**********\n"
     ]
    }
   ],
   "source": [
    "print_pyramid(10)"
   ]
  },
  {
   "cell_type": "code",
   "execution_count": 26,
   "id": "e0e9eeda-abb9-4561-ad82-77ad034df115",
   "metadata": {},
   "outputs": [],
   "source": [
    "def print_pyramid(level):\n",
    "    for i in range(level):\n",
    "        print(\"*\" * (i + 1))"
   ]
  },
  {
   "cell_type": "code",
   "execution_count": 27,
   "id": "7ebec404-7d28-4823-b55d-4d9f06d8233e",
   "metadata": {},
   "outputs": [
    {
     "name": "stdout",
     "output_type": "stream",
     "text": [
      "*\n",
      "**\n",
      "***\n",
      "****\n",
      "*****\n",
      "******\n",
      "*******\n",
      "********\n",
      "*********\n",
      "**********\n"
     ]
    }
   ],
   "source": [
    "print_pyramid(10)"
   ]
  },
  {
   "cell_type": "code",
   "execution_count": 30,
   "id": "45769dd3-cfec-41a7-bd03-1024e10f3b2f",
   "metadata": {},
   "outputs": [],
   "source": [
    "def print_tree(height):\n",
    "    for i in range(height):\n",
    "        whitespace = \" \" * (height - i - 1)\n",
    "        stars = \"*\" * (i)\n",
    "        print(f\"{whitespace}{stars}*{stars}{whitespace}\")"
   ]
  },
  {
   "cell_type": "code",
   "execution_count": 36,
   "id": "15cacdaa-831e-425c-98be-d3100dbbb7a6",
   "metadata": {},
   "outputs": [
    {
     "name": "stdout",
     "output_type": "stream",
     "text": [
      "    *    \n",
      "   ***   \n",
      "  *****  \n",
      " ******* \n",
      "*********\n"
     ]
    }
   ],
   "source": [
    "print_tree(5)"
   ]
  },
  {
   "cell_type": "code",
   "execution_count": 37,
   "id": "578bba87-5ef9-4c02-bc5b-6202a9af8bbd",
   "metadata": {},
   "outputs": [],
   "source": [
    "# 5를 전달받았을 때 1 3 5 7 9\n",
    "# 7을 전달받으면 1 3 5 7 9 11\n",
    "# 별 개수로 바꿔준다.\n",
    "# 트리 모양이 되도록 공백을 추가한다. \n",
    "def print_tree(level):\n",
    "    print(level)"
   ]
  },
  {
   "cell_type": "code",
   "execution_count": 38,
   "id": "489b0621-1964-43ba-9472-3d6c26d5f01a",
   "metadata": {},
   "outputs": [
    {
     "name": "stdout",
     "output_type": "stream",
     "text": [
      "5\n"
     ]
    }
   ],
   "source": [
    "print_tree(5)"
   ]
  },
  {
   "cell_type": "code",
   "execution_count": null,
   "id": "2cd29613-d751-4f55-a991-e49994fd9cb6",
   "metadata": {},
   "outputs": [],
   "source": []
  }
 ],
 "metadata": {
  "kernelspec": {
   "display_name": "Python 3 (ipykernel)",
   "language": "python",
   "name": "python3"
  },
  "language_info": {
   "codemirror_mode": {
    "name": "ipython",
    "version": 3
   },
   "file_extension": ".py",
   "mimetype": "text/x-python",
   "name": "python",
   "nbconvert_exporter": "python",
   "pygments_lexer": "ipython3",
   "version": "3.10.8"
  }
 },
 "nbformat": 4,
 "nbformat_minor": 5
}
