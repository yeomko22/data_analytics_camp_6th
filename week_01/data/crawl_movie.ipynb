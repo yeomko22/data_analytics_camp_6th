{
 "cells": [
  {
   "cell_type": "code",
   "execution_count": null,
   "id": "cb8b0e18-6ab2-4ad9-84a2-98a4c86e920d",
   "metadata": {},
   "outputs": [],
   "source": [
    "!pip install requests"
   ]
  },
  {
   "cell_type": "code",
   "execution_count": 20,
   "id": "38413742-9299-4437-abf5-966fee25d78a",
   "metadata": {},
   "outputs": [],
   "source": [
    "import matplotlib.pyplot as plt\n",
    "import matplotlib.font_manager as fm\n",
    "\n",
    "# 나눔글꼴 경로 설정\n",
    "font_path = './NanumGothic.otf'\n",
    "font_name = fm.FontProperties(fname=font_path).get_name()\n",
    "plt.rc('font', family=font_name)"
   ]
  },
  {
   "cell_type": "code",
   "execution_count": 22,
   "id": "68d37e75-5b34-4cd7-8dd3-c17539823ffd",
   "metadata": {},
   "outputs": [
    {
     "data": {
      "text/plain": [
       "Text(0.5, 1.0, '안녕하세요')"
      ]
     },
     "execution_count": 22,
     "metadata": {},
     "output_type": "execute_result"
    },
    {
     "data": {
      "image/png": "[encoded data removed]",
      "text/plain": [
       "<Figure size 640x480 with 1 Axes>"
      ]
     },
     "metadata": {},
     "output_type": "display_data"
    }
   ],
   "source": [
    "data = [1, 2, 3, 4]\n",
    "plt.plot(data)\n",
    "plt.title(\"안녕하세요\")"
   ]
  },
  {
   "cell_type": "code",
   "execution_count": 1,
   "id": "a7649ec8-fdb7-4027-8838-47ca812f1dd2",
   "metadata": {},
   "outputs": [],
   "source": [
    "import requests"
   ]
  },
  {
   "cell_type": "code",
   "execution_count": 67,
   "id": "bab12cb0-b457-4a46-b5b5-1211dac38be5",
   "metadata": {},
   "outputs": [],
   "source": [
    "movie_name_list = [\n",
    "    '명량', '극한직업', '신과함께-죄와 벌', '국제시장', '어벤져스: 엔드게임', '겨울왕국 2', '아바타', '베테랑',\n",
    "     '괴물', '도둑들', '7번방의 선물', '암살', '알라딘', '광해, 왕이 된 남자', '왕의 남자', '신과함께-인과 연', '택시운전사', '태극기 휘날리며',\n",
    "     '부산행', '해운대', '변호인', '어벤져스: 인피니티 워', '실미도', '어벤져스: 에이지 오브 울트론', '기생충', '겨울왕국', '인터스텔라', '보헤미안 랩소디',\n",
    "     '검사외전', '엑시트', '관상', '아이언맨 3', '설국열차', '캡틴 아메리카: 시빌 워', '수상한 그녀', '해적: 바다로 간 산적', '국가대표', '디워',\n",
    "     '백두산', '과속스캔들', '스파이더맨: 파 프롬 홈', '웰컴 투 동막골', '공조', '트랜스포머 3', '히말라야', '미션임파서블:고스트프로토콜',\n",
    "     '트랜스포머: 패자의 역습', '밀정', '최종병기 활', '트랜스포머'\n",
    "]"
   ]
  },
  {
   "cell_type": "code",
   "execution_count": 58,
   "id": "771c6c6b-8d58-425e-ac4d-a1c0a0c95f92",
   "metadata": {},
   "outputs": [],
   "source": [
    "sample_url = \"https://search.naver.com/search.naver?query=영화 알라딘\"\n",
    "response = requests.get(sample_url) \n",
    "soup = BeautifulSoup(response.text, 'lxml')"
   ]
  },
  {
   "cell_type": "code",
   "execution_count": 62,
   "id": "27fb1c7b-21d9-40ee-995c-742d3c8d09bb",
   "metadata": {},
   "outputs": [
    {
     "data": {
      "text/plain": [
       "'%EC%98%81%ED%99%94%20%EC%95%8C%EB%9D%BC%EB%94%98%20%EC%A0%95%EB%B3%B4'"
      ]
     },
     "execution_count": 62,
     "metadata": {},
     "output_type": "execute_result"
    }
   ],
   "source": [
    "soup.find(\"ul\", class_=\"tab_list\").find_all(\"li\")[1].find(\"a\").get(\"href\").split(\"&query=\")[-1]"
   ]
  },
  {
   "cell_type": "code",
   "execution_count": 73,
   "id": "ab271a7b-51cb-443d-8ecf-da263887f6bb",
   "metadata": {},
   "outputs": [
    {
     "name": "stdout",
     "output_type": "stream",
     "text": [
      "명량 %EC%98%81%ED%99%94%20%EB%AA%85%EB%9F%89%20%EC%A0%95%EB%B3%B4\n",
      "극한직업 %EC%98%81%ED%99%94%20%EA%B7%B9%ED%95%9C%EC%A7%81%EC%97%85%20%EC%A0%95%EB%B3%B4\n",
      "신과함께-죄와 벌 %EC%8B%A0%EA%B3%BC%ED%95%A8%EA%BB%98-%EC%A3%84%EC%99%80%20%EB%B2%8C%20%EC%A0%95%EB%B3%B4\n",
      "국제시장 %EC%98%81%ED%99%94%20%EA%B5%AD%EC%A0%9C%EC%8B%9C%EC%9E%A5%20%EC%A0%95%EB%B3%B4\n",
      "어벤져스: 엔드게임 %EC%96%B4%EB%B2%A4%EC%A0%B8%EC%8A%A4%3A%20%EC%97%94%EB%93%9C%EA%B2%8C%EC%9E%84%20%EC%A0%95%EB%B3%B4\n",
      "겨울왕국 2 %EA%B2%A8%EC%9A%B8%EC%99%95%EA%B5%AD%202%20%EC%A0%95%EB%B3%B4\n",
      "아바타 %EC%95%84%EB%B0%94%ED%83%80%3A%20%EB%AC%BC%EC%9D%98%20%EA%B8%B8%20%EC%A0%95%EB%B3%B4\n",
      "베테랑 %EB%B2%A0%ED%85%8C%EB%9E%91%201%20%EC%A0%95%EB%B3%B4\n",
      "괴물 %EC%98%81%ED%99%94%20%EA%B4%B4%EB%AC%BC%20%EC%A0%95%EB%B3%B4\n",
      "도둑들 %EB%8F%84%EB%91%91%EB%93%A4%20%EC%A0%95%EB%B3%B4\n",
      "7번방의 선물 %EC%98%81%ED%99%94%207%EB%B2%88%EB%B0%A9%EC%9D%98%20%EC%84%A0%EB%AC%BC%20%EC%A0%95%EB%B3%B4\n",
      "암살 %EC%98%81%ED%99%94%20%EC%95%94%EC%82%B4%20%EC%A0%95%EB%B3%B4\n",
      "알라딘 %EC%98%81%ED%99%94%20%EC%95%8C%EB%9D%BC%EB%94%98%20%EC%A0%95%EB%B3%B4\n",
      "광해, 왕이 된 남자 %EA%B4%91%ED%95%B4%2C%20%EC%99%95%EC%9D%B4%20%EB%90%9C%20%EB%82%A8%EC%9E%90%20%EC%A0%95%EB%B3%B4\n",
      "왕의 남자 %EC%98%81%ED%99%94%20%EC%99%95%EC%9D%98%20%EB%82%A8%EC%9E%90%20%EC%A0%95%EB%B3%B4\n",
      "신과함께-인과 연 %EC%8B%A0%EA%B3%BC%ED%95%A8%EA%BB%98-%EC%9D%B8%EA%B3%BC%20%EC%97%B0%20%EC%A0%95%EB%B3%B4\n",
      "택시운전사 %EC%98%81%ED%99%94%20%ED%83%9D%EC%8B%9C%EC%9A%B4%EC%A0%84%EC%82%AC%20%EC%A0%95%EB%B3%B4\n",
      "태극기 휘날리며 %EC%98%81%ED%99%94%20%ED%83%9C%EA%B7%B9%EA%B8%B0%20%ED%9C%98%EB%82%A0%EB%A6%AC%EB%A9%B0%20%EC%A0%95%EB%B3%B4\n",
      "부산행 %EC%98%81%ED%99%94%20%EB%B0%98%EB%8F%84%20%EC%A0%95%EB%B3%B4\n",
      "해운대 %EC%98%81%ED%99%94%20%ED%95%B4%EC%9A%B4%EB%8C%80%20%EC%A0%95%EB%B3%B4\n",
      "변호인 %EC%98%81%ED%99%94%20%EB%B3%80%ED%98%B8%EC%9D%B8%20%EC%A0%95%EB%B3%B4\n",
      "어벤져스: 인피니티 워 %EC%96%B4%EB%B2%A4%EC%A0%B8%EC%8A%A4%3A%20%EC%9D%B8%ED%94%BC%EB%8B%88%ED%8B%B0%20%EC%9B%8C%20%EC%A0%95%EB%B3%B4\n",
      "실미도 %EC%98%81%ED%99%94%20%EC%8B%A4%EB%AF%B8%EB%8F%84%20%EC%A0%95%EB%B3%B4\n",
      "어벤져스: 에이지 오브 울트론 %EC%96%B4%EB%B2%A4%EC%A0%B8%EC%8A%A4%3A%20%EC%97%90%EC%9D%B4%EC%A7%80%20%EC%98%A4%EB%B8%8C%20%EC%9A%B8%ED%8A%B8%EB%A1%A0%20%EC%A0%95%EB%B3%B4\n",
      "기생충 %EC%98%81%ED%99%94%20%EA%B8%B0%EC%83%9D%EC%B6%A9%20%EC%A0%95%EB%B3%B4\n",
      "겨울왕국 %EC%98%AC%EB%9D%BC%ED%94%84%EC%9D%98%20%EA%B2%A8%EC%9A%B8%EC%99%95%EA%B5%AD%20%EC%96%B4%EB%93%9C%EB%B2%A4%EC%B2%98%20%EC%A0%95%EB%B3%B4\n",
      "인터스텔라 %EC%9D%B8%ED%84%B0%EC%8A%A4%ED%85%94%EB%9D%BC%20%EC%A0%95%EB%B3%B4\n",
      "보헤미안 랩소디 %EC%98%81%ED%99%94%20%EB%B3%B4%ED%97%A4%EB%AF%B8%EC%95%88%20%EB%9E%A9%EC%86%8C%EB%94%94%20%EC%A0%95%EB%B3%B4\n",
      "검사외전 %EA%B2%80%EC%82%AC%EC%99%B8%EC%A0%84%20%EC%A0%95%EB%B3%B4\n",
      "엑시트 %EC%98%81%ED%99%94%20%EC%97%91%EC%8B%9C%ED%8A%B8%20%EC%A0%95%EB%B3%B4\n",
      "관상 %EC%98%81%ED%99%94%20%EA%B4%80%EC%83%81%20%EC%A0%95%EB%B3%B4\n",
      "아이언맨 3 %EC%95%84%EC%9D%B4%EC%96%B8%EB%A7%A8%203%20%EC%A0%95%EB%B3%B4\n",
      "설국열차 %EC%98%81%ED%99%94%20%EC%84%A4%EA%B5%AD%EC%97%B4%EC%B0%A8%20%EC%A0%95%EB%B3%B4\n",
      "캡틴 아메리카: 시빌 워 %EC%BA%A1%ED%8B%B4%20%EC%95%84%EB%A9%94%EB%A6%AC%EC%B9%B4%3A%20%EC%8B%9C%EB%B9%8C%20%EC%9B%8C%20%EC%A0%95%EB%B3%B4\n",
      "수상한 그녀 %EC%98%81%ED%99%94%20%EC%88%98%EC%83%81%ED%95%9C%20%EA%B7%B8%EB%85%80%20%EC%A0%95%EB%B3%B4\n",
      "해적: 바다로 간 산적 %ED%95%B4%EC%A0%81%3A%20%EB%B0%94%EB%8B%A4%EB%A1%9C%20%EA%B0%84%20%EC%82%B0%EC%A0%81%20%EC%A0%95%EB%B3%B4\n",
      "국가대표 %EA%B5%AD%EA%B0%80%EB%8C%80%ED%91%9C2%20%EC%A0%95%EB%B3%B4\n",
      "디워 %EB%94%94%EC%9B%8C%3A%20%EB%AF%B8%EC%8A%A4%ED%85%8C%EB%A6%AC%EC%A6%88%20%EC%98%A4%EB%B8%8C%20%EB%8D%94%20%EB%93%9C%EB%9E%98%EA%B3%A4%20%EC%A0%95%EB%B3%B4\n",
      "백두산 %EC%98%81%ED%99%94%20%EB%B0%B1%EB%91%90%EC%82%B0%20%EC%A0%95%EB%B3%B4\n",
      "과속스캔들 %EA%B3%BC%EC%86%8D%EC%8A%A4%EC%BA%94%EB%93%A4%20%EC%A0%95%EB%B3%B4\n",
      "스파이더맨: 파 프롬 홈 %EC%8A%A4%ED%8C%8C%EC%9D%B4%EB%8D%94%EB%A7%A8%3A%20%ED%8C%8C%20%ED%94%84%EB%A1%AC%20%ED%99%88%20%EC%A0%95%EB%B3%B4\n",
      "웰컴 투 동막골 %EC%98%81%ED%99%94%20%EC%9B%B0%EC%BB%B4%20%ED%88%AC%20%EB%8F%99%EB%A7%89%EA%B3%A8%20%EC%A0%95%EB%B3%B4\n",
      "https://search.naver.com/search.naver?query=영화 공조 러닝타임 정보가져오기에 실패 하였습니다\n",
      "트랜스포머 3 %ED%8A%B8%EB%9E%9C%EC%8A%A4%ED%8F%AC%EB%A8%B8%203%20%EC%A0%95%EB%B3%B4\n",
      "히말라야 %EC%98%81%ED%99%94%20%ED%9E%88%EB%A7%90%EB%9D%BC%EC%95%BC%20%EC%A0%95%EB%B3%B4\n",
      "미션임파서블:고스트프로토콜 %EB%AF%B8%EC%85%98%20%EC%9E%84%ED%8C%8C%EC%84%9C%EB%B8%94%20%3A%20%EA%B3%A0%EC%8A%A4%ED%8A%B8%20%ED%94%84%EB%A1%9C%ED%86%A0%EC%BD%9C%20%EC%A0%95%EB%B3%B4\n",
      "트랜스포머: 패자의 역습 %EC%98%81%ED%99%94%20%ED%8A%B8%EB%9E%9C%EC%8A%A4%ED%8F%AC%EB%A8%B8%3A%20%ED%8C%A8%EC%9E%90%EC%9D%98%20%EC%97%AD%EC%8A%B5%20%EC%A0%95%EB%B3%B4\n",
      "밀정 %EC%98%81%ED%99%94%20%EB%B0%80%EC%A0%95%20%EC%A0%95%EB%B3%B4\n",
      "최종병기 활 %EC%B5%9C%EC%A2%85%EB%B3%91%EA%B8%B0%20%ED%99%9C%20%EC%A0%95%EB%B3%B4\n",
      "트랜스포머 %ED%8A%B8%EB%9E%9C%EC%8A%A4%ED%8F%AC%EB%A8%B8%3A%20%EB%B9%84%EC%8A%A4%ED%8A%B8%EC%9D%98%20%EC%84%9C%EB%A7%89%20%EC%A0%95%EB%B3%B4\n"
     ]
    }
   ],
   "source": [
    "import time\n",
    "\n",
    "url_template = \"https://search.naver.com/search.naver?query=\"\n",
    "running_time_collector = []\n",
    "failed_names = []\n",
    "# movie_name_list = ['태극기 휘날리며']\n",
    "info_url_list = []\n",
    "for movie_name in movie_name_list:\n",
    "    try:\n",
    "        url = f\"{url_template}영화 {movie_name}\"\n",
    "        response = requests.get(url)\n",
    "        soup = BeautifulSoup(response.text, 'lxml')\n",
    "        info_url = soup.find(\"ul\", class_=\"tab_list\").find_all(\"li\")[1].find(\"a\").get(\"href\").split(\"&query=\")[-1]\n",
    "        info_url_list.append((movie_name, info_url))\n",
    "        print(movie_name, info_url)\n",
    "        time.sleep(0.5)\n",
    "    except:\n",
    "        print(f\"{url} 러닝타임 정보가져오기에 실패 하였습니다\")\n",
    "        failed_names.append(movie_name)"
   ]
  },
  {
   "cell_type": "code",
   "execution_count": 81,
   "id": "0015f377-4014-4db3-9926-43a10e6a5874",
   "metadata": {},
   "outputs": [
    {
     "data": {
      "text/plain": [
       "'https://search.naver.com/search.naver?query=%EC%98%AC%EB%9D%BC%ED%94%84%EC%9D%98%20%EA%B2%A8%EC%9A%B8%EC%99%95%EA%B5%AD%20%EC%96%B4%EB%93%9C%EB%B2%A4%EC%B2%98%20%EC%A0%95%EB%B3%B4'"
      ]
     },
     "execution_count": 81,
     "metadata": {},
     "output_type": "execute_result"
    }
   ],
   "source": [
    "url_template+\"%EC%98%AC%EB%9D%BC%ED%94%84%EC%9D%98%20%EA%B2%A8%EC%9A%B8%EC%99%95%EA%B5%AD%20%EC%96%B4%EB%93%9C%EB%B2%A4%EC%B2%98%20%EC%A0%95%EB%B3%B4\""
   ]
  },
  {
   "cell_type": "code",
   "execution_count": 80,
   "id": "de1eada2-e632-4849-a22d-78f423c2140b",
   "metadata": {},
   "outputs": [
    {
     "name": "stdout",
     "output_type": "stream",
     "text": [
      "명량 128분\n",
      "극한직업 111분\n",
      "신과함께-죄와 벌 139분\n",
      "국제시장 126분\n",
      "어벤져스: 엔드게임 181분\n",
      "겨울왕국 2 103분\n",
      "아바타 192분\n",
      "베테랑 123분\n",
      "괴물 127분\n",
      "도둑들 135분\n",
      "7번방의 선물 127분\n",
      "암살 139분\n",
      "알라딘 128분\n",
      "광해, 왕이 된 남자 131분\n",
      "왕의 남자 119분\n",
      "신과함께-인과 연 141분\n",
      "택시운전사 137분\n",
      "태극기 휘날리며 145분\n",
      "부산행 116분\n",
      "해운대 120분\n",
      "변호인 127분\n",
      "어벤져스: 인피니티 워 149분\n",
      "실미도 135분\n",
      "어벤져스: 에이지 오브 울트론 141분\n",
      "기생충 131분\n",
      "실패 겨울왕국 %EC%98%AC%EB%9D%BC%ED%94%84%EC%9D%98%20%EA%B2%A8%EC%9A%B8%EC%99%95%EA%B5%AD%20%EC%96%B4%EB%93%9C%EB%B2%A4%EC%B2%98%20%EC%A0%95%EB%B3%B4\n",
      "인터스텔라 169분\n",
      "보헤미안 랩소디 134분\n",
      "검사외전 126분\n",
      "엑시트 103분\n",
      "관상 139분\n",
      "아이언맨 3 129분\n",
      "설국열차 125분\n",
      "캡틴 아메리카: 시빌 워 147분\n",
      "수상한 그녀 124분\n",
      "해적: 바다로 간 산적 130분\n",
      "국가대표 126분\n",
      "실패 디워 %EB%94%94%EC%9B%8C%3A%20%EB%AF%B8%EC%8A%A4%ED%85%8C%EB%A6%AC%EC%A6%88%20%EC%98%A4%EB%B8%8C%20%EB%8D%94%20%EB%93%9C%EB%9E%98%EA%B3%A4%20%EC%A0%95%EB%B3%B4\n",
      "백두산 128분\n",
      "과속스캔들 108분\n",
      "스파이더맨: 파 프롬 홈 129분\n",
      "웰컴 투 동막골 133분\n",
      "트랜스포머 3 152분\n",
      "히말라야 124분\n",
      "미션임파서블:고스트프로토콜 132분\n",
      "트랜스포머: 패자의 역습 149분\n",
      "밀정 140분\n",
      "최종병기 활 122분\n",
      "트랜스포머 127분\n"
     ]
    }
   ],
   "source": [
    "runtime_list = []\n",
    "for movie_name, info_url in info_url_list:\n",
    "    try:\n",
    "        url = url_template + info_url\n",
    "        response = requests.get(url)\n",
    "        soup = BeautifulSoup(response.text, 'lxml')\n",
    "        runtime = soup.find(\"dl\",class_=\"info\").find_all(\"div\")[4].find(\"dd\").text\n",
    "        runtime_list.append((movie_name, info_url, runtime))\n",
    "        print(movie_name, runtime)\n",
    "        time.sleep(0.5)\n",
    "    except:\n",
    "        print(\"실패\", movie_name, info_url)"
   ]
  },
  {
   "cell_type": "code",
   "execution_count": null,
   "id": "76165636-b483-495b-a496-7eee589fa088",
   "metadata": {},
   "outputs": [],
   "source": []
  },
  {
   "cell_type": "code",
   "execution_count": 70,
   "id": "909d4d8f-0a63-4a8c-9162-69169b88d594",
   "metadata": {},
   "outputs": [
    {
     "name": "stdout",
     "output_type": "stream",
     "text": [
      "hello\n"
     ]
    }
   ],
   "source": [
    "import time\n",
    "time.sleep(5)\n",
    "print(\"hello\")"
   ]
  },
  {
   "cell_type": "code",
   "execution_count": null,
   "id": "2bcc5902-6d5c-496d-9404-67e5835a550e",
   "metadata": {},
   "outputs": [],
   "source": [
    "        # response2 = requests.get(url+info_url)\n",
    "        # soup2 = BeautifulSoup(response2.text, 'lxml')\n",
    "        # runtime_info = soup.find(\"dl\",class_=\"info\").find_all(\"div\")[4].find(\"dd\").text\n",
    "        # running_time_collector.append(runtime_info)"
   ]
  },
  {
   "cell_type": "code",
   "execution_count": 53,
   "id": "384b6f30-29fb-4235-983f-dcc869fa1a66",
   "metadata": {},
   "outputs": [
    {
     "name": "stdout",
     "output_type": "stream",
     "text": [
      "https://search.naver.com/search.naver?query=영화 명량\n",
      "%EC%98%81%ED%99%94%20%EB%AA%85%EB%9F%89%20%EC%A0%95%EB%B3%B4\n",
      "https://search.naver.com/search.naver?query=영화 신세계\n",
      "%EC%8B%A0%EC%84%B8%EA%B3%84%201%20%EC%A0%95%EB%B3%B4\n",
      "https://search.naver.com/search.naver?query=영화 타짜\n",
      "실패! 타짜\n"
     ]
    }
   ],
   "source": [
    "url_template = \"https://search.naver.com/search.naver?query=\"\n",
    "movie_name_list = [\"명량\", \"신세계\", \"타짜\"]\n",
    "for movie_name in movie_name_list:\n",
    "    url = f\"{url_template}영화 {movie_name}\" \n",
    "    print(url)\n",
    "    \n",
    "    # 기본정보 URL 파싱\n",
    "    try:\n",
    "        response = requests.get(url)\n",
    "        soup = BeautifulSoup(response.text, \"lxml\")\n",
    "        info_url = soup.find(\"ul\", class_=\"tab_list\").find_all(\"li\")[1].find(\"a\").get(\"href\").split(\"&query=\")[-1]\n",
    "        print(info_url)\n",
    "    except:\n",
    "        print(\"실패!\", movie_name)\n",
    "    # running_time = soup.find(\"dl\", class_=\"info\").find_all(\"div\")[4].find(\"dd\").text\n",
    "    # print(moviename, running_time)"
   ]
  },
  {
   "cell_type": "code",
   "execution_count": null,
   "id": "3f347ea4-9f6c-4436-8162-c184f755b635",
   "metadata": {},
   "outputs": [],
   "source": [
    "!pip install lxml"
   ]
  },
  {
   "cell_type": "code",
   "execution_count": 29,
   "id": "650b091a-ceb8-42a4-90ba-303abf880c1c",
   "metadata": {},
   "outputs": [],
   "source": [
    "response = requests.get(url)"
   ]
  },
  {
   "cell_type": "code",
   "execution_count": 4,
   "id": "a1d303c4-d4e0-4d7f-8922-6e743e658935",
   "metadata": {},
   "outputs": [],
   "source": [
    "from bs4 import BeautifulSoup\n",
    "\n",
    "soup = BeautifulSoup(response.text, \"lxml\")"
   ]
  },
  {
   "cell_type": "code",
   "execution_count": 38,
   "id": "78ca9b4e-883f-46f4-9f4c-1bcd078eeefe",
   "metadata": {},
   "outputs": [
    {
     "data": {
      "text/plain": [
       "'128분'"
      ]
     },
     "execution_count": 38,
     "metadata": {},
     "output_type": "execute_result"
    }
   ],
   "source": [
    "soup.find(\"dl\", class_=\"info\").find_all(\"div\")[4].find(\"dd\").text"
   ]
  },
  {
   "cell_type": "code",
   "execution_count": 27,
   "id": "e6adbe78-715a-48f9-b8ba-3b73fad22948",
   "metadata": {},
   "outputs": [
    {
     "data": {
      "text/plain": [
       "' 러닝타임 128분 '"
      ]
     },
     "execution_count": 27,
     "metadata": {},
     "output_type": "execute_result"
    }
   ],
   "source": [
    "soup.find(\"dl\", class_=\"info\").find_all(\"div\")[-2].text"
   ]
  },
  {
   "cell_type": "code",
   "execution_count": 9,
   "id": "df2d6b11-97bc-4a42-9952-41cae680d278",
   "metadata": {},
   "outputs": [],
   "source": [
    "import time\n",
    "import requests\n",
    "from bs4 import BeautifulSoup\n",
    "\n",
    "url_template = \"https://search.naver.com/search.naver?query=\"\n",
    "\n",
    "lead_role_list=[]\n",
    "movie_name_list = [\"명량\", \"극한직업\"]\n",
    "\n",
    "for movie_name in movie_name_list:\n",
    "    try:\n",
    "        url = f\"{url_template}영화 {movie_name} 주연배우\"\n",
    "        response = requests.get(url)\n",
    "        soup = BeautifulSoup(response.text, 'lxml')\n",
    "        \n",
    "        lead_role_tag_list = soup.find_all(\"div\", class_=\"title_box\")\n",
    "        role_names = []\n",
    "        for lead_role_tag in lead_role_tag_list:\n",
    "            role_name = lead_role_tag.find(\"a\", class_=\"_text\").text.strip()\n",
    "            role_names.append(role_name)\n",
    "        lead_role_list.append((movie_name, role_names))\n",
    "        time.sleep(0.5)    \n",
    "    except Exception as e:\n",
    "        print(\"실패\", e)"
   ]
  },
  {
   "cell_type": "code",
   "execution_count": 10,
   "id": "2605f2db-a52d-42c5-ad3f-cfa38d19737b",
   "metadata": {},
   "outputs": [
    {
     "data": {
      "text/plain": [
       "[('명량', ['최민식', '류승룡', '조진웅']), ('극한직업', ['류승룡', '이하늬', '진선규', '이동휘', '공명'])]"
      ]
     },
     "execution_count": 10,
     "metadata": {},
     "output_type": "execute_result"
    }
   ],
   "source": [
    "lead_role_list"
   ]
  },
  {
   "cell_type": "code",
   "execution_count": 11,
   "id": "1eef5c99-009e-4310-a18e-d781bc80b81a",
   "metadata": {},
   "outputs": [],
   "source": [
    "import seaborn as sns"
   ]
  },
  {
   "cell_type": "code",
   "execution_count": 16,
   "id": "9c37ab5c-e66a-4896-94b6-937c3219844f",
   "metadata": {},
   "outputs": [
    {
     "name": "stdout",
     "output_type": "stream",
     "text": [
      "['NanumGothic']\n"
     ]
    },
    {
     "data": {
      "text/plain": [
       "<Axes: >"
      ]
     },
     "execution_count": 16,
     "metadata": {},
     "output_type": "execute_result"
    },
    {
     "name": "stderr",
     "output_type": "stream",
     "text": [
      "findfont: Font family 'NanumGothic' not found.\n",
      "findfont: Font family 'NanumGothic' not found.\n",
      "findfont: Font family 'NanumGothic' not found.\n",
      "findfont: Font family 'NanumGothic' not found.\n",
      "findfont: Font family 'NanumGothic' not found.\n",
      "findfont: Font family 'NanumGothic' not found.\n",
      "findfont: Font family 'NanumGothic' not found.\n",
      "findfont: Font family 'NanumGothic' not found.\n",
      "findfont: Font family 'NanumGothic' not found.\n",
      "findfont: Font family 'NanumGothic' not found.\n",
      "findfont: Font family 'NanumGothic' not found.\n",
      "findfont: Font family 'NanumGothic' not found.\n",
      "findfont: Font family 'NanumGothic' not found.\n",
      "findfont: Font family 'NanumGothic' not found.\n",
      "findfont: Font family 'NanumGothic' not found.\n",
      "findfont: Font family 'NanumGothic' not found.\n",
      "findfont: Font family 'NanumGothic' not found.\n",
      "findfont: Font family 'NanumGothic' not found.\n",
      "findfont: Font family 'NanumGothic' not found.\n",
      "findfont: Font family 'NanumGothic' not found.\n",
      "findfont: Font family 'NanumGothic' not found.\n",
      "findfont: Font family 'NanumGothic' not found.\n",
      "findfont: Font family 'NanumGothic' not found.\n",
      "findfont: Font family 'NanumGothic' not found.\n",
      "findfont: Font family 'NanumGothic' not found.\n",
      "findfont: Font family 'NanumGothic' not found.\n",
      "findfont: Font family 'NanumGothic' not found.\n",
      "findfont: Font family 'NanumGothic' not found.\n",
      "findfont: Font family 'NanumGothic' not found.\n",
      "findfont: Font family 'NanumGothic' not found.\n",
      "findfont: Font family 'NanumGothic' not found.\n",
      "findfont: Font family 'NanumGothic' not found.\n",
      "findfont: Font family 'NanumGothic' not found.\n",
      "findfont: Font family 'NanumGothic' not found.\n"
     ]
    },
    {
     "data": {
      "image/png": "[encoded data removed]",
      "text/plain": [
       "<Figure size 640x480 with 1 Axes>"
      ]
     },
     "metadata": {},
     "output_type": "display_data"
    }
   ],
   "source": [
    "import matplotlib.pyplot as plt\n",
    "\n",
    "plt.rc('font', family='NanumGothic') # For Windows\n",
    "print(plt.rcParams['font.family'])\n",
    "\n",
    "sns.barplot(x=[\"total\", \"highway\"], y=[260000, 1300])"
   ]
  },
  {
   "cell_type": "code",
   "execution_count": null,
   "id": "2e17272a-aceb-4ef2-9dc6-c7dcab11f50c",
   "metadata": {},
   "outputs": [],
   "source": []
  }
 ],
 "metadata": {
  "kernelspec": {
   "display_name": "Python 3 (ipykernel)",
   "language": "python",
   "name": "python3"
  },
  "language_info": {
   "codemirror_mode": {
    "name": "ipython",
    "version": 3
   },
   "file_extension": ".py",
   "mimetype": "text/x-python",
   "name": "python",
   "nbconvert_exporter": "python",
   "pygments_lexer": "ipython3",
   "version": "3.10.8"
  }
 },
 "nbformat": 4,
 "nbformat_minor": 5
}
