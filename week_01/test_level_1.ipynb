{
 "cells": [
  {
   "cell_type": "markdown",
   "id": "fde933d9-a556-4dc1-a650-6c9e86f179ab",
   "metadata": {},
   "source": [
    "## python 기본기 테스트 level 1\n",
    "\n",
    "본격적으로 수업을 진행하기에 앞서서 python 문법을 어느정도 숙지했는지 점검해보겠습니다.  \n",
    "너무 부담감을 느끼지 마시고, 천천히 풀 수 있는 만큼 풀어주시면 되겠습니다."
   ]
  },
  {
   "cell_type": "markdown",
   "id": "3bf12cb4-f199-470d-8f24-46776e74ea03",
   "metadata": {},
   "source": [
    "### Q1. 주어진 과일 이름 리스트를 key: 과일 이름, value: 개수 형태의 딕셔너리로 변경해보세요. for 문을 사용하세요."
   ]
  },
  {
   "cell_type": "code",
   "execution_count": null,
   "id": "16c524f6-6b43-41e3-b402-a3c70b68f5dd",
   "metadata": {},
   "outputs": [],
   "source": [
    "fruits = [\n",
    "    '수박', '메론', '당근', '수박', '메론', '수박', '메론', '수박', '메론', '당근', \n",
    "    '메론', '수박', '메론', '메론', '딸기', '메론', '딸기', '딸기', '수박', '딸기', \n",
    "    '참외', '수박', '딸기', '메론', '메론', '참외', '당근'\n",
    "] "
   ]
  },
  {
   "cell_type": "code",
   "execution_count": null,
   "id": "b7767f09-4429-449e-aad0-708290353798",
   "metadata": {},
   "outputs": [],
   "source": []
  },
  {
   "cell_type": "markdown",
   "id": "8e085df2-0faf-43bc-83f8-e170879f8140",
   "metadata": {},
   "source": [
    "### Q2. 수박, 딸기, 참외 개수의 총합을 구해보세요. dictionary.itmes()와 for문, 비구조 할당을 사용해보세요"
   ]
  },
  {
   "cell_type": "code",
   "execution_count": null,
   "id": "63e7e496-d281-42c4-b1f0-f99b027471bf",
   "metadata": {},
   "outputs": [],
   "source": []
  },
  {
   "cell_type": "markdown",
   "id": "6d26516b-2abb-4e4c-baf8-3f3ad138a4d4",
   "metadata": {},
   "source": [
    "### Q3. 손님들이 와서 메론을 1개, 참외를 2개 사갔습니다. 이를 딕셔너리에 반영하세요. 개수가 0개가되어 팔 수 없는 과일은 딕셔너리에서 삭제하세요."
   ]
  },
  {
   "cell_type": "code",
   "execution_count": null,
   "id": "03fb91b6-f79f-4505-81ce-c27d6c6dcc87",
   "metadata": {},
   "outputs": [],
   "source": []
  },
  {
   "cell_type": "markdown",
   "id": "ef4e5720-dbdb-4966-97f0-4248dbe9f227",
   "metadata": {},
   "source": [
    "### Q4. 과일 가게에 새로운 열대 과일들이 들어왔습니다. 망고 6개, 파파야 2개를 추가해주세요"
   ]
  },
  {
   "cell_type": "code",
   "execution_count": null,
   "id": "05f7fa15-de63-4cfc-a7e3-205eb7a2e4a0",
   "metadata": {},
   "outputs": [],
   "source": []
  },
  {
   "cell_type": "markdown",
   "id": "d14c1115-5007-49d5-a6f2-4b4714b806c7",
   "metadata": {},
   "source": [
    "### Q5. 과일 메뉴판을 만들겠습니다. for문과 dictionary items 문을 사용해서 과일 가게에서 현재 살 수 있는 과일 이름과 수량을 출력해보세요"
   ]
  },
  {
   "cell_type": "code",
   "execution_count": null,
   "id": "757f76c0-3e2c-4d49-b842-4f037accc035",
   "metadata": {},
   "outputs": [],
   "source": []
  },
  {
   "cell_type": "markdown",
   "id": "6670e794-559e-4f61-9a53-3a3dd89550c5",
   "metadata": {},
   "source": [
    "### Q6. 손님이 사고 싶은 과일과 수량을 말하면 지불해야할 금액을 출력하는 코드를 작성하세요. if else 문을 사용하시고, 팔 수 없는 과일을 물어봤을 떄는 에러를 내지 말고, \"그 과일은 팔 수 없습니다.\" 라고 출력하세요\n"
   ]
  },
  {
   "cell_type": "code",
   "execution_count": null,
   "id": "db7d8b26-7516-4fa5-a4f8-6422784ea0b0",
   "metadata": {},
   "outputs": [],
   "source": []
  }
 ],
 "metadata": {
  "kernelspec": {
   "display_name": "Python 3 (ipykernel)",
   "language": "python",
   "name": "python3"
  },
  "language_info": {
   "codemirror_mode": {
    "name": "ipython",
    "version": 3
   },
   "file_extension": ".py",
   "mimetype": "text/x-python",
   "name": "python",
   "nbconvert_exporter": "python",
   "pygments_lexer": "ipython3",
   "version": "3.10.8"
  }
 },
 "nbformat": 4,
 "nbformat_minor": 5
}
