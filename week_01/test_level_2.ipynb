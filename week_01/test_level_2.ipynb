{
 "cells": [
  {
   "cell_type": "markdown",
   "id": "f9f25ca3-d0c8-4cf4-95e4-b9cb5d0d66c1",
   "metadata": {},
   "source": [
    "## python 기본기 테스트 level 2\n",
    "\n",
    "본격적으로 수업을 진행하기에 앞서서 python 문법을 어느정도 숙지했는지 점검해보겠습니다.  \n",
    "너무 부담감을 느끼지 마시고, 천천히 풀 수 있는 만큼 풀어주시면 되겠습니다."
   ]
  },
  {
   "cell_type": "markdown",
   "id": "3acb2fde-9571-4ce2-8f85-7b9b31912db4",
   "metadata": {},
   "source": [
    "### 1. 학생 이름과 수학 성적, 국어 성적이 tuple로 묶여있는 리스트가 있습니다. 이를 학생 이름을 key, 수학 성적과 국어 성적이 튜플로 묶인 값을 value로 갖는 딕셔너리로 변경해보세요. for 문을 사용하세요."
   ]
  },
  {
   "cell_type": "code",
   "execution_count": 3,
   "id": "422e95bd-333f-4c5d-8b41-01007315f8ce",
   "metadata": {},
   "outputs": [],
   "source": [
    "score_list = [\n",
    "    (\"민수\", 90, 95),\n",
    "    (\"지영\", 45, 50),\n",
    "    (\"연수\", 70, 85),\n",
    "    (\"해인\", 80, 90),\n",
    "    (\"지아\", 55, 75),\n",
    "    (\"기덕\", 80, 85),\n",
    "    (\"우영\", 75, 95),\n",
    "    (\"강산\", 50, 55),\n",
    "    (\"연지\", 75, 65),\n",
    "    (\"동호\", 95,  90),\n",
    "]"
   ]
  },
  {
   "cell_type": "code",
   "execution_count": null,
   "id": "133bcdd0-dab5-4807-9cf2-ee9610c8959e",
   "metadata": {},
   "outputs": [],
   "source": []
  },
  {
   "cell_type": "markdown",
   "id": "84da2b5e-8e14-4dd3-b481-d81a67761c93",
   "metadata": {},
   "source": [
    "### 2.  for 문을 사용해서 학생 이름과 총점을 출력하세요"
   ]
  },
  {
   "cell_type": "code",
   "execution_count": null,
   "id": "2ed96552-6e54-4a0b-94d2-dd130375d5b2",
   "metadata": {},
   "outputs": [],
   "source": []
  },
  {
   "cell_type": "markdown",
   "id": "c8407529-4c60-4f23-8123-4460f3095382",
   "metadata": {},
   "source": [
    "### 3. 수학 문제 하나가 잘못되어 전원 정답 처리를 하게 되었습니다. 민수와 지아는 원래도 그 문제를 맞춰서 그대로 두고, 나머지 억울하게 틀린 학생들의 점수만 5점씩 올려주세요. for문과 if 문, continue, in 문법을 사용하세요"
   ]
  },
  {
   "cell_type": "code",
   "execution_count": null,
   "id": "5f0040da-e028-41fd-bfce-b0bbbf511eef",
   "metadata": {},
   "outputs": [],
   "source": []
  },
  {
   "cell_type": "markdown",
   "id": "9da0056f-c636-4b3d-8e34-3463f79725b6",
   "metadata": {},
   "source": [
    "### 4.  수학은 70점 이하일 경우 재시험 대상자입니다. 국어는 60점 이하일 경우 재시험 대상자입니다. 수학과 국어 각각 재시험 대상자를 출력하세요. for문을 사용하세요"
   ]
  },
  {
   "cell_type": "code",
   "execution_count": null,
   "id": "64b50871-5042-4875-860d-5130bb2858fd",
   "metadata": {},
   "outputs": [],
   "source": []
  }
 ],
 "metadata": {
  "kernelspec": {
   "display_name": "Python 3 (ipykernel)",
   "language": "python",
   "name": "python3"
  },
  "language_info": {
   "codemirror_mode": {
    "name": "ipython",
    "version": 3
   },
   "file_extension": ".py",
   "mimetype": "text/x-python",
   "name": "python",
   "nbconvert_exporter": "python",
   "pygments_lexer": "ipython3",
   "version": "3.10.8"
  }
 },
 "nbformat": 4,
 "nbformat_minor": 5
}
