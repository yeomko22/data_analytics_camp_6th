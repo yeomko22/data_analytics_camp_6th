{
 "cells": [
  {
   "cell_type": "markdown",
   "id": "ddb477a8-612a-4225-816f-1700d0598a92",
   "metadata": {},
   "source": [
    "# python 데이터 시각화\n",
    "\n",
    "이번 시간에는 python 코드를 이용해서 기본적인 시각화 자료를 만들어보겠습니다.  \n",
    "기본적인 데이터 시각화 라이브러리인 seaborn을 이용해서 시각화 자료를 만들어보겠습니다."
   ]
  },
  {
   "cell_type": "markdown",
   "id": "cdb453dc-d679-42d2-b4fe-e98404ef696b",
   "metadata": {},
   "source": [
    "## 시각화 라이브러리 설치"
   ]
  },
  {
   "cell_type": "code",
   "execution_count": 55,
   "id": "f3cddfa7-d7c1-45f5-8fab-b8f753c79270",
   "metadata": {},
   "outputs": [
    {
     "name": "stdout",
     "output_type": "stream",
     "text": [
      "Requirement already satisfied: seaborn in /Users/user/miniconda3/lib/python3.10/site-packages (0.12.2)\n",
      "Requirement already satisfied: numpy!=1.24.0,>=1.17 in /Users/user/miniconda3/lib/python3.10/site-packages (from seaborn) (1.25.0)\n",
      "Requirement already satisfied: pandas>=0.25 in /Users/user/miniconda3/lib/python3.10/site-packages (from seaborn) (1.5.1)\n",
      "Requirement already satisfied: matplotlib!=3.6.1,>=3.1 in /Users/user/miniconda3/lib/python3.10/site-packages (from seaborn) (3.7.1)\n",
      "Requirement already satisfied: contourpy>=1.0.1 in /Users/user/miniconda3/lib/python3.10/site-packages (from matplotlib!=3.6.1,>=3.1->seaborn) (1.0.7)\n",
      "Requirement already satisfied: cycler>=0.10 in /Users/user/miniconda3/lib/python3.10/site-packages (from matplotlib!=3.6.1,>=3.1->seaborn) (0.11.0)\n",
      "Requirement already satisfied: fonttools>=4.22.0 in /Users/user/miniconda3/lib/python3.10/site-packages (from matplotlib!=3.6.1,>=3.1->seaborn) (4.39.2)\n",
      "Requirement already satisfied: kiwisolver>=1.0.1 in /Users/user/miniconda3/lib/python3.10/site-packages (from matplotlib!=3.6.1,>=3.1->seaborn) (1.4.4)\n",
      "Requirement already satisfied: packaging>=20.0 in /Users/user/miniconda3/lib/python3.10/site-packages (from matplotlib!=3.6.1,>=3.1->seaborn) (22.0)\n",
      "Requirement already satisfied: pillow>=6.2.0 in /Users/user/miniconda3/lib/python3.10/site-packages (from matplotlib!=3.6.1,>=3.1->seaborn) (9.4.0)\n",
      "Requirement already satisfied: pyparsing>=2.3.1 in /Users/user/miniconda3/lib/python3.10/site-packages (from matplotlib!=3.6.1,>=3.1->seaborn) (3.0.9)\n",
      "Requirement already satisfied: python-dateutil>=2.7 in /Users/user/miniconda3/lib/python3.10/site-packages (from matplotlib!=3.6.1,>=3.1->seaborn) (2.8.2)\n",
      "Requirement already satisfied: pytz>=2020.1 in /Users/user/miniconda3/lib/python3.10/site-packages (from pandas>=0.25->seaborn) (2022.7)\n",
      "Requirement already satisfied: six>=1.5 in /Users/user/miniconda3/lib/python3.10/site-packages (from python-dateutil>=2.7->matplotlib!=3.6.1,>=3.1->seaborn) (1.16.0)\n",
      "\n",
      "\u001b[1m[\u001b[0m\u001b[34;49mnotice\u001b[0m\u001b[1;39;49m]\u001b[0m\u001b[39;49m A new release of pip is available: \u001b[0m\u001b[31;49m23.1.2\u001b[0m\u001b[39;49m -> \u001b[0m\u001b[32;49m23.3.1\u001b[0m\n",
      "\u001b[1m[\u001b[0m\u001b[34;49mnotice\u001b[0m\u001b[1;39;49m]\u001b[0m\u001b[39;49m To update, run: \u001b[0m\u001b[32;49mpip install --upgrade pip\u001b[0m\n"
     ]
    }
   ],
   "source": [
    "!pip install seaborn"
   ]
  },
  {
   "cell_type": "code",
   "execution_count": 56,
   "id": "16514b5b-48f7-4b99-bd2c-359ea55b8b64",
   "metadata": {},
   "outputs": [],
   "source": [
    "import seaborn as sns"
   ]
  },
  {
   "cell_type": "markdown",
   "id": "9a13189f-1cdc-42f5-ad89-7231dccf5efb",
   "metadata": {},
   "source": [
    "## DB에서 데이터 읽어오기\n",
    "\n",
    "데이터를 전처리하거나 시각화를 하려면 pandas 라이브러리를 사용하는 것이 편합니다.  \n",
    "보통 DB로부터 SQL문을 사용해서 원하는 데이터만 1차적으로 가져오고,  \n",
    "이를 pandas를 이용해서 가공합니다.  \n",
    "우리는 DB로부터 타이타닉 데이터 셋을 읽어와서 pandas dataframe을 생성해보겠습니다.\n",
    "\n",
    "이번 시간에는 데이터 시각화 맛보기를 하기 위해서 pandas를 사용합니다.  \n",
    "pandas에 대해서는 세미 프로젝트 이후에 따로 자세히 배워볼 예정입니다.  \n",
    "pandas 문법 자체에 너무 신경쓰지 말고 따라와주세요!"
   ]
  },
  {
   "cell_type": "code",
   "execution_count": 57,
   "id": "d28fc282-8bc2-48a0-b0a7-b12cc7c37549",
   "metadata": {},
   "outputs": [],
   "source": []
  },
  {
   "cell_type": "markdown",
   "id": "424d8b5c-3709-4945-bb41-394cb37ad780",
   "metadata": {},
   "source": [
    "## bar graph\n",
    "\n",
    "막대 그래프는 가장 기본적인 시각화로 주로 빈도 수를 시각화할 때 사용합니다."
   ]
  },
  {
   "cell_type": "markdown",
   "id": "b9fbb5c5-ead3-475a-a4f1-bf4608d60014",
   "metadata": {},
   "source": [
    "### 생존자와 사망자"
   ]
  },
  {
   "cell_type": "code",
   "execution_count": null,
   "id": "4520d119-7a77-4fb0-abf9-768ddc5fbbf6",
   "metadata": {},
   "outputs": [],
   "source": []
  },
  {
   "cell_type": "markdown",
   "id": "d3444172-bc00-4124-a4fa-8ee9b9222a4d",
   "metadata": {},
   "source": [
    "### 생존자, 사망자별 남성, 여성 탑승객 수"
   ]
  },
  {
   "cell_type": "code",
   "execution_count": null,
   "id": "3a7f6d70-9836-41b8-ad22-5478aa97476a",
   "metadata": {},
   "outputs": [],
   "source": []
  },
  {
   "cell_type": "markdown",
   "id": "619d9fc7-3e72-4130-8ce1-e10a402746ae",
   "metadata": {},
   "source": [
    "### 승선지 별 탑승객"
   ]
  },
  {
   "cell_type": "code",
   "execution_count": null,
   "id": "36801293-ced8-4ada-94ca-7b7030e3bff5",
   "metadata": {},
   "outputs": [],
   "source": []
  },
  {
   "cell_type": "markdown",
   "id": "c4fc0eae-f309-4577-a2a1-b44cfddfb27a",
   "metadata": {},
   "source": [
    "### 승선지, 좌석 등급별 탑승객"
   ]
  },
  {
   "cell_type": "code",
   "execution_count": null,
   "id": "589d30fa-bd2e-470d-8834-1a668dd28ea8",
   "metadata": {},
   "outputs": [],
   "source": []
  },
  {
   "cell_type": "markdown",
   "id": "2473ab00-00ef-4a27-9fe2-a06511bb0aea",
   "metadata": {},
   "source": [
    "## 연습 문제\n",
    "\n",
    "1. 생존 여부에 따른 각 좌석 등급별 탑승객 수를 bar 그래프로 표현하세요.\n",
    "2. 각 좌석 등급별로 남성 탑승객과 여성 탑승객 수를 bar 그래프로 표현하세요."
   ]
  },
  {
   "cell_type": "markdown",
   "id": "bed6aa74-28e2-47e0-a2fe-9c0f7ef5c463",
   "metadata": {},
   "source": [
    "## 히스토그램\n",
    "\n",
    "히스토그램이란 자료의 구간을 나눠서 빈도 수를 집계하는 대표적인 시각화 유형입니다. 주로 연속형 자료의 분포를 시각화 할 때 사용합니다. 자료의 분포에 대해서 상당한 인사이트를 제공해주어, 거의 모든 데이터 분석 시에 활용됩니다."
   ]
  },
  {
   "cell_type": "markdown",
   "id": "3b62ff02-8adb-4be5-9e17-527c6a77ca7c",
   "metadata": {},
   "source": [
    "### 운임 히스토그램\n",
    "\n",
    "승객들이 지불한 운임의 histogram을 그려보겠습니다."
   ]
  },
  {
   "cell_type": "code",
   "execution_count": null,
   "id": "df72356c-cee6-4a9c-920c-0c51fdd8b7b8",
   "metadata": {},
   "outputs": [],
   "source": []
  },
  {
   "cell_type": "markdown",
   "id": "d7104767-e7d4-42f7-b7ba-41663e61b474",
   "metadata": {},
   "source": [
    "### 좌석 등급별 지불 운임 히스토그램"
   ]
  },
  {
   "cell_type": "code",
   "execution_count": null,
   "id": "6c913819-98f1-4db9-adb8-f0c84a19e73b",
   "metadata": {},
   "outputs": [],
   "source": []
  },
  {
   "cell_type": "markdown",
   "id": "9f99aa1f-951e-41d6-afe5-53cfdcc560b3",
   "metadata": {},
   "source": [
    "### 연습 문제\n",
    "1. 전체 탑승객의 연령을 히스토그램으로 표현하세요.\n",
    "2. 생존자의 연령 히스토그램과 사망자의 연령 히스토그램을 각각 표현하세요."
   ]
  },
  {
   "cell_type": "markdown",
   "id": "fe2d916d-7fa2-4edf-b2e5-7441e502f1ea",
   "metadata": {},
   "source": [
    "## Scatter Plot\n",
    "\n",
    "scatter plot은 서로 다른 두 연속형 확률 변수의 관계를 시각화 할 때 사용합니다."
   ]
  },
  {
   "cell_type": "code",
   "execution_count": null,
   "id": "6c91ac58-1fe0-4ed1-a63f-cb4820ece926",
   "metadata": {},
   "outputs": [],
   "source": []
  },
  {
   "cell_type": "markdown",
   "id": "ef185a6d-98f0-42cd-bf4d-870048314304",
   "metadata": {},
   "source": [
    "## Heatmap\n",
    "히트맵(heatmap)은 데이터의 값에 따라 색상을 사용하여 행과 열의 관계를 시각화하는 방법입니다. 주로 2차원 데이터를 표현하기 위해 사용되며, 데이터의 패턴, 상관 관계, 변화 등을 시각적으로 파악하는 데 유용합니다."
   ]
  },
  {
   "cell_type": "code",
   "execution_count": null,
   "id": "4da706d9-73e3-4c00-b956-ce43f086cfde",
   "metadata": {},
   "outputs": [],
   "source": []
  },
  {
   "cell_type": "markdown",
   "id": "b66c7d6a-f33d-4d70-9ba8-0aece259712c",
   "metadata": {},
   "source": [
    "## Boxplot\n",
    "\n",
    "데이터의 분포를 파악할 때 요긴하게 사용되는 plot 중에 하나입니다. boxplot은 데이터 셋의 최대, 최소값, 중앙값, 전반적인 분포와 outlier의 분포를 확인하기 위해서 많이 사용됩니다. 개념을 설명드리기에 앞서서 한번 그려보겠습니다."
   ]
  },
  {
   "attachments": {
    "26c8d98c-c01d-47da-b940-ae249804c8b2.png": {
     "image/png": "[encoded data removed]"
    }
   },
   "cell_type": "markdown",
   "id": "1a994ab0-b6ab-4738-8ce0-b0f930bd87f5",
   "metadata": {},
   "source": [
    "![스크린샷 2023-11-08 오후 7.33.32.png](attachment:26c8d98c-c01d-47da-b940-ae249804c8b2.png)"
   ]
  },
  {
   "cell_type": "markdown",
   "id": "23df5af6-a65f-4405-81f2-541595ec4e30",
   "metadata": {},
   "source": [
    "boxplot을 이해하기 위해서는 먼저 4분위수(quantile)를 이해해야 합니다. 4 분위 수란 데이터를 크기 순으로 정렬 한 뒤, 4등분을 나누어 25% 지점, 50% 지점, 75% 지점, 100% 지점에 해당하는 자료를 가져온 것입니다. 만일 5등분을 했다면 5분위수, 6등분을 했다면 6분위 수가 됩니다.\n",
    "\n",
    "boxplot 1분위 수부터 3분위 수까지 범위를 박스로 그려줍니다. 그리고 2분위 수, 중간 값은 노란색 선으로 표시해줍니다. 박스의 길이는 IQR이라고 부릅니다.\n",
    "\n",
    "$$IQR=Q3-Q1$$\n",
    "\n",
    "boxplot에서 박스 위아래로 그어진 선은 IQR을 이용해서 계산된 값입니다. 위쪽으로는 Q3 + 1.5 * IQR, 아래쪽으로는 Q1 - 1.5. IQR입니다. 이 최대 최솟값을 벗어나는 데이터는 outlier로 간주되어 원으로 표시됩니다.\n",
    "\n",
    "앞서 그린 다이아몬드 가격 boxplot을 다시 살펴보겠습니다. 다이아 가격은 대략 1000달러에서 5000 달러 사이에 분포하고 있고, 중간 값은 2000달러 정도입니다. 그리고 최대값 위쪽으로 outlier들이 집계되는 것으로 보아 다이아몬드 가격은 고가품일 수록 가격이 급격하게 늘어난다는걸 알 수 있습니다."
   ]
  },
  {
   "cell_type": "code",
   "execution_count": null,
   "id": "f843b94d-9438-424a-bf9c-6a74fa4e4655",
   "metadata": {},
   "outputs": [],
   "source": []
  },
  {
   "cell_type": "markdown",
   "id": "2a41a3fc-102f-463f-a26c-4d6fe778daad",
   "metadata": {},
   "source": [
    "### 좌석 등급별 지불 운임 박스플랏"
   ]
  },
  {
   "cell_type": "code",
   "execution_count": null,
   "id": "80192754-b824-4a5b-a7bb-bc8a65142ac3",
   "metadata": {},
   "outputs": [],
   "source": []
  },
  {
   "cell_type": "markdown",
   "id": "3990c84f-6963-49eb-bfa9-a38c88faecc0",
   "metadata": {},
   "source": [
    "### 연습 문제\n",
    "\n",
    "생존 여부별 연령의 박스 플랏을 그려보세요."
   ]
  },
  {
   "cell_type": "code",
   "execution_count": null,
   "id": "48a9da9f-e9c9-4d4b-946a-562898d15a9a",
   "metadata": {},
   "outputs": [],
   "source": []
  }
 ],
 "metadata": {
  "kernelspec": {
   "display_name": "Python 3 (ipykernel)",
   "language": "python",
   "name": "python3"
  },
  "language_info": {
   "codemirror_mode": {
    "name": "ipython",
    "version": 3
   },
   "file_extension": ".py",
   "mimetype": "text/x-python",
   "name": "python",
   "nbconvert_exporter": "python",
   "pygments_lexer": "ipython3",
   "version": "3.10.8"
  }
 },
 "nbformat": 4,
 "nbformat_minor": 5
}
