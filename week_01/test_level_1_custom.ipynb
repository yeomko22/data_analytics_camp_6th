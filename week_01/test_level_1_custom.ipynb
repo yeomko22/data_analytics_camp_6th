{
 "cells": [
  {
   "cell_type": "markdown",
   "id": "f9f25ca3-d0c8-4cf4-95e4-b9cb5d0d66c1",
   "metadata": {},
   "source": [
    "## python 기본기 테스트 level 1 \n",
    "\n",
    "본격적으로 수업을 진행하기에 앞서서 python 문법을 어느정도 숙지했는지 점검해보겠습니다.  \n",
    "너무 부담감을 느끼지 마시고, 천천히 풀 수 있는 만큼 풀어주시면 되겠습니다."
   ]
  },
  {
   "cell_type": "markdown",
   "id": "f0e6d11a-6890-4207-9f01-749115695b46",
   "metadata": {},
   "source": [
    "### 문제 설명\n",
    "\n",
    "학생 이름과 수학 점수, 국어 점수가 하나의 튜플로 묶여있는 값들의 리스트가 있습니다.  \n",
    "python의 여러 문법들과 list의 기능을 활용해서 아래 문제들을 풀어보세요."
   ]
  },
  {
   "cell_type": "code",
   "execution_count": 2,
   "id": "422e95bd-333f-4c5d-8b41-01007315f8ce",
   "metadata": {},
   "outputs": [],
   "source": [
    "score_list = [\n",
    "    (\"민수\", 90, 95),\n",
    "    (\"지영\", 45, 50),\n",
    "    (\"연수\", 70, 85),\n",
    "    (\"해인\", 80, 90),\n",
    "    (\"지아\", 55, 75),\n",
    "    (\"기덕\", 80, 85),\n",
    "    (\"우영\", 75, 95),\n",
    "    (\"강산\", 50, 55),\n",
    "    (\"연지\", 75, 65),\n",
    "    (\"동호\", 95,  90),\n",
    "]"
   ]
  },
  {
   "cell_type": "markdown",
   "id": "84da2b5e-8e14-4dd3-b481-d81a67761c93",
   "metadata": {
    "tags": []
   },
   "source": [
    "### Q1. 총점 출력하기\n",
    "리스트를 순회하면서 모든 학생들의 이름과 총점을 출력하세요.  \n",
    "for문을 사용해서 구현해보세요."
   ]
  },
  {
   "cell_type": "code",
   "execution_count": 6,
   "id": "2ed96552-6e54-4a0b-94d2-dd130375d5b2",
   "metadata": {},
   "outputs": [
    {
     "name": "stdout",
     "output_type": "stream",
     "text": [
      "민수 185\n",
      "지영 95\n",
      "연수 155\n",
      "해인 170\n",
      "지아 130\n",
      "기덕 165\n",
      "우영 170\n",
      "강산 105\n",
      "연지 140\n",
      "동호 185\n"
     ]
    }
   ],
   "source": [
    "for i in range(len(score_list)):\n",
    "    name, math_score, korean_score = score_list[i]\n",
    "    print(name, math_score + korean_score)"
   ]
  },
  {
   "cell_type": "code",
   "execution_count": 7,
   "id": "ada33c45-5b26-4885-a3c2-caa5393f009c",
   "metadata": {},
   "outputs": [
    {
     "name": "stdout",
     "output_type": "stream",
     "text": [
      "민수 185\n",
      "지영 95\n",
      "연수 155\n",
      "해인 170\n",
      "지아 130\n",
      "기덕 165\n",
      "우영 170\n",
      "강산 105\n",
      "연지 140\n",
      "동호 185\n"
     ]
    }
   ],
   "source": [
    "for name, math_score, korean_score in score_list:\n",
    "    print(name, math_score + korean_score)"
   ]
  },
  {
   "cell_type": "markdown",
   "id": "c8407529-4c60-4f23-8123-4460f3095382",
   "metadata": {},
   "source": [
    "### Q2. 잘못된 문제 정답처리하기\n",
    "\n",
    "수학 문제 하나가 잘못되어 전원 정답 처리를 하게 되었습니다.  \n",
    "민수와 지아는 원래도 그 문제를 맞춰서 그대로 두고, 나머지 억울하게 틀린 학생들의 점수만 5점씩 올려주세요.   \n",
    "\n",
    "new_score_list라는 배열을 만들고, (\"이름\", \"수정된 수학 점수\", \"국어 점수\") 튜플을 하나씩 추가해보세요.  \n",
    "for문과 if 문, continue 문법을 사용해보세요."
   ]
  },
  {
   "cell_type": "code",
   "execution_count": 8,
   "id": "5f0040da-e028-41fd-bfce-b0bbbf511eef",
   "metadata": {},
   "outputs": [
    {
     "name": "stdout",
     "output_type": "stream",
     "text": [
      "[('민수', 90, 95), ('지영', 50, 50), ('연수', 75, 85), ('해인', 85, 90), ('지아', 55, 75), ('기덕', 85, 85), ('우영', 80, 95), ('강산', 55, 55), ('연지', 80, 65), ('동호', 100, 90)]\n"
     ]
    }
   ],
   "source": [
    "new_score_list = []\n",
    "\n",
    "for name, math_score, korean_score in score_list:\n",
    "    if name in (\"민수\", \"지아\"):\n",
    "        new_score_list.append((name, math_score, korean_score))\n",
    "    else:\n",
    "        new_score_list.append((name, math_score + 5, korean_score))\n",
    "\n",
    "print(new_score_list)"
   ]
  },
  {
   "cell_type": "markdown",
   "id": "9da0056f-c636-4b3d-8e34-3463f79725b6",
   "metadata": {},
   "source": [
    "### Q3. 재시험 대상자 출력하기  \n",
    "수학은 70점 이하, 국어는 60점 이하일 경우 재시험 대상자입니다.  \n",
    "new_score_list를 순회하면서 각 과목별 재시험 대상자들을 출력해보세요.  \n",
    "if문과 for문을 사용하세요."
   ]
  },
  {
   "cell_type": "code",
   "execution_count": 11,
   "id": "45a55844-f0e4-4ba7-8f4e-8a9386f0c391",
   "metadata": {},
   "outputs": [
    {
     "name": "stdout",
     "output_type": "stream",
     "text": [
      "수학 재시험 대상자입니다. 이름: 지영\n",
      "수학 재시험 대상자입니다. 이름: 지아\n",
      "수학 재시험 대상자입니다. 이름: 강산\n",
      "국어 재시험 대상자입니다. 이름: 지영\n",
      "국어 재시험 대상자입니다. 이름: 강산\n"
     ]
    }
   ],
   "source": [
    "for name, math_score, korean_score in new_score_list:\n",
    "    if math_score <= 70:\n",
    "        print(f\"수학 재시험 대상자입니다. 이름: {name}\")\n",
    "        \n",
    "for name, math_score, korean_score in new_score_list:\n",
    "    if korean_score <= 60:\n",
    "        print(f\"국어 재시험 대상자입니다. 이름: {name}\")"
   ]
  },
  {
   "cell_type": "markdown",
   "id": "85e83f52-a570-43fa-aa36-6d402366026b",
   "metadata": {},
   "source": [
    "### Q4. 성적 우수자 출력하기\n",
    "\n",
    "성적이 우수한 학생들의 이름을 순서대로 출력해보고자 합니다.  \n",
    "총점이 가장 높은 순서대로 학생이름과 총점을 출력해보세요.  \n",
    "\n",
    "만약 총점이 동점이라면 국어 점수가 더 높은 학생을 우선적으로 출력하세요.  \n",
    "수학 점수와 국어 점수가 모두 동점인 경우는 고려하지 않습니다.  \n",
    "sorted 문법을 사용해서 풀어보세요."
   ]
  },
  {
   "cell_type": "code",
   "execution_count": 21,
   "id": "9d65d546-c227-4942-8bdf-686d934383c2",
   "metadata": {},
   "outputs": [
    {
     "data": {
      "text/plain": [
       "[('동호', 100, 90),\n",
       " ('민수', 90, 95),\n",
       " ('우영', 80, 95),\n",
       " ('해인', 85, 90),\n",
       " ('기덕', 85, 85),\n",
       " ('연수', 75, 85),\n",
       " ('연지', 80, 65),\n",
       " ('지아', 55, 75),\n",
       " ('강산', 55, 55),\n",
       " ('지영', 50, 50)]"
      ]
     },
     "execution_count": 21,
     "metadata": {},
     "output_type": "execute_result"
    }
   ],
   "source": [
    "sorted(new_score_list, key=lambda x: (x[1] + x[2], x[2], x[1]), reverse=True)"
   ]
  },
  {
   "cell_type": "code",
   "execution_count": null,
   "id": "7fd139ba-144c-4113-946e-2be65845b895",
   "metadata": {},
   "outputs": [],
   "source": []
  }
 ],
 "metadata": {
  "kernelspec": {
   "display_name": "Python 3 (ipykernel)",
   "language": "python",
   "name": "python3"
  },
  "language_info": {
   "codemirror_mode": {
    "name": "ipython",
    "version": 3
   },
   "file_extension": ".py",
   "mimetype": "text/x-python",
   "name": "python",
   "nbconvert_exporter": "python",
   "pygments_lexer": "ipython3",
   "version": "3.10.8"
  }
 },
 "nbformat": 4,
 "nbformat_minor": 5
}
